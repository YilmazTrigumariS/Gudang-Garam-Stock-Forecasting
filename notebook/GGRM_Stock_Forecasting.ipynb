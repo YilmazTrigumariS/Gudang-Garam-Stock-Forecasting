{
 "cells": [
  {
   "cell_type": "code",
   "execution_count": 3,
   "id": "b065e267-4f58-4a5c-9e57-e61173885740",
   "metadata": {},
   "outputs": [],
   "source": [
    "import numpy as np\n",
    "import pandas as pd\n",
    "import matplotlib.pyplot as plt\n",
    "import seaborn as sns\n",
    "import category_encoders as ce\n",
    "import warnings\n",
    "warnings.filterwarnings(\"ignore\")\n",
    "\n",
    "# Forecasting\n",
    "import prophet\n",
    "from statsmodels.tsa.arima.model import ARIMA\n",
    "from statsmodels.graphics.tsaplots import plot_acf, plot_pacf\n",
    "from statsmodels.tsa.stattools import acf, pacf"
   ]
  },
  {
   "cell_type": "code",
   "execution_count": 5,
   "id": "3b2f07d1-4417-49bb-afbf-2581115a24e5",
   "metadata": {},
   "outputs": [
    {
     "data": {
      "text/html": [
       "<div>\n",
       "<style scoped>\n",
       "    .dataframe tbody tr th:only-of-type {\n",
       "        vertical-align: middle;\n",
       "    }\n",
       "\n",
       "    .dataframe tbody tr th {\n",
       "        vertical-align: top;\n",
       "    }\n",
       "\n",
       "    .dataframe thead th {\n",
       "        text-align: right;\n",
       "    }\n",
       "</style>\n",
       "<table border=\"1\" class=\"dataframe\">\n",
       "  <thead>\n",
       "    <tr style=\"text-align: right;\">\n",
       "      <th></th>\n",
       "      <th>Unnamed: 0</th>\n",
       "      <th>ds</th>\n",
       "      <th>y</th>\n",
       "    </tr>\n",
       "  </thead>\n",
       "  <tbody>\n",
       "    <tr>\n",
       "      <th>0</th>\n",
       "      <td>0</td>\n",
       "      <td>2021-02-05</td>\n",
       "      <td>32318.501953</td>\n",
       "    </tr>\n",
       "    <tr>\n",
       "      <th>1</th>\n",
       "      <td>1</td>\n",
       "      <td>2021-02-06</td>\n",
       "      <td>32318.501953</td>\n",
       "    </tr>\n",
       "    <tr>\n",
       "      <th>2</th>\n",
       "      <td>2</td>\n",
       "      <td>2021-02-07</td>\n",
       "      <td>32318.501953</td>\n",
       "    </tr>\n",
       "    <tr>\n",
       "      <th>3</th>\n",
       "      <td>3</td>\n",
       "      <td>2021-02-08</td>\n",
       "      <td>32256.154297</td>\n",
       "    </tr>\n",
       "    <tr>\n",
       "      <th>4</th>\n",
       "      <td>4</td>\n",
       "      <td>2021-02-09</td>\n",
       "      <td>32235.369141</td>\n",
       "    </tr>\n",
       "    <tr>\n",
       "      <th>...</th>\n",
       "      <td>...</td>\n",
       "      <td>...</td>\n",
       "      <td>...</td>\n",
       "    </tr>\n",
       "    <tr>\n",
       "      <th>1456</th>\n",
       "      <td>1456</td>\n",
       "      <td>2025-01-31</td>\n",
       "      <td>11250.000000</td>\n",
       "    </tr>\n",
       "    <tr>\n",
       "      <th>1457</th>\n",
       "      <td>1457</td>\n",
       "      <td>2025-02-01</td>\n",
       "      <td>11250.000000</td>\n",
       "    </tr>\n",
       "    <tr>\n",
       "      <th>1458</th>\n",
       "      <td>1458</td>\n",
       "      <td>2025-02-02</td>\n",
       "      <td>11250.000000</td>\n",
       "    </tr>\n",
       "    <tr>\n",
       "      <th>1459</th>\n",
       "      <td>1459</td>\n",
       "      <td>2025-02-03</td>\n",
       "      <td>10875.000000</td>\n",
       "    </tr>\n",
       "    <tr>\n",
       "      <th>1460</th>\n",
       "      <td>1460</td>\n",
       "      <td>2025-02-04</td>\n",
       "      <td>11125.000000</td>\n",
       "    </tr>\n",
       "  </tbody>\n",
       "</table>\n",
       "<p>1461 rows × 3 columns</p>\n",
       "</div>"
      ],
      "text/plain": [
       "      Unnamed: 0          ds             y\n",
       "0              0  2021-02-05  32318.501953\n",
       "1              1  2021-02-06  32318.501953\n",
       "2              2  2021-02-07  32318.501953\n",
       "3              3  2021-02-08  32256.154297\n",
       "4              4  2021-02-09  32235.369141\n",
       "...          ...         ...           ...\n",
       "1456        1456  2025-01-31  11250.000000\n",
       "1457        1457  2025-02-01  11250.000000\n",
       "1458        1458  2025-02-02  11250.000000\n",
       "1459        1459  2025-02-03  10875.000000\n",
       "1460        1460  2025-02-04  11125.000000\n",
       "\n",
       "[1461 rows x 3 columns]"
      ]
     },
     "execution_count": 5,
     "metadata": {},
     "output_type": "execute_result"
    }
   ],
   "source": [
    "df=pd.read_csv('cast.csv')\n",
    "df"
   ]
  },
  {
   "cell_type": "code",
   "execution_count": 3,
   "id": "acfee318-bd19-4e56-9535-807b9186b387",
   "metadata": {},
   "outputs": [],
   "source": [
    "# df=df.drop(columns=['Unnamed: 0'])\n",
    "# df"
   ]
  },
  {
   "cell_type": "code",
   "execution_count": 4,
   "id": "562d1607-b417-499c-a4bd-cdc0444ef5dd",
   "metadata": {},
   "outputs": [],
   "source": [
    "# # Ensure 'Date' is a datetime type\n",
    "# df['ds'] = pd.to_datetime(df['ds'])\n",
    "\n",
    "# # Sort the data by date\n",
    "# df = df.sort_values(by='ds')\n",
    "\n",
    "# df.info()"
   ]
  },
  {
   "cell_type": "code",
   "execution_count": 5,
   "id": "d2f9bc54-3d11-400f-aee5-d5e39753c0d0",
   "metadata": {},
   "outputs": [],
   "source": [
    "# df.describe(exclude='datetime')"
   ]
  },
  {
   "cell_type": "code",
   "execution_count": 6,
   "id": "af1e7dfe-51f8-4e7e-bca2-5dd54dda5428",
   "metadata": {},
   "outputs": [],
   "source": [
    "# df.isna().sum()"
   ]
  },
  {
   "cell_type": "markdown",
   "id": "431c7de3-6efd-4169-8f29-63d56ce08760",
   "metadata": {},
   "source": [
    "`Spliting Data`"
   ]
  },
  {
   "cell_type": "code",
   "execution_count": 8,
   "id": "35e83d41-fe86-4829-b580-57ce89ddcda1",
   "metadata": {},
   "outputs": [],
   "source": [
    "# # Define the split based on years\n",
    "# df_train = df[df['ds'] < '2024-01-01']\n",
    "# df_valid = df[df['ds'] >= '2024-01-01']\n",
    "\n",
    "# # Check the split\n",
    "# print(\"Training set:\", df_train.shape)\n",
    "# print(\"Validation set:\", df_valid.shape)"
   ]
  },
  {
   "cell_type": "code",
   "execution_count": 9,
   "id": "e059a0bf-d885-4fad-9ad5-8a7f3597d48b",
   "metadata": {},
   "outputs": [],
   "source": [
    "# display(df_train, df_valid)"
   ]
  },
  {
   "cell_type": "markdown",
   "id": "56f330ae-da46-4ec1-846e-f819ebf18565",
   "metadata": {},
   "source": [
    "`EDA`"
   ]
  },
  {
   "cell_type": "code",
   "execution_count": 11,
   "id": "89a3892a-fde4-4d42-8b75-34413ec47116",
   "metadata": {},
   "outputs": [],
   "source": [
    "# plt.figure(figsize=(35,15))\n",
    "# sns.lineplot(data=df, x='ds', y='y')\n",
    "# plt.xticks(rotation=45, fontsize=20)\n",
    "# plt.yticks(fontsize=20) \n",
    "# plt.xlabel(\"Date\", fontsize=25) \n",
    "# plt.ylabel(\"Stock Price\", fontsize=25)\n",
    "# plt.title(\"Gudang Garam Stock Price Trend\", fontsize=30) \n",
    "# plt.grid()\n",
    "# plt.show()"
   ]
  },
  {
   "cell_type": "code",
   "execution_count": 12,
   "id": "b39d2eed-3096-4152-b0c8-ce2d984e50a8",
   "metadata": {},
   "outputs": [],
   "source": [
    "# # Attempting to save the visualizations again for monthly and yearly boxplots separately\n",
    "\n",
    "# # Monthly Boxplot\n",
    "# plt.figure(figsize=(12, 6))\n",
    "# sns.boxplot(x=df['month'], y=df['y'], palette='coolwarm', flierprops={'marker': 'o', 'color': 'black', 'markersize': 5})\n",
    "# plt.title('Stock Price Distribution by Month')\n",
    "# plt.xlabel('Month')\n",
    "# plt.ylabel('Stock Price')\n",
    "# plt.grid()\n",
    "# plt.tight_layout()\n",
    "# plt.savefig('monthly_boxplot_v2.png')\n",
    "# plt.close()\n",
    "\n",
    "# # Yearly Boxplot (Excluding 2025)\n",
    "# plt.figure(figsize=(12, 6))\n",
    "# sns.boxplot(x=df_filtered['year'], y=df_filtered['y'], palette='coolwarm', flierprops={'marker': 'o', 'color': 'black', 'markersize': 5})\n",
    "# plt.title('Stock Price Distribution by Year (Excluding 2025)')\n",
    "# plt.xlabel('Year')\n",
    "# plt.ylabel('Stock Price')\n",
    "# plt.grid()\n",
    "# plt.tight_layout()\n",
    "# plt.savefig('yearly_boxplot_v2.png')\n",
    "# plt.close()\n",
    "\n",
    "# # Provide the paths\n",
    "# monthly_path = 'monthly_boxplot_v2.png'\n",
    "# yearly_path = 'yearly_boxplot_v2.png'\n",
    "\n",
    "# monthly_path, yearly_path\n"
   ]
  },
  {
   "cell_type": "code",
   "execution_count": 13,
   "id": "d0785ff2-82bf-445d-bfc4-b38d8e7cc9fc",
   "metadata": {},
   "outputs": [],
   "source": [
    "# # Plot ACF and PACF\n",
    "# plt.figure(figsize=(12, 6))\n",
    "# plt.subplot(121)\n",
    "# plot_acf(df['Close'], lags=20, ax=plt.gca())\n",
    "# plt.title('ACF Plot')\n",
    "\n",
    "# plt.subplot(122)\n",
    "# plot_pacf(df['Close'], lags=20, ax=plt.gca())\n",
    "# plt.title('PACF Plot')\n",
    "\n",
    "# plt.tight_layout()\n",
    "# plt.show()"
   ]
  },
  {
   "cell_type": "markdown",
   "id": "4423866c-e4f1-4528-b12d-7a11ff387afc",
   "metadata": {},
   "source": [
    "# `ARIMA`"
   ]
  },
  {
   "cell_type": "markdown",
   "id": "15e5cf69-917e-4996-b2f5-fb0a660c0724",
   "metadata": {},
   "source": [
    "`Finding the Best P, D, Q`"
   ]
  },
  {
   "cell_type": "code",
   "execution_count": 16,
   "id": "e820f3bf-1894-405b-88df-3e160b85549b",
   "metadata": {},
   "outputs": [],
   "source": [
    "# import pandas as pd\n",
    "# from statsmodels.tsa.arima.model import ARIMA\n",
    "# from sklearn.metrics import mean_absolute_error\n",
    "# import numpy as np\n",
    "\n",
    "# # Prepare storage for results\n",
    "# results = []\n",
    "\n",
    "# # Loop through p, d, and q values from 1 to 20\n",
    "# for p in range(1, 6):\n",
    "#     for d in range(1, 6):\n",
    "#         for q in range(1, 6):\n",
    "#             try:\n",
    "#                 # Fit ARIMA model with current p, d, q\n",
    "#                 model = ARIMA(df_train['y'], order=(p, d, q))\n",
    "#                 arima_result = model.fit()\n",
    "\n",
    "#                 # Forecast for the validation dataset\n",
    "#                 forecast = arima_result.forecast(steps=len(df_valid))\n",
    "\n",
    "#                 # Calculate MAE\n",
    "#                 mae = mean_absolute_error(df_valid['y'], forecast)\n",
    "\n",
    "#                 # Calculate MAPE\n",
    "#                 mape = np.mean(np.abs((df_valid['y'] - forecast) / df_valid['y'])) * 100\n",
    "\n",
    "#                 # Append results\n",
    "#                 results.append({\n",
    "#                     'p': p, 'd': d, 'q': q, \n",
    "#                     'AIC': arima_result.aic, \n",
    "#                     'BIC': arima_result.bic, \n",
    "#                     'MAE': mae, \n",
    "#                     'MAPE': mape\n",
    "#                 })\n",
    "#             except Exception as e:\n",
    "#                 # Append failure\n",
    "#                 results.append({\n",
    "#                     'p': p, 'd': d, 'q': q, \n",
    "#                     'AIC': None, \n",
    "#                     'BIC': None, \n",
    "#                     'MAE': None, \n",
    "#                     'MAPE': None\n",
    "#                 })\n",
    "\n",
    "# # Convert results to a DataFrame for analysis\n",
    "# results_df = pd.DataFrame(results)\n",
    "\n",
    "# # Find the best combination based on the lowest MAE\n",
    "# best_result_mae = results_df.loc[results_df['MAE'].idxmin()]\n",
    "\n",
    "# # Find the best combination based on the lowest MAPE\n",
    "# best_result_mape = results_df.loc[results_df['MAPE'].idxmin()]\n"
   ]
  },
  {
   "cell_type": "code",
   "execution_count": 17,
   "id": "ff26fa19-d3fb-4d81-8803-280fd4c38ea2",
   "metadata": {},
   "outputs": [],
   "source": [
    "# display(results_df, best_result_mae, best_result_mape)"
   ]
  },
  {
   "cell_type": "code",
   "execution_count": 18,
   "id": "ddb7cebf-83da-47fd-8c96-d5cfdbf57912",
   "metadata": {},
   "outputs": [],
   "source": [
    "# import matplotlib.pyplot as plt\n",
    "\n",
    "# # Visualization of Validation vs Predicted Trend\n",
    "# plt.figure(figsize=(14, 7))\n",
    "\n",
    "# # Plot training data\n",
    "# plt.plot(df_train.index, df_train['y'], label='Training Data', color='blue', alpha=0.6)\n",
    "\n",
    "# # Plot actual validation/test values\n",
    "# plt.plot(df_valid.index, df_valid['y'], label='Actual Values (Validation)', color='green', alpha=0.6)\n",
    "\n",
    "# # Plot predicted values\n",
    "# plt.plot(df_valid.index, forecast, label='Predicted Values (ARIMA)', color='red', linestyle='--')\n",
    "\n",
    "# # Highlight train/test split with a vertical line\n",
    "# plt.axvline(df_valid.index[0], color='gray', linestyle='--', label='Train/Test Split')\n",
    "\n",
    "# # Titles and labels\n",
    "# plt.title('Validation vs Predicted Trend (ARIMA)', fontsize=14)\n",
    "# plt.xlabel('Date', fontsize=12)\n",
    "# plt.ylabel('Stock Price', fontsize=12)\n",
    "# plt.legend()\n",
    "# plt.grid(True, linestyle='--', alpha=0.7)\n",
    "# plt.tight_layout()\n",
    "# plt.show()"
   ]
  },
  {
   "cell_type": "code",
   "execution_count": 19,
   "id": "d23b6916-3866-433f-87a7-f8d518aa1803",
   "metadata": {},
   "outputs": [],
   "source": [
    "# from sklearn.metrics import mean_absolute_error\n",
    "# import numpy as np\n",
    "# import matplotlib.pyplot as plt\n",
    "# from statsmodels.tsa.arima.model import ARIMA\n",
    "\n",
    "# # Fit ARIMA model with specified parameters\n",
    "# arima_model = ARIMA(df_train['y'], order=(1, 3, 3))\n",
    "# arima_result = arima_model.fit()\n",
    "\n",
    "# # Forecast for the validation dataset\n",
    "# forecast_arima = arima_result.get_prediction(start=df_valid.index[0], end=df_valid.index[-1], dynamic=False)\n",
    "# forecast_conf_int = forecast_arima.conf_int()  # Get confidence intervals\n",
    "\n",
    "# # Extract predicted mean\n",
    "# forecast_values = forecast_arima.predicted_mean\n",
    "\n",
    "# # Calculate MAE\n",
    "# mae_arima = mean_absolute_error(df_valid['y'], forecast_values)\n",
    "\n",
    "# # Calculate MAPE\n",
    "# mape_arima = np.mean(np.abs((df_valid['y'] - forecast_values) / df_valid['y'])) * 100\n",
    "\n",
    "# # Visualization: Actual vs Predicted Values with Confidence Intervals\n",
    "# plt.figure(figsize=(14, 7))\n",
    "\n",
    "# # Plot actual values\n",
    "# plt.plot(df_valid.index, df_valid['y'], label='Actual Values (Validation)', color='green', alpha=0.6, linewidth=2)\n",
    "\n",
    "# # Plot predicted values\n",
    "# plt.plot(df_valid.index, forecast_values, label='Predicted Values (ARIMA)', color='red', linestyle='--', linewidth=2)\n",
    "\n",
    "# # Plot confidence intervals\n",
    "# plt.fill_between(\n",
    "#     df_valid.index,\n",
    "#     forecast_conf_int.iloc[:, 0],  # Lower bound\n",
    "#     forecast_conf_int.iloc[:, 1],  # Upper bound\n",
    "#     color='pink', alpha=0.3,\n",
    "#     label='Confidence Interval'\n",
    "# )\n",
    "\n",
    "# # Add title and labels\n",
    "# plt.title('ARIMA Model (p=1, d=3, q=3): Actual vs Predicted Values', fontsize=16)\n",
    "# plt.xlabel('Date', fontsize=12)\n",
    "# plt.ylabel('Stock Price', fontsize=12)\n",
    "# plt.legend()\n",
    "# plt.grid(True, linestyle='--', alpha=0.7)\n",
    "# plt.tight_layout()\n",
    "# plt.show()\n",
    "\n",
    "# # Return the metrics\n",
    "# mae_arima, mape_arima"
   ]
  },
  {
   "cell_type": "code",
   "execution_count": 20,
   "id": "0d0df6da-de10-4aba-8e87-3850f848867e",
   "metadata": {},
   "outputs": [],
   "source": [
    "# import matplotlib.pyplot as plt\n",
    "\n",
    "# # Visualization: Actual vs Predicted Values\n",
    "# plt.figure(figsize=(14, 7))\n",
    "\n",
    "# # Plot actual validation/test values\n",
    "# plt.plot(df_valid.index, df_valid['y'], label='Actual Values (Validation)', color='green', alpha=0.6, linewidth=2)\n",
    "\n",
    "# # Plot predicted values\n",
    "# plt.plot(df_valid.index, forecast_arima, label='Predicted Values (ARIMA)', color='red', linestyle='--', linewidth=2)\n",
    "\n",
    "# # Add title and labels\n",
    "# plt.title('ARIMA Model: Actual vs Predicted Values', fontsize=16)\n",
    "# plt.xlabel('Date', fontsize=12)\n",
    "# plt.ylabel('Stock Price', fontsize=12)\n",
    "\n",
    "# # Add legend and grid\n",
    "# plt.legend()\n",
    "# plt.grid(True, linestyle='--', alpha=0.7)\n",
    "\n",
    "# # Display the plot\n",
    "# plt.tight_layout()\n",
    "# plt.show()"
   ]
  },
  {
   "cell_type": "code",
   "execution_count": 21,
   "id": "1989da41-aca3-449d-a653-d09c4fb48117",
   "metadata": {},
   "outputs": [],
   "source": [
    "# import matplotlib.pyplot as plt\n",
    "\n",
    "# # Fit ARIMA model with optimal parameters\n",
    "# optimal_model = ARIMA(df_train['y'], order=(1, 3, 3))\n",
    "# optimal_result = optimal_model.fit()\n",
    "\n",
    "# # Forecast using the optimal model\n",
    "# optimal_forecast = optimal_result.forecast(steps=len(df_valid))\n",
    "\n",
    "# # Visualization: Actual vs Predicted Values\n",
    "# plt.figure(figsize=(14, 7))\n",
    "# plt.plot(df_valid.index, df_valid['y'], label='Actual Values (Validation)', color='green', alpha=0.6, linewidth=2)\n",
    "# plt.plot(df_valid.index, optimal_forecast, label='Predicted Values (ARIMA)', color='red', linestyle='--', linewidth=2)\n",
    "# plt.title('ARIMA Model (p=1, d=3, q=3): Actual vs Predicted Values', fontsize=16)\n",
    "# plt.xlabel('Date', fontsize=12)\n",
    "# plt.ylabel('Stock Price', fontsize=12)\n",
    "# plt.legend()\n",
    "# plt.grid(True, linestyle='--', alpha=0.7)\n",
    "# plt.tight_layout()\n",
    "# plt.show()"
   ]
  },
  {
   "cell_type": "code",
   "execution_count": 22,
   "id": "4e397cc9-2808-4c87-8631-d3525ac199ae",
   "metadata": {},
   "outputs": [],
   "source": [
    "# # Optimal differencing using ADF test\n",
    "# import pandas as pd\n",
    "# from statsmodels.tsa.arima.model import ARIMA\n",
    "# from sklearn.metrics import mean_absolute_error\n",
    "# import pmdarima as pm\n",
    "# from statsmodels.tsa.stattools import adfuller\n",
    "\n",
    "# def get_optimal_d(series):\n",
    "#     p_val = adfuller(series)[1]\n",
    "#     d = 0\n",
    "#     while p_val > 0.05:\n",
    "#         d += 1\n",
    "#         series = series.diff().dropna()\n",
    "#         p_val = adfuller(series)[1]\n",
    "#     return d\n",
    "\n",
    "# d_optimal = get_optimal_d(df_train['y'])\n",
    "\n",
    "# # Auto-tune SARIMA with pmdarima\n",
    "# model = pm.auto_arima(\n",
    "#     df_train['y'],\n",
    "#     d=d_optimal,\n",
    "#     seasonal=True,  # Auto-detect seasonality\n",
    "#     stepwise=True,\n",
    "#     suppress_warnings=True\n",
    "# )\n",
    "\n",
    "# # Forecast and evaluate\n",
    "# forecast = model.predict(len(df_valid))\n",
    "# mae = mean_absolute_error(df_valid['y'], forecast)"
   ]
  },
  {
   "cell_type": "code",
   "execution_count": 23,
   "id": "4c07bba4-8b8b-421e-a1ac-1fca7b3419c4",
   "metadata": {},
   "outputs": [],
   "source": [
    "# mae"
   ]
  },
  {
   "cell_type": "code",
   "execution_count": 24,
   "id": "4f2cf825-dfe8-448a-b6b1-9119448cf66f",
   "metadata": {},
   "outputs": [],
   "source": [
    "# import pmdarima as pm\n",
    "# model = pm.auto_arima(df_train['Close'], seasonal=False, stepwise=True)"
   ]
  },
  {
   "cell_type": "code",
   "execution_count": 25,
   "id": "0542e0c3-e356-4d2c-a751-cf1b25380121",
   "metadata": {},
   "outputs": [],
   "source": [
    "# model"
   ]
  },
  {
   "cell_type": "markdown",
   "id": "91156f51-7ec7-475b-b9a3-7f5c9db4d8ff",
   "metadata": {},
   "source": [
    "# `Prophet`"
   ]
  },
  {
   "cell_type": "code",
   "execution_count": 27,
   "id": "9c273da1-9839-482b-a37d-14df1b8e2f59",
   "metadata": {},
   "outputs": [],
   "source": [
    "# import pandas as pd\n",
    "# import numpy as np\n",
    "# from prophet import Prophet\n",
    "# from sklearn.metrics import mean_absolute_error\n",
    "# from itertools import product\n",
    "# import matplotlib.pyplot as plt\n",
    "\n",
    "\n",
    "# df = pd.read_csv('cast.csv')\n",
    "# # Menghapus kolom 'Unnamed: 0'\n",
    "# df = df.drop(columns=['Unnamed: 0'])\n",
    "\n",
    "# # Mengubah kolom 'ds' menjadi tipe datetime\n",
    "# df['ds'] = pd.to_datetime(df['ds'], format='%Y-%m-%d')\n",
    "\n",
    "# # --------------------------------------------\n",
    "# # BAGIAN 1: TRAIN-TEST SPLIT & PARAMETER GRID\n",
    "# # --------------------------------------------\n",
    "# # Data train (2021-02-05 sampai 2023-12-31)\n",
    "# df_train = df[(df['ds'] >= '2021-02-05') & (df['ds'] <= '2023-12-31')]\n",
    "# # Data test (2024-01-01 sampai 2025-02-04)\n",
    "# df_test = df[(df['ds'] >= '2024-01-01') & (df['ds'] <= '2025-02-04')]\n",
    "\n",
    "# # Parameter grid untuk Prophet\n",
    "# param_grid = {\n",
    "#     'changepoint_prior_scale': [0.001, 0.01, 0.1, 0.5],\n",
    "#     'seasonality_prior_scale': [0.01, 0.1, 1.0, 10.0],\n",
    "#     'seasonality_mode': ['additive', 'multiplicative'],\n",
    "#     'n_changepoints': [20, 30, 40]\n",
    "# }\n",
    "\n",
    "# # Generate all combinations of parameters\n",
    "# all_params = list(product(param_grid['changepoint_prior_scale'],\n",
    "#                           param_grid['seasonality_prior_scale'],\n",
    "#                           param_grid['seasonality_mode'],\n",
    "#                           param_grid['n_changepoints']))\n",
    "\n",
    "# best_mae = float(\"inf\")\n",
    "# best_params = None\n",
    "\n",
    "# # --------------------------------------------\n",
    "# # BAGIAN 2: CARI PARAMETER TERBAIK BERDASARKAN MAE\n",
    "# # --------------------------------------------\n",
    "# for params in all_params:\n",
    "#     changepoint_prior_scale, seasonality_prior_scale, seasonality_mode, n_changepoints = params\n",
    "    \n",
    "#     try:\n",
    "#         # Initialize and fit the Prophet model with current parameters\n",
    "#         model = Prophet(\n",
    "#             changepoint_prior_scale=changepoint_prior_scale,\n",
    "#             seasonality_prior_scale=seasonality_prior_scale,\n",
    "#             seasonality_mode=seasonality_mode,\n",
    "#             n_changepoints=n_changepoints\n",
    "#         )\n",
    "#         model.fit(df_train)\n",
    "        \n",
    "#         # Create a future dataframe for predictions\n",
    "#         future = model.make_future_dataframe(periods=len(df_test), include_history=False)\n",
    "        \n",
    "#         # Make predictions\n",
    "#         forecast = model.predict(future)\n",
    "#         predicted_values = forecast[['ds', 'yhat']].rename(columns={'yhat': 'predicted'})\n",
    "        \n",
    "#         # Merge predictions with actual test data\n",
    "#         results_df = pd.merge(df_test, predicted_values, on='ds', how='inner')\n",
    "        \n",
    "#         # Calculate MAE\n",
    "#         mae = mean_absolute_error(results_df['y'], results_df['predicted'])\n",
    "        \n",
    "#         print(f'Prophet Params: {params} - MAE: {mae:.2f}')\n",
    "        \n",
    "#         if mae < best_mae:\n",
    "#             best_mae = mae\n",
    "#             best_params = params\n",
    "#     except Exception as e:\n",
    "#         print(f\"Gagal untuk Prophet Params: {params}: {str(e)}\")\n",
    "#         continue\n",
    "\n",
    "# print(f'\\nBest Model: Prophet Params: {best_params} - MAE: {best_mae:.2f}')\n",
    "\n",
    "# # --------------------------------------------\n",
    "# # BAGIAN 3: FIT MODEL TERBAIK KE SELURUH DATA (2021-02-05 sampai 2025-02-04)\n",
    "# # --------------------------------------------\n",
    "# # Gabungkan data train dan test untuk fitting final\n",
    "# df_full = df[(df['ds'] >= '2021-02-05') & (df['ds'] <= '2025-02-04')]\n",
    "\n",
    "# # Fit model terbaik ke data penuh\n",
    "# final_model = Prophet(\n",
    "#     changepoint_prior_scale=best_params[0],\n",
    "#     seasonality_prior_scale=best_params[1],\n",
    "#     seasonality_mode=best_params[2],\n",
    "#     n_changepoints=best_params[3]\n",
    "# )\n",
    "# final_model.fit(df_full)\n",
    "\n",
    "# print(\"\\nModel terbaik telah di-fit ke seluruh data (2021-02-05 sampai 2025-02-04).\")\n",
    "\n",
    "# # --------------------------------------------\n",
    "# # BAGIAN 4: PREDIKSI UNTUK PERIODE TEST (DARI MODEL TRAIN)\n",
    "# # --------------------------------------------\n",
    "# # Prediksi untuk periode test dari model yang di-fit ke data train\n",
    "# model_train = Prophet(\n",
    "#     changepoint_prior_scale=best_params[0],\n",
    "#     seasonality_prior_scale=best_params[1],\n",
    "#     seasonality_mode=best_params[2],\n",
    "#     n_changepoints=best_params[3]\n",
    "# )\n",
    "# model_train.fit(df_train)\n",
    "\n",
    "# # Create a future dataframe for predictions\n",
    "# future = model_train.make_future_dataframe(periods=len(df_test), include_history=False)\n",
    "\n",
    "# # Make predictions\n",
    "# forecast = model_train.predict(future)\n",
    "# predicted_values = forecast[['ds', 'yhat']].rename(columns={'yhat': 'predicted'})\n",
    "\n",
    "# # Gabungkan hasil prediksi dan aktual\n",
    "# df_forecast = pd.DataFrame({\n",
    "#     'Date': df_test['ds'].values,\n",
    "#     'Forecast': predicted_values['predicted'].values,\n",
    "#     'Actual': df_test['y'].values\n",
    "# })\n",
    "\n",
    "# # Plot hasil\n",
    "# plt.figure(figsize=(12, 6))\n",
    "# plt.plot(df_train['ds'], df_train['y'], label='Train (2021-02-05 sampai 2023-12-31)')\n",
    "# plt.plot(df_forecast['Date'], df_forecast['Actual'], label='Actual (2024-01-01 sampai 2025-02-04)', color='green')\n",
    "# plt.plot(df_forecast['Date'], df_forecast['Forecast'], label='Forecast (2024-01-01 sampai 2025-02-04)', color='red', linestyle='--')\n",
    "# plt.title('Perbandingan Forecast vs Actual (2024-01-01 sampai 2025-02-04)')\n",
    "# plt.legend()\n",
    "# plt.show()\n",
    "\n",
    "# # Tampilkan tabel\n",
    "# print(\"\\nPerbandingan Forecast vs Actual (2024-01-01 sampai 2025-02-04):\")\n",
    "# display(df_forecast)"
   ]
  },
  {
   "cell_type": "code",
   "execution_count": 28,
   "id": "720af6bb-0984-4a9d-ac9c-ba5e2dc75eca",
   "metadata": {},
   "outputs": [],
   "source": [
    "# plt.figure(figsize=(12, 6))\n",
    "# plt.plot(df_train['ds'], df_train['y'], label='Train (2021-02-05 sampai 2023-12-31)')\n",
    "# plt.plot(df_forecast['Date'], df_forecast['Actual'], label='Actual (2024-01-01 sampai 2025-02-04)', color='green')\n",
    "# plt.plot(df_forecast['Date'], df_forecast['Forecast'], label='Forecast (2024-01-01 sampai 2025-02-04)', color='red', linestyle='--')\n",
    "# plt.title('Perbandingan Forecast vs Actual (2024-01-01 sampai 2025-02-04)')\n",
    "# plt.legend()\n",
    "# plt.show()\n",
    "\n",
    "# # Tampilkan tabel\n",
    "# print(\"\\nPerbandingan Forecast vs Actual (2024-01-01 sampai 2025-02-04):\")\n",
    "# display(df_forecast)"
   ]
  },
  {
   "cell_type": "code",
   "execution_count": 29,
   "id": "0093ebc2-6f65-47f9-8ca7-5da90be2a13c",
   "metadata": {},
   "outputs": [],
   "source": [
    "# import pandas as pd\n",
    "# import numpy as np\n",
    "# from prophet import Prophet\n",
    "# from sklearn.metrics import mean_absolute_error\n",
    "# from itertools import product\n",
    "# import matplotlib.pyplot as plt\n",
    "\n",
    "# df = pd.read_csv('cast.csv')\n",
    "# # Menghapus kolom 'Unnamed: 0'\n",
    "# df = df.drop(columns=['Unnamed: 0'])\n",
    "\n",
    "# # Mengubah kolom 'ds' menjadi tipe datetime\n",
    "# df['ds'] = pd.to_datetime(df['ds'], format='%Y-%m-%d')\n",
    "\n",
    "# # --------------------------------------------\n",
    "# # ADDING ADDITIONAL REGRESSORS\n",
    "# # --------------------------------------------\n",
    "# # Generate or load these regressors\n",
    "# df['holiday_index'] = np.random.uniform(0, 1, len(df))  # Example: Random data\n",
    "# df['macro_factor'] = np.random.uniform(0, 1, len(df))  # Example: Random data\n",
    "\n",
    "# # Train-test split\n",
    "# df_train = df[(df['ds'] >= '2021-02-05') & (df['ds'] <= '2023-12-31')]\n",
    "# df_test = df[(df['ds'] >= '2024-01-01') & (df['ds'] <= '2025-02-04')]\n",
    "\n",
    "# # Parameter grid for Prophet\n",
    "# param_grid = {\n",
    "#     'changepoint_prior_scale': [0.001, 0.01, 0.1, 0.5],\n",
    "#     'seasonality_prior_scale': [0.01, 0.1, 1.0, 10.0],\n",
    "#     'seasonality_mode': ['additive', 'multiplicative'],\n",
    "#     'n_changepoints': [20, 30, 40]\n",
    "# }\n",
    "\n",
    "# # Generate all combinations of parameters\n",
    "# all_params = list(product(param_grid['changepoint_prior_scale'],\n",
    "#                           param_grid['seasonality_prior_scale'],\n",
    "#                           param_grid['seasonality_mode'],\n",
    "#                           param_grid['n_changepoints']))\n",
    "\n",
    "# best_mae = float(\"inf\")\n",
    "# best_params = None\n",
    "\n",
    "# # --------------------------------------------\n",
    "# # SEARCH FOR BEST PARAMETERS\n",
    "# # --------------------------------------------\n",
    "# for params in all_params:\n",
    "#     changepoint_prior_scale, seasonality_prior_scale, seasonality_mode, n_changepoints = params\n",
    "    \n",
    "#     try:\n",
    "#         # Initialize and fit the Prophet model with additional regressors\n",
    "#         model = Prophet(\n",
    "#             changepoint_prior_scale=changepoint_prior_scale,\n",
    "#             seasonality_prior_scale=seasonality_prior_scale,\n",
    "#             seasonality_mode=seasonality_mode,\n",
    "#             n_changepoints=n_changepoints\n",
    "#         )\n",
    "        \n",
    "#         # Add regressors to the model\n",
    "#         model.add_regressor('holiday_index')\n",
    "#         model.add_regressor('macro_factor')\n",
    "        \n",
    "#         model.fit(df_train)\n",
    "        \n",
    "#         # Create a future dataframe for predictions\n",
    "#         future = model.make_future_dataframe(periods=len(df_test), include_history=False)\n",
    "        \n",
    "#         # Add regressors to the future dataframe\n",
    "#         future['holiday_index'] = df_test['holiday_index'].values\n",
    "#         future['macro_factor'] = df_test['macro_factor'].values\n",
    "        \n",
    "#         # Make predictions\n",
    "#         forecast = model.predict(future)\n",
    "#         predicted_values = forecast[['ds', 'yhat']].rename(columns={'yhat': 'predicted'})\n",
    "        \n",
    "#         # Merge predictions with actual test data\n",
    "#         results_df = pd.merge(df_test, predicted_values, on='ds', how='inner')\n",
    "        \n",
    "#         # Calculate MAE\n",
    "#         mae = mean_absolute_error(results_df['y'], results_df['predicted'])\n",
    "        \n",
    "#         print(f'Prophet Params: {params} - MAE: {mae:.2f}')\n",
    "        \n",
    "#         if mae < best_mae:\n",
    "#             best_mae = mae\n",
    "#             best_params = params\n",
    "#     except Exception as e:\n",
    "#         print(f\"Gagal untuk Prophet Params: {params}: {str(e)}\")\n",
    "#         continue\n",
    "\n",
    "# print(f'\\nBest Model: Prophet Params: {best_params} - MAE: {best_mae:.2f}')\n",
    "\n",
    "# # --------------------------------------------\n",
    "# # FIT BEST MODEL TO TRAINING DATA AND PREDICT TEST PERIOD\n",
    "# # --------------------------------------------\n",
    "# # Fit the best model on TRAINING data (not full data)\n",
    "# final_model = Prophet(\n",
    "#     changepoint_prior_scale=best_params[0],\n",
    "#     seasonality_prior_scale=best_params[1],\n",
    "#     seasonality_mode=best_params[2],\n",
    "#     n_changepoints=best_params[3]\n",
    "# )\n",
    "# final_model.add_regressor('holiday_index')\n",
    "# final_model.add_regressor('macro_factor')\n",
    "# final_model.fit(df_train)  # Train on df_train only\n",
    "\n",
    "# # Create future dataframe for TEST period (no history)\n",
    "# future = final_model.make_future_dataframe(periods=len(df_test), include_history=False)\n",
    "\n",
    "# # Assign regressors from TEST data\n",
    "# future['holiday_index'] = df_test['holiday_index'].values\n",
    "# future['macro_factor'] = df_test['macro_factor'].values\n",
    "\n",
    "# # Generate forecast\n",
    "# forecast = final_model.predict(future)\n",
    "\n",
    "# # Extract relevant forecast and actuals\n",
    "# df_forecast = forecast[['ds', 'yhat']].rename(columns={'yhat': 'Forecast'})\n",
    "# df_forecast = pd.merge(df_test, df_forecast, on='ds', how='inner')"
   ]
  },
  {
   "cell_type": "code",
   "execution_count": 30,
   "id": "96041bf9-3112-4e05-8570-7fc3133ebc5e",
   "metadata": {},
   "outputs": [],
   "source": [
    "# # Plot results\n",
    "# plt.figure(figsize=(14, 8))\n",
    "# plt.plot(df_train['ds'], df_train['y'], label='Train (2021-02-05 to 2023-12-31)', color='blue')\n",
    "# plt.plot(df_forecast['ds'], df_forecast['y'], label='Actual (2024-01-01 to 2025-02-04)', color='green')\n",
    "# plt.plot(df_forecast['ds'], df_forecast['Forecast'], label='Forecast', color='red')\n",
    "# plt.title('Forecast vs Actuals (No Data Leakage)', fontsize=16)\n",
    "# plt.xlabel('Date')\n",
    "# plt.ylabel('Stock Price')\n",
    "# plt.legend()\n",
    "# plt.grid(True, linestyle='--', alpha=0.6)\n",
    "# plt.show()"
   ]
  },
  {
   "cell_type": "markdown",
   "id": "71918c5c-95ef-4749-9a82-e95bc67d5884",
   "metadata": {},
   "source": [
    "`Prophet Model`"
   ]
  },
  {
   "cell_type": "code",
   "execution_count": 32,
   "id": "26645721-8622-4a44-9eda-a862fb33117a",
   "metadata": {},
   "outputs": [
    {
     "name": "stderr",
     "output_type": "stream",
     "text": [
      "12:47:53 - cmdstanpy - INFO - Chain [1] start processing\n",
      "12:47:53 - cmdstanpy - INFO - Chain [1] done processing\n",
      "12:47:53 - cmdstanpy - INFO - Chain [1] start processing\n",
      "12:47:53 - cmdstanpy - INFO - Chain [1] done processing\n"
     ]
    },
    {
     "name": "stdout",
     "output_type": "stream",
     "text": [
      "Params: (0.001, 0.01, 'additive', 25, 0.85, 8) | MAE: 3702.06, MAPE: 23.60%\n"
     ]
    },
    {
     "name": "stderr",
     "output_type": "stream",
     "text": [
      "12:47:54 - cmdstanpy - INFO - Chain [1] start processing\n",
      "12:47:54 - cmdstanpy - INFO - Chain [1] done processing\n"
     ]
    },
    {
     "name": "stdout",
     "output_type": "stream",
     "text": [
      "Params: (0.001, 0.01, 'additive', 25, 0.85, 12) | MAE: 3596.96, MAPE: 22.93%\n"
     ]
    },
    {
     "name": "stderr",
     "output_type": "stream",
     "text": [
      "12:47:54 - cmdstanpy - INFO - Chain [1] start processing\n"
     ]
    },
    {
     "name": "stdout",
     "output_type": "stream",
     "text": [
      "Params: (0.001, 0.01, 'additive', 25, 0.9, 8) | MAE: 3857.75, MAPE: 24.64%\n"
     ]
    },
    {
     "name": "stderr",
     "output_type": "stream",
     "text": [
      "12:47:54 - cmdstanpy - INFO - Chain [1] done processing\n",
      "12:47:54 - cmdstanpy - INFO - Chain [1] start processing\n",
      "12:47:54 - cmdstanpy - INFO - Chain [1] done processing\n"
     ]
    },
    {
     "name": "stdout",
     "output_type": "stream",
     "text": [
      "Params: (0.001, 0.01, 'additive', 25, 0.9, 12) | MAE: 3719.18, MAPE: 23.71%\n"
     ]
    },
    {
     "name": "stderr",
     "output_type": "stream",
     "text": [
      "12:47:54 - cmdstanpy - INFO - Chain [1] start processing\n",
      "12:47:55 - cmdstanpy - INFO - Chain [1] done processing\n"
     ]
    },
    {
     "name": "stdout",
     "output_type": "stream",
     "text": [
      "Params: (0.001, 0.01, 'additive', 30, 0.85, 8) | MAE: 3648.46, MAPE: 23.25%\n"
     ]
    },
    {
     "name": "stderr",
     "output_type": "stream",
     "text": [
      "12:47:55 - cmdstanpy - INFO - Chain [1] start processing\n",
      "12:47:55 - cmdstanpy - INFO - Chain [1] done processing\n"
     ]
    },
    {
     "name": "stdout",
     "output_type": "stream",
     "text": [
      "Params: (0.001, 0.01, 'additive', 30, 0.85, 12) | MAE: 3635.57, MAPE: 23.17%\n"
     ]
    },
    {
     "name": "stderr",
     "output_type": "stream",
     "text": [
      "12:47:55 - cmdstanpy - INFO - Chain [1] start processing\n",
      "12:47:55 - cmdstanpy - INFO - Chain [1] done processing\n"
     ]
    },
    {
     "name": "stdout",
     "output_type": "stream",
     "text": [
      "Params: (0.001, 0.01, 'additive', 30, 0.9, 8) | MAE: 3692.80, MAPE: 23.60%\n"
     ]
    },
    {
     "name": "stderr",
     "output_type": "stream",
     "text": [
      "12:47:55 - cmdstanpy - INFO - Chain [1] start processing\n",
      "12:47:55 - cmdstanpy - INFO - Chain [1] done processing\n"
     ]
    },
    {
     "name": "stdout",
     "output_type": "stream",
     "text": [
      "Params: (0.001, 0.01, 'additive', 30, 0.9, 12) | MAE: 3611.31, MAPE: 23.02%\n"
     ]
    },
    {
     "name": "stderr",
     "output_type": "stream",
     "text": [
      "12:47:56 - cmdstanpy - INFO - Chain [1] start processing\n",
      "12:47:56 - cmdstanpy - INFO - Chain [1] done processing\n"
     ]
    },
    {
     "name": "stdout",
     "output_type": "stream",
     "text": [
      "Params: (0.001, 0.01, 'additive', 35, 0.85, 8) | MAE: 3833.55, MAPE: 24.47%\n"
     ]
    },
    {
     "name": "stderr",
     "output_type": "stream",
     "text": [
      "12:47:56 - cmdstanpy - INFO - Chain [1] start processing\n",
      "12:47:56 - cmdstanpy - INFO - Chain [1] done processing\n"
     ]
    },
    {
     "name": "stdout",
     "output_type": "stream",
     "text": [
      "Params: (0.001, 0.01, 'additive', 35, 0.85, 12) | MAE: 3905.86, MAPE: 24.91%\n"
     ]
    },
    {
     "name": "stderr",
     "output_type": "stream",
     "text": [
      "12:47:56 - cmdstanpy - INFO - Chain [1] start processing\n",
      "12:47:56 - cmdstanpy - INFO - Chain [1] done processing\n"
     ]
    },
    {
     "name": "stdout",
     "output_type": "stream",
     "text": [
      "Params: (0.001, 0.01, 'additive', 35, 0.9, 8) | MAE: 3904.80, MAPE: 24.92%\n"
     ]
    },
    {
     "name": "stderr",
     "output_type": "stream",
     "text": [
      "12:47:56 - cmdstanpy - INFO - Chain [1] start processing\n",
      "12:47:56 - cmdstanpy - INFO - Chain [1] done processing\n"
     ]
    },
    {
     "name": "stdout",
     "output_type": "stream",
     "text": [
      "Params: (0.001, 0.01, 'additive', 35, 0.9, 12) | MAE: 3681.16, MAPE: 23.49%\n"
     ]
    },
    {
     "name": "stderr",
     "output_type": "stream",
     "text": [
      "12:47:57 - cmdstanpy - INFO - Chain [1] start processing\n",
      "12:47:57 - cmdstanpy - INFO - Chain [1] done processing\n"
     ]
    },
    {
     "name": "stdout",
     "output_type": "stream",
     "text": [
      "Params: (0.001, 0.01, 'multiplicative', 25, 0.85, 8) | MAE: 3678.12, MAPE: 23.89%\n"
     ]
    },
    {
     "name": "stderr",
     "output_type": "stream",
     "text": [
      "12:47:57 - cmdstanpy - INFO - Chain [1] start processing\n",
      "12:47:57 - cmdstanpy - INFO - Chain [1] done processing\n"
     ]
    },
    {
     "name": "stdout",
     "output_type": "stream",
     "text": [
      "Params: (0.001, 0.01, 'multiplicative', 25, 0.85, 12) | MAE: 3770.87, MAPE: 24.45%\n"
     ]
    },
    {
     "name": "stderr",
     "output_type": "stream",
     "text": [
      "12:47:57 - cmdstanpy - INFO - Chain [1] start processing\n",
      "12:47:57 - cmdstanpy - INFO - Chain [1] done processing\n"
     ]
    },
    {
     "name": "stdout",
     "output_type": "stream",
     "text": [
      "Params: (0.001, 0.01, 'multiplicative', 25, 0.9, 8) | MAE: 3744.05, MAPE: 24.29%\n"
     ]
    },
    {
     "name": "stderr",
     "output_type": "stream",
     "text": [
      "12:47:57 - cmdstanpy - INFO - Chain [1] start processing\n",
      "12:47:58 - cmdstanpy - INFO - Chain [1] done processing\n"
     ]
    },
    {
     "name": "stdout",
     "output_type": "stream",
     "text": [
      "Params: (0.001, 0.01, 'multiplicative', 25, 0.9, 12) | MAE: 3695.07, MAPE: 23.99%\n"
     ]
    },
    {
     "name": "stderr",
     "output_type": "stream",
     "text": [
      "12:47:58 - cmdstanpy - INFO - Chain [1] start processing\n",
      "12:47:58 - cmdstanpy - INFO - Chain [1] done processing\n"
     ]
    },
    {
     "name": "stdout",
     "output_type": "stream",
     "text": [
      "Params: (0.001, 0.01, 'multiplicative', 30, 0.85, 8) | MAE: 3554.06, MAPE: 23.13%\n"
     ]
    },
    {
     "name": "stderr",
     "output_type": "stream",
     "text": [
      "12:47:58 - cmdstanpy - INFO - Chain [1] start processing\n",
      "12:47:58 - cmdstanpy - INFO - Chain [1] done processing\n"
     ]
    },
    {
     "name": "stdout",
     "output_type": "stream",
     "text": [
      "Params: (0.001, 0.01, 'multiplicative', 30, 0.85, 12) | MAE: 3497.07, MAPE: 22.74%\n"
     ]
    },
    {
     "name": "stderr",
     "output_type": "stream",
     "text": [
      "12:47:58 - cmdstanpy - INFO - Chain [1] start processing\n",
      "12:47:58 - cmdstanpy - INFO - Chain [1] done processing\n"
     ]
    },
    {
     "name": "stdout",
     "output_type": "stream",
     "text": [
      "Params: (0.001, 0.01, 'multiplicative', 30, 0.9, 8) | MAE: 3920.98, MAPE: 25.42%\n"
     ]
    },
    {
     "name": "stderr",
     "output_type": "stream",
     "text": [
      "12:47:59 - cmdstanpy - INFO - Chain [1] start processing\n",
      "12:47:59 - cmdstanpy - INFO - Chain [1] done processing\n"
     ]
    },
    {
     "name": "stdout",
     "output_type": "stream",
     "text": [
      "Params: (0.001, 0.01, 'multiplicative', 30, 0.9, 12) | MAE: 3579.87, MAPE: 23.30%\n"
     ]
    },
    {
     "name": "stderr",
     "output_type": "stream",
     "text": [
      "12:47:59 - cmdstanpy - INFO - Chain [1] start processing\n",
      "12:47:59 - cmdstanpy - INFO - Chain [1] done processing\n"
     ]
    },
    {
     "name": "stdout",
     "output_type": "stream",
     "text": [
      "Params: (0.001, 0.01, 'multiplicative', 35, 0.85, 8) | MAE: 3702.86, MAPE: 24.09%\n"
     ]
    },
    {
     "name": "stderr",
     "output_type": "stream",
     "text": [
      "12:47:59 - cmdstanpy - INFO - Chain [1] start processing\n"
     ]
    },
    {
     "name": "stdout",
     "output_type": "stream",
     "text": [
      "Params: (0.001, 0.01, 'multiplicative', 35, 0.85, 12) | MAE: 3703.24, MAPE: 24.04%\n"
     ]
    },
    {
     "name": "stderr",
     "output_type": "stream",
     "text": [
      "12:47:59 - cmdstanpy - INFO - Chain [1] done processing\n",
      "12:47:59 - cmdstanpy - INFO - Chain [1] start processing\n",
      "12:47:59 - cmdstanpy - INFO - Chain [1] done processing\n"
     ]
    },
    {
     "name": "stdout",
     "output_type": "stream",
     "text": [
      "Params: (0.001, 0.01, 'multiplicative', 35, 0.9, 8) | MAE: 3597.39, MAPE: 23.39%\n"
     ]
    },
    {
     "name": "stderr",
     "output_type": "stream",
     "text": [
      "12:48:00 - cmdstanpy - INFO - Chain [1] start processing\n",
      "12:48:00 - cmdstanpy - INFO - Chain [1] done processing\n"
     ]
    },
    {
     "name": "stdout",
     "output_type": "stream",
     "text": [
      "Params: (0.001, 0.01, 'multiplicative', 35, 0.9, 12) | MAE: 3670.68, MAPE: 23.88%\n"
     ]
    },
    {
     "name": "stderr",
     "output_type": "stream",
     "text": [
      "12:48:00 - cmdstanpy - INFO - Chain [1] start processing\n",
      "12:48:00 - cmdstanpy - INFO - Chain [1] done processing\n"
     ]
    },
    {
     "name": "stdout",
     "output_type": "stream",
     "text": [
      "Params: (0.001, 0.1, 'additive', 25, 0.85, 8) | MAE: 3819.48, MAPE: 24.32%\n"
     ]
    },
    {
     "name": "stderr",
     "output_type": "stream",
     "text": [
      "12:48:00 - cmdstanpy - INFO - Chain [1] start processing\n",
      "12:48:00 - cmdstanpy - INFO - Chain [1] done processing\n"
     ]
    },
    {
     "name": "stdout",
     "output_type": "stream",
     "text": [
      "Params: (0.001, 0.1, 'additive', 25, 0.85, 12) | MAE: 3675.00, MAPE: 23.33%\n"
     ]
    },
    {
     "name": "stderr",
     "output_type": "stream",
     "text": [
      "12:48:01 - cmdstanpy - INFO - Chain [1] start processing\n",
      "12:48:01 - cmdstanpy - INFO - Chain [1] done processing\n"
     ]
    },
    {
     "name": "stdout",
     "output_type": "stream",
     "text": [
      "Params: (0.001, 0.1, 'additive', 25, 0.9, 8) | MAE: 3932.83, MAPE: 24.98%\n"
     ]
    },
    {
     "name": "stderr",
     "output_type": "stream",
     "text": [
      "12:48:01 - cmdstanpy - INFO - Chain [1] start processing\n",
      "12:48:01 - cmdstanpy - INFO - Chain [1] done processing\n"
     ]
    },
    {
     "name": "stdout",
     "output_type": "stream",
     "text": [
      "Params: (0.001, 0.1, 'additive', 25, 0.9, 12) | MAE: 3798.54, MAPE: 24.11%\n"
     ]
    },
    {
     "name": "stderr",
     "output_type": "stream",
     "text": [
      "12:48:01 - cmdstanpy - INFO - Chain [1] start processing\n",
      "12:48:01 - cmdstanpy - INFO - Chain [1] done processing\n"
     ]
    },
    {
     "name": "stdout",
     "output_type": "stream",
     "text": [
      "Params: (0.001, 0.1, 'additive', 30, 0.85, 8) | MAE: 3507.55, MAPE: 22.26%\n"
     ]
    },
    {
     "name": "stderr",
     "output_type": "stream",
     "text": [
      "12:48:01 - cmdstanpy - INFO - Chain [1] start processing\n",
      "12:48:01 - cmdstanpy - INFO - Chain [1] done processing\n"
     ]
    },
    {
     "name": "stdout",
     "output_type": "stream",
     "text": [
      "Params: (0.001, 0.1, 'additive', 30, 0.85, 12) | MAE: 3936.61, MAPE: 25.02%\n"
     ]
    },
    {
     "name": "stderr",
     "output_type": "stream",
     "text": [
      "12:48:02 - cmdstanpy - INFO - Chain [1] start processing\n",
      "12:48:02 - cmdstanpy - INFO - Chain [1] done processing\n"
     ]
    },
    {
     "name": "stdout",
     "output_type": "stream",
     "text": [
      "Params: (0.001, 0.1, 'additive', 30, 0.9, 8) | MAE: 3776.67, MAPE: 23.99%\n"
     ]
    },
    {
     "name": "stderr",
     "output_type": "stream",
     "text": [
      "12:48:02 - cmdstanpy - INFO - Chain [1] start processing\n",
      "12:48:02 - cmdstanpy - INFO - Chain [1] done processing\n"
     ]
    },
    {
     "name": "stdout",
     "output_type": "stream",
     "text": [
      "Params: (0.001, 0.1, 'additive', 30, 0.9, 12) | MAE: 3907.87, MAPE: 24.88%\n"
     ]
    },
    {
     "name": "stderr",
     "output_type": "stream",
     "text": [
      "12:48:02 - cmdstanpy - INFO - Chain [1] start processing\n",
      "12:48:02 - cmdstanpy - INFO - Chain [1] done processing\n"
     ]
    },
    {
     "name": "stdout",
     "output_type": "stream",
     "text": [
      "Params: (0.001, 0.1, 'additive', 35, 0.85, 8) | MAE: 3836.70, MAPE: 24.41%\n"
     ]
    },
    {
     "name": "stderr",
     "output_type": "stream",
     "text": [
      "12:48:02 - cmdstanpy - INFO - Chain [1] start processing\n",
      "12:48:02 - cmdstanpy - INFO - Chain [1] done processing\n"
     ]
    },
    {
     "name": "stdout",
     "output_type": "stream",
     "text": [
      "Params: (0.001, 0.1, 'additive', 35, 0.85, 12) | MAE: 3524.33, MAPE: 22.37%\n"
     ]
    },
    {
     "name": "stderr",
     "output_type": "stream",
     "text": [
      "12:48:03 - cmdstanpy - INFO - Chain [1] start processing\n",
      "12:48:03 - cmdstanpy - INFO - Chain [1] done processing\n"
     ]
    },
    {
     "name": "stdout",
     "output_type": "stream",
     "text": [
      "Params: (0.001, 0.1, 'additive', 35, 0.9, 8) | MAE: 3620.43, MAPE: 23.02%\n"
     ]
    },
    {
     "name": "stderr",
     "output_type": "stream",
     "text": [
      "12:48:03 - cmdstanpy - INFO - Chain [1] start processing\n",
      "12:48:03 - cmdstanpy - INFO - Chain [1] done processing\n"
     ]
    },
    {
     "name": "stdout",
     "output_type": "stream",
     "text": [
      "Params: (0.001, 0.1, 'additive', 35, 0.9, 12) | MAE: 3686.95, MAPE: 23.46%\n"
     ]
    },
    {
     "name": "stderr",
     "output_type": "stream",
     "text": [
      "12:48:03 - cmdstanpy - INFO - Chain [1] start processing\n",
      "12:48:03 - cmdstanpy - INFO - Chain [1] done processing\n"
     ]
    },
    {
     "name": "stdout",
     "output_type": "stream",
     "text": [
      "Params: (0.001, 0.1, 'multiplicative', 25, 0.85, 8) | MAE: 3571.74, MAPE: 23.17%\n"
     ]
    },
    {
     "name": "stderr",
     "output_type": "stream",
     "text": [
      "12:48:03 - cmdstanpy - INFO - Chain [1] start processing\n",
      "12:48:03 - cmdstanpy - INFO - Chain [1] done processing\n"
     ]
    },
    {
     "name": "stdout",
     "output_type": "stream",
     "text": [
      "Params: (0.001, 0.1, 'multiplicative', 25, 0.85, 12) | MAE: 3595.69, MAPE: 23.23%\n"
     ]
    },
    {
     "name": "stderr",
     "output_type": "stream",
     "text": [
      "12:48:04 - cmdstanpy - INFO - Chain [1] start processing\n",
      "12:48:04 - cmdstanpy - INFO - Chain [1] done processing\n"
     ]
    },
    {
     "name": "stdout",
     "output_type": "stream",
     "text": [
      "Params: (0.001, 0.1, 'multiplicative', 25, 0.9, 8) | MAE: 3685.92, MAPE: 23.79%\n"
     ]
    },
    {
     "name": "stderr",
     "output_type": "stream",
     "text": [
      "12:48:04 - cmdstanpy - INFO - Chain [1] start processing\n",
      "12:48:04 - cmdstanpy - INFO - Chain [1] done processing\n"
     ]
    },
    {
     "name": "stdout",
     "output_type": "stream",
     "text": [
      "Params: (0.001, 0.1, 'multiplicative', 25, 0.9, 12) | MAE: 3775.91, MAPE: 24.33%\n"
     ]
    },
    {
     "name": "stderr",
     "output_type": "stream",
     "text": [
      "12:48:04 - cmdstanpy - INFO - Chain [1] start processing\n",
      "12:48:04 - cmdstanpy - INFO - Chain [1] done processing\n"
     ]
    },
    {
     "name": "stdout",
     "output_type": "stream",
     "text": [
      "Params: (0.001, 0.1, 'multiplicative', 30, 0.85, 8) | MAE: 3531.90, MAPE: 22.86%\n"
     ]
    },
    {
     "name": "stderr",
     "output_type": "stream",
     "text": [
      "12:48:04 - cmdstanpy - INFO - Chain [1] start processing\n",
      "12:48:05 - cmdstanpy - INFO - Chain [1] done processing\n"
     ]
    },
    {
     "name": "stdout",
     "output_type": "stream",
     "text": [
      "Params: (0.001, 0.1, 'multiplicative', 30, 0.85, 12) | MAE: 3728.75, MAPE: 24.05%\n"
     ]
    },
    {
     "name": "stderr",
     "output_type": "stream",
     "text": [
      "12:48:05 - cmdstanpy - INFO - Chain [1] start processing\n"
     ]
    },
    {
     "name": "stdout",
     "output_type": "stream",
     "text": [
      "Params: (0.001, 0.1, 'multiplicative', 30, 0.9, 8) | MAE: 3748.93, MAPE: 24.19%\n"
     ]
    },
    {
     "name": "stderr",
     "output_type": "stream",
     "text": [
      "12:48:05 - cmdstanpy - INFO - Chain [1] done processing\n",
      "12:48:05 - cmdstanpy - INFO - Chain [1] start processing\n",
      "12:48:05 - cmdstanpy - INFO - Chain [1] done processing\n"
     ]
    },
    {
     "name": "stdout",
     "output_type": "stream",
     "text": [
      "Params: (0.001, 0.1, 'multiplicative', 30, 0.9, 12) | MAE: 3645.12, MAPE: 23.58%\n"
     ]
    },
    {
     "name": "stderr",
     "output_type": "stream",
     "text": [
      "12:48:05 - cmdstanpy - INFO - Chain [1] start processing\n",
      "12:48:05 - cmdstanpy - INFO - Chain [1] done processing\n"
     ]
    },
    {
     "name": "stdout",
     "output_type": "stream",
     "text": [
      "Params: (0.001, 0.1, 'multiplicative', 35, 0.85, 8) | MAE: 3803.35, MAPE: 24.46%\n"
     ]
    },
    {
     "name": "stderr",
     "output_type": "stream",
     "text": [
      "12:48:06 - cmdstanpy - INFO - Chain [1] start processing\n",
      "12:48:06 - cmdstanpy - INFO - Chain [1] done processing\n"
     ]
    },
    {
     "name": "stdout",
     "output_type": "stream",
     "text": [
      "Params: (0.001, 0.1, 'multiplicative', 35, 0.85, 12) | MAE: 3674.00, MAPE: 23.62%\n"
     ]
    },
    {
     "name": "stderr",
     "output_type": "stream",
     "text": [
      "12:48:06 - cmdstanpy - INFO - Chain [1] start processing\n",
      "12:48:06 - cmdstanpy - INFO - Chain [1] done processing\n"
     ]
    },
    {
     "name": "stdout",
     "output_type": "stream",
     "text": [
      "Params: (0.001, 0.1, 'multiplicative', 35, 0.9, 8) | MAE: 3594.68, MAPE: 23.17%\n"
     ]
    },
    {
     "name": "stderr",
     "output_type": "stream",
     "text": [
      "12:48:06 - cmdstanpy - INFO - Chain [1] start processing\n",
      "12:48:06 - cmdstanpy - INFO - Chain [1] done processing\n"
     ]
    },
    {
     "name": "stdout",
     "output_type": "stream",
     "text": [
      "Params: (0.001, 0.1, 'multiplicative', 35, 0.9, 12) | MAE: 3854.19, MAPE: 24.72%\n"
     ]
    },
    {
     "name": "stderr",
     "output_type": "stream",
     "text": [
      "12:48:06 - cmdstanpy - INFO - Chain [1] start processing\n",
      "12:48:07 - cmdstanpy - INFO - Chain [1] done processing\n"
     ]
    },
    {
     "name": "stdout",
     "output_type": "stream",
     "text": [
      "Params: (0.001, 1.0, 'additive', 25, 0.85, 8) | MAE: 3827.98, MAPE: 24.36%\n"
     ]
    },
    {
     "name": "stderr",
     "output_type": "stream",
     "text": [
      "12:48:07 - cmdstanpy - INFO - Chain [1] start processing\n",
      "12:48:07 - cmdstanpy - INFO - Chain [1] done processing\n"
     ]
    },
    {
     "name": "stdout",
     "output_type": "stream",
     "text": [
      "Params: (0.001, 1.0, 'additive', 25, 0.85, 12) | MAE: 3783.20, MAPE: 24.05%\n"
     ]
    },
    {
     "name": "stderr",
     "output_type": "stream",
     "text": [
      "12:48:07 - cmdstanpy - INFO - Chain [1] start processing\n",
      "12:48:07 - cmdstanpy - INFO - Chain [1] done processing\n"
     ]
    },
    {
     "name": "stdout",
     "output_type": "stream",
     "text": [
      "Params: (0.001, 1.0, 'additive', 25, 0.9, 8) | MAE: 3875.66, MAPE: 24.61%\n"
     ]
    },
    {
     "name": "stderr",
     "output_type": "stream",
     "text": [
      "12:48:07 - cmdstanpy - INFO - Chain [1] start processing\n",
      "12:48:07 - cmdstanpy - INFO - Chain [1] done processing\n"
     ]
    },
    {
     "name": "stdout",
     "output_type": "stream",
     "text": [
      "Params: (0.001, 1.0, 'additive', 25, 0.9, 12) | MAE: 3792.63, MAPE: 24.12%\n"
     ]
    },
    {
     "name": "stderr",
     "output_type": "stream",
     "text": [
      "12:48:07 - cmdstanpy - INFO - Chain [1] start processing\n",
      "12:48:08 - cmdstanpy - INFO - Chain [1] done processing\n"
     ]
    },
    {
     "name": "stdout",
     "output_type": "stream",
     "text": [
      "Params: (0.001, 1.0, 'additive', 30, 0.85, 8) | MAE: 3790.83, MAPE: 24.15%\n"
     ]
    },
    {
     "name": "stderr",
     "output_type": "stream",
     "text": [
      "12:48:08 - cmdstanpy - INFO - Chain [1] start processing\n",
      "12:48:08 - cmdstanpy - INFO - Chain [1] done processing\n"
     ]
    },
    {
     "name": "stdout",
     "output_type": "stream",
     "text": [
      "Params: (0.001, 1.0, 'additive', 30, 0.85, 12) | MAE: 3880.15, MAPE: 24.70%\n"
     ]
    },
    {
     "name": "stderr",
     "output_type": "stream",
     "text": [
      "12:48:08 - cmdstanpy - INFO - Chain [1] start processing\n",
      "12:48:08 - cmdstanpy - INFO - Chain [1] done processing\n"
     ]
    },
    {
     "name": "stdout",
     "output_type": "stream",
     "text": [
      "Params: (0.001, 1.0, 'additive', 30, 0.9, 8) | MAE: 3825.15, MAPE: 24.33%\n"
     ]
    },
    {
     "name": "stderr",
     "output_type": "stream",
     "text": [
      "12:48:08 - cmdstanpy - INFO - Chain [1] start processing\n",
      "12:48:08 - cmdstanpy - INFO - Chain [1] done processing\n"
     ]
    },
    {
     "name": "stdout",
     "output_type": "stream",
     "text": [
      "Params: (0.001, 1.0, 'additive', 30, 0.9, 12) | MAE: 3841.86, MAPE: 24.42%\n"
     ]
    },
    {
     "name": "stderr",
     "output_type": "stream",
     "text": [
      "12:48:09 - cmdstanpy - INFO - Chain [1] start processing\n",
      "12:48:09 - cmdstanpy - INFO - Chain [1] done processing\n"
     ]
    },
    {
     "name": "stdout",
     "output_type": "stream",
     "text": [
      "Params: (0.001, 1.0, 'additive', 35, 0.85, 8) | MAE: 3751.73, MAPE: 23.83%\n"
     ]
    },
    {
     "name": "stderr",
     "output_type": "stream",
     "text": [
      "12:48:09 - cmdstanpy - INFO - Chain [1] start processing\n",
      "12:48:09 - cmdstanpy - INFO - Chain [1] done processing\n"
     ]
    },
    {
     "name": "stdout",
     "output_type": "stream",
     "text": [
      "Params: (0.001, 1.0, 'additive', 35, 0.85, 12) | MAE: 3677.42, MAPE: 23.33%\n"
     ]
    },
    {
     "name": "stderr",
     "output_type": "stream",
     "text": [
      "12:48:09 - cmdstanpy - INFO - Chain [1] start processing\n",
      "12:48:09 - cmdstanpy - INFO - Chain [1] done processing\n"
     ]
    },
    {
     "name": "stdout",
     "output_type": "stream",
     "text": [
      "Params: (0.001, 1.0, 'additive', 35, 0.9, 8) | MAE: 3741.70, MAPE: 23.76%\n"
     ]
    },
    {
     "name": "stderr",
     "output_type": "stream",
     "text": [
      "12:48:09 - cmdstanpy - INFO - Chain [1] start processing\n",
      "12:48:09 - cmdstanpy - INFO - Chain [1] done processing\n"
     ]
    },
    {
     "name": "stdout",
     "output_type": "stream",
     "text": [
      "Params: (0.001, 1.0, 'additive', 35, 0.9, 12) | MAE: 3706.19, MAPE: 23.53%\n"
     ]
    },
    {
     "name": "stderr",
     "output_type": "stream",
     "text": [
      "12:48:10 - cmdstanpy - INFO - Chain [1] start processing\n",
      "12:48:10 - cmdstanpy - INFO - Chain [1] done processing\n"
     ]
    },
    {
     "name": "stdout",
     "output_type": "stream",
     "text": [
      "Params: (0.001, 1.0, 'multiplicative', 25, 0.85, 8) | MAE: 3586.95, MAPE: 23.18%\n"
     ]
    },
    {
     "name": "stderr",
     "output_type": "stream",
     "text": [
      "12:48:10 - cmdstanpy - INFO - Chain [1] start processing\n",
      "12:48:10 - cmdstanpy - INFO - Chain [1] done processing\n"
     ]
    },
    {
     "name": "stdout",
     "output_type": "stream",
     "text": [
      "Params: (0.001, 1.0, 'multiplicative', 25, 0.85, 12) | MAE: 3574.56, MAPE: 23.10%\n"
     ]
    },
    {
     "name": "stderr",
     "output_type": "stream",
     "text": [
      "12:48:10 - cmdstanpy - INFO - Chain [1] start processing\n",
      "12:48:10 - cmdstanpy - INFO - Chain [1] done processing\n"
     ]
    },
    {
     "name": "stdout",
     "output_type": "stream",
     "text": [
      "Params: (0.001, 1.0, 'multiplicative', 25, 0.9, 8) | MAE: 3758.82, MAPE: 24.21%\n"
     ]
    },
    {
     "name": "stderr",
     "output_type": "stream",
     "text": [
      "12:48:10 - cmdstanpy - INFO - Chain [1] start processing\n",
      "12:48:10 - cmdstanpy - INFO - Chain [1] done processing\n"
     ]
    },
    {
     "name": "stdout",
     "output_type": "stream",
     "text": [
      "Params: (0.001, 1.0, 'multiplicative', 25, 0.9, 12) | MAE: 3990.53, MAPE: 25.70%\n"
     ]
    },
    {
     "name": "stderr",
     "output_type": "stream",
     "text": [
      "12:48:11 - cmdstanpy - INFO - Chain [1] start processing\n",
      "12:48:11 - cmdstanpy - INFO - Chain [1] done processing\n"
     ]
    },
    {
     "name": "stdout",
     "output_type": "stream",
     "text": [
      "Params: (0.001, 1.0, 'multiplicative', 30, 0.85, 8) | MAE: 3628.07, MAPE: 23.43%\n"
     ]
    },
    {
     "name": "stderr",
     "output_type": "stream",
     "text": [
      "12:48:11 - cmdstanpy - INFO - Chain [1] start processing\n",
      "12:48:11 - cmdstanpy - INFO - Chain [1] done processing\n"
     ]
    },
    {
     "name": "stdout",
     "output_type": "stream",
     "text": [
      "Params: (0.001, 1.0, 'multiplicative', 30, 0.85, 12) | MAE: 3761.81, MAPE: 24.24%\n"
     ]
    },
    {
     "name": "stderr",
     "output_type": "stream",
     "text": [
      "12:48:11 - cmdstanpy - INFO - Chain [1] start processing\n",
      "12:48:11 - cmdstanpy - INFO - Chain [1] done processing\n"
     ]
    },
    {
     "name": "stdout",
     "output_type": "stream",
     "text": [
      "Params: (0.001, 1.0, 'multiplicative', 30, 0.9, 8) | MAE: 3852.36, MAPE: 24.81%\n"
     ]
    },
    {
     "name": "stderr",
     "output_type": "stream",
     "text": [
      "12:48:11 - cmdstanpy - INFO - Chain [1] start processing\n",
      "12:48:11 - cmdstanpy - INFO - Chain [1] done processing\n"
     ]
    },
    {
     "name": "stdout",
     "output_type": "stream",
     "text": [
      "Params: (0.001, 1.0, 'multiplicative', 30, 0.9, 12) | MAE: 3836.19, MAPE: 24.77%\n"
     ]
    },
    {
     "name": "stderr",
     "output_type": "stream",
     "text": [
      "12:48:12 - cmdstanpy - INFO - Chain [1] start processing\n",
      "12:48:12 - cmdstanpy - INFO - Chain [1] done processing\n"
     ]
    },
    {
     "name": "stdout",
     "output_type": "stream",
     "text": [
      "Params: (0.001, 1.0, 'multiplicative', 35, 0.85, 8) | MAE: 3725.70, MAPE: 24.00%\n"
     ]
    },
    {
     "name": "stderr",
     "output_type": "stream",
     "text": [
      "12:48:12 - cmdstanpy - INFO - Chain [1] start processing\n",
      "12:48:12 - cmdstanpy - INFO - Chain [1] done processing\n"
     ]
    },
    {
     "name": "stdout",
     "output_type": "stream",
     "text": [
      "Params: (0.001, 1.0, 'multiplicative', 35, 0.85, 12) | MAE: 3805.58, MAPE: 24.45%\n"
     ]
    },
    {
     "name": "stderr",
     "output_type": "stream",
     "text": [
      "12:48:12 - cmdstanpy - INFO - Chain [1] start processing\n",
      "12:48:12 - cmdstanpy - INFO - Chain [1] done processing\n"
     ]
    },
    {
     "name": "stdout",
     "output_type": "stream",
     "text": [
      "Params: (0.001, 1.0, 'multiplicative', 35, 0.9, 8) | MAE: 3787.42, MAPE: 24.38%\n"
     ]
    },
    {
     "name": "stderr",
     "output_type": "stream",
     "text": [
      "12:48:12 - cmdstanpy - INFO - Chain [1] start processing\n",
      "12:48:13 - cmdstanpy - INFO - Chain [1] done processing\n"
     ]
    },
    {
     "name": "stdout",
     "output_type": "stream",
     "text": [
      "Params: (0.001, 1.0, 'multiplicative', 35, 0.9, 12) | MAE: 3697.60, MAPE: 23.83%\n"
     ]
    },
    {
     "name": "stderr",
     "output_type": "stream",
     "text": [
      "12:48:13 - cmdstanpy - INFO - Chain [1] start processing\n",
      "12:48:13 - cmdstanpy - INFO - Chain [1] done processing\n"
     ]
    },
    {
     "name": "stdout",
     "output_type": "stream",
     "text": [
      "Params: (0.001, 10.0, 'additive', 25, 0.85, 8) | MAE: 3871.69, MAPE: 24.64%\n"
     ]
    },
    {
     "name": "stderr",
     "output_type": "stream",
     "text": [
      "12:48:13 - cmdstanpy - INFO - Chain [1] start processing\n",
      "12:48:13 - cmdstanpy - INFO - Chain [1] done processing\n"
     ]
    },
    {
     "name": "stdout",
     "output_type": "stream",
     "text": [
      "Params: (0.001, 10.0, 'additive', 25, 0.85, 12) | MAE: 3741.69, MAPE: 23.75%\n"
     ]
    },
    {
     "name": "stderr",
     "output_type": "stream",
     "text": [
      "12:48:13 - cmdstanpy - INFO - Chain [1] start processing\n",
      "12:48:13 - cmdstanpy - INFO - Chain [1] done processing\n"
     ]
    },
    {
     "name": "stdout",
     "output_type": "stream",
     "text": [
      "Params: (0.001, 10.0, 'additive', 25, 0.9, 8) | MAE: 3653.87, MAPE: 23.24%\n"
     ]
    },
    {
     "name": "stderr",
     "output_type": "stream",
     "text": [
      "12:48:13 - cmdstanpy - INFO - Chain [1] start processing\n",
      "12:48:14 - cmdstanpy - INFO - Chain [1] done processing\n"
     ]
    },
    {
     "name": "stdout",
     "output_type": "stream",
     "text": [
      "Params: (0.001, 10.0, 'additive', 25, 0.9, 12) | MAE: 3848.10, MAPE: 24.46%\n"
     ]
    },
    {
     "name": "stderr",
     "output_type": "stream",
     "text": [
      "12:48:14 - cmdstanpy - INFO - Chain [1] start processing\n",
      "12:48:14 - cmdstanpy - INFO - Chain [1] done processing\n"
     ]
    },
    {
     "name": "stdout",
     "output_type": "stream",
     "text": [
      "Params: (0.001, 10.0, 'additive', 30, 0.85, 8) | MAE: 4019.81, MAPE: 25.59%\n"
     ]
    },
    {
     "name": "stderr",
     "output_type": "stream",
     "text": [
      "12:48:14 - cmdstanpy - INFO - Chain [1] start processing\n",
      "12:48:14 - cmdstanpy - INFO - Chain [1] done processing\n"
     ]
    },
    {
     "name": "stdout",
     "output_type": "stream",
     "text": [
      "Params: (0.001, 10.0, 'additive', 30, 0.85, 12) | MAE: 3852.34, MAPE: 24.52%\n"
     ]
    },
    {
     "name": "stderr",
     "output_type": "stream",
     "text": [
      "12:48:14 - cmdstanpy - INFO - Chain [1] start processing\n",
      "12:48:14 - cmdstanpy - INFO - Chain [1] done processing\n"
     ]
    },
    {
     "name": "stdout",
     "output_type": "stream",
     "text": [
      "Params: (0.001, 10.0, 'additive', 30, 0.9, 8) | MAE: 3851.51, MAPE: 24.52%\n"
     ]
    },
    {
     "name": "stderr",
     "output_type": "stream",
     "text": [
      "12:48:14 - cmdstanpy - INFO - Chain [1] start processing\n",
      "12:48:15 - cmdstanpy - INFO - Chain [1] done processing\n"
     ]
    },
    {
     "name": "stdout",
     "output_type": "stream",
     "text": [
      "Params: (0.001, 10.0, 'additive', 30, 0.9, 12) | MAE: 3909.06, MAPE: 24.84%\n"
     ]
    },
    {
     "name": "stderr",
     "output_type": "stream",
     "text": [
      "12:48:15 - cmdstanpy - INFO - Chain [1] start processing\n",
      "12:48:15 - cmdstanpy - INFO - Chain [1] done processing\n"
     ]
    },
    {
     "name": "stdout",
     "output_type": "stream",
     "text": [
      "Params: (0.001, 10.0, 'additive', 35, 0.85, 8) | MAE: 3648.33, MAPE: 23.18%\n"
     ]
    },
    {
     "name": "stderr",
     "output_type": "stream",
     "text": [
      "12:48:15 - cmdstanpy - INFO - Chain [1] start processing\n",
      "12:48:15 - cmdstanpy - INFO - Chain [1] done processing\n"
     ]
    },
    {
     "name": "stdout",
     "output_type": "stream",
     "text": [
      "Params: (0.001, 10.0, 'additive', 35, 0.85, 12) | MAE: 3540.25, MAPE: 22.46%\n"
     ]
    },
    {
     "name": "stderr",
     "output_type": "stream",
     "text": [
      "12:48:15 - cmdstanpy - INFO - Chain [1] start processing\n",
      "12:48:15 - cmdstanpy - INFO - Chain [1] done processing\n"
     ]
    },
    {
     "name": "stdout",
     "output_type": "stream",
     "text": [
      "Params: (0.001, 10.0, 'additive', 35, 0.9, 8) | MAE: 3617.59, MAPE: 22.98%\n"
     ]
    },
    {
     "name": "stderr",
     "output_type": "stream",
     "text": [
      "12:48:16 - cmdstanpy - INFO - Chain [1] start processing\n",
      "12:48:16 - cmdstanpy - INFO - Chain [1] done processing\n"
     ]
    },
    {
     "name": "stdout",
     "output_type": "stream",
     "text": [
      "Params: (0.001, 10.0, 'additive', 35, 0.9, 12) | MAE: 3588.74, MAPE: 22.79%\n"
     ]
    },
    {
     "name": "stderr",
     "output_type": "stream",
     "text": [
      "12:48:16 - cmdstanpy - INFO - Chain [1] start processing\n"
     ]
    },
    {
     "name": "stdout",
     "output_type": "stream",
     "text": [
      "Params: (0.001, 10.0, 'multiplicative', 25, 0.85, 8) | MAE: 3559.91, MAPE: 23.01%\n"
     ]
    },
    {
     "name": "stderr",
     "output_type": "stream",
     "text": [
      "12:48:16 - cmdstanpy - INFO - Chain [1] done processing\n",
      "12:48:16 - cmdstanpy - INFO - Chain [1] start processing\n",
      "12:48:16 - cmdstanpy - INFO - Chain [1] done processing\n"
     ]
    },
    {
     "name": "stdout",
     "output_type": "stream",
     "text": [
      "Params: (0.001, 10.0, 'multiplicative', 25, 0.85, 12) | MAE: 3479.16, MAPE: 22.49%\n"
     ]
    },
    {
     "name": "stderr",
     "output_type": "stream",
     "text": [
      "12:48:17 - cmdstanpy - INFO - Chain [1] start processing\n",
      "12:48:17 - cmdstanpy - INFO - Chain [1] done processing\n"
     ]
    },
    {
     "name": "stdout",
     "output_type": "stream",
     "text": [
      "Params: (0.001, 10.0, 'multiplicative', 25, 0.9, 8) | MAE: 3908.83, MAPE: 25.16%\n"
     ]
    },
    {
     "name": "stderr",
     "output_type": "stream",
     "text": [
      "12:48:17 - cmdstanpy - INFO - Chain [1] start processing\n",
      "12:48:17 - cmdstanpy - INFO - Chain [1] done processing\n"
     ]
    },
    {
     "name": "stdout",
     "output_type": "stream",
     "text": [
      "Params: (0.001, 10.0, 'multiplicative', 25, 0.9, 12) | MAE: 3807.05, MAPE: 24.54%\n"
     ]
    },
    {
     "name": "stderr",
     "output_type": "stream",
     "text": [
      "12:48:17 - cmdstanpy - INFO - Chain [1] start processing\n",
      "12:48:17 - cmdstanpy - INFO - Chain [1] done processing\n"
     ]
    },
    {
     "name": "stdout",
     "output_type": "stream",
     "text": [
      "Params: (0.001, 10.0, 'multiplicative', 30, 0.85, 8) | MAE: 3646.54, MAPE: 23.55%\n"
     ]
    },
    {
     "name": "stderr",
     "output_type": "stream",
     "text": [
      "12:48:17 - cmdstanpy - INFO - Chain [1] start processing\n",
      "12:48:17 - cmdstanpy - INFO - Chain [1] done processing\n"
     ]
    },
    {
     "name": "stdout",
     "output_type": "stream",
     "text": [
      "Params: (0.001, 10.0, 'multiplicative', 30, 0.85, 12) | MAE: 3773.02, MAPE: 24.31%\n"
     ]
    },
    {
     "name": "stderr",
     "output_type": "stream",
     "text": [
      "12:48:18 - cmdstanpy - INFO - Chain [1] start processing\n",
      "12:48:18 - cmdstanpy - INFO - Chain [1] done processing\n"
     ]
    },
    {
     "name": "stdout",
     "output_type": "stream",
     "text": [
      "Params: (0.001, 10.0, 'multiplicative', 30, 0.9, 8) | MAE: 3809.15, MAPE: 24.59%\n"
     ]
    },
    {
     "name": "stderr",
     "output_type": "stream",
     "text": [
      "12:48:18 - cmdstanpy - INFO - Chain [1] start processing\n",
      "12:48:18 - cmdstanpy - INFO - Chain [1] done processing\n"
     ]
    },
    {
     "name": "stdout",
     "output_type": "stream",
     "text": [
      "Params: (0.001, 10.0, 'multiplicative', 30, 0.9, 12) | MAE: 3791.69, MAPE: 24.49%\n"
     ]
    },
    {
     "name": "stderr",
     "output_type": "stream",
     "text": [
      "12:48:18 - cmdstanpy - INFO - Chain [1] start processing\n",
      "12:48:18 - cmdstanpy - INFO - Chain [1] done processing\n"
     ]
    },
    {
     "name": "stdout",
     "output_type": "stream",
     "text": [
      "Params: (0.001, 10.0, 'multiplicative', 35, 0.85, 8) | MAE: 3550.23, MAPE: 22.92%\n"
     ]
    },
    {
     "name": "stderr",
     "output_type": "stream",
     "text": [
      "12:48:18 - cmdstanpy - INFO - Chain [1] start processing\n",
      "12:48:18 - cmdstanpy - INFO - Chain [1] done processing\n"
     ]
    },
    {
     "name": "stdout",
     "output_type": "stream",
     "text": [
      "Params: (0.001, 10.0, 'multiplicative', 35, 0.85, 12) | MAE: 3592.49, MAPE: 23.15%\n"
     ]
    },
    {
     "name": "stderr",
     "output_type": "stream",
     "text": [
      "12:48:19 - cmdstanpy - INFO - Chain [1] start processing\n",
      "12:48:19 - cmdstanpy - INFO - Chain [1] done processing\n"
     ]
    },
    {
     "name": "stdout",
     "output_type": "stream",
     "text": [
      "Params: (0.001, 10.0, 'multiplicative', 35, 0.9, 8) | MAE: 3797.48, MAPE: 24.46%\n"
     ]
    },
    {
     "name": "stderr",
     "output_type": "stream",
     "text": [
      "12:48:19 - cmdstanpy - INFO - Chain [1] start processing\n",
      "12:48:19 - cmdstanpy - INFO - Chain [1] done processing\n"
     ]
    },
    {
     "name": "stdout",
     "output_type": "stream",
     "text": [
      "Params: (0.001, 10.0, 'multiplicative', 35, 0.9, 12) | MAE: 3736.78, MAPE: 24.08%\n"
     ]
    },
    {
     "name": "stderr",
     "output_type": "stream",
     "text": [
      "12:48:19 - cmdstanpy - INFO - Chain [1] start processing\n",
      "12:48:19 - cmdstanpy - INFO - Chain [1] done processing\n"
     ]
    },
    {
     "name": "stdout",
     "output_type": "stream",
     "text": [
      "Params: (0.01, 0.01, 'additive', 25, 0.85, 8) | MAE: 7172.98, MAPE: 45.85%\n"
     ]
    },
    {
     "name": "stderr",
     "output_type": "stream",
     "text": [
      "12:48:20 - cmdstanpy - INFO - Chain [1] start processing\n",
      "12:48:20 - cmdstanpy - INFO - Chain [1] done processing\n"
     ]
    },
    {
     "name": "stdout",
     "output_type": "stream",
     "text": [
      "Params: (0.01, 0.01, 'additive', 25, 0.85, 12) | MAE: 7110.04, MAPE: 45.43%\n"
     ]
    },
    {
     "name": "stderr",
     "output_type": "stream",
     "text": [
      "12:48:20 - cmdstanpy - INFO - Chain [1] start processing\n"
     ]
    },
    {
     "name": "stdout",
     "output_type": "stream",
     "text": [
      "Params: (0.01, 0.01, 'additive', 25, 0.9, 8) | MAE: 7342.29, MAPE: 46.95%\n"
     ]
    },
    {
     "name": "stderr",
     "output_type": "stream",
     "text": [
      "12:48:20 - cmdstanpy - INFO - Chain [1] done processing\n",
      "12:48:20 - cmdstanpy - INFO - Chain [1] start processing\n"
     ]
    },
    {
     "name": "stdout",
     "output_type": "stream",
     "text": [
      "Params: (0.01, 0.01, 'additive', 25, 0.9, 12) | MAE: 6959.17, MAPE: 44.47%\n"
     ]
    },
    {
     "name": "stderr",
     "output_type": "stream",
     "text": [
      "12:48:20 - cmdstanpy - INFO - Chain [1] done processing\n",
      "12:48:21 - cmdstanpy - INFO - Chain [1] start processing\n"
     ]
    },
    {
     "name": "stdout",
     "output_type": "stream",
     "text": [
      "Params: (0.01, 0.01, 'additive', 30, 0.85, 8) | MAE: 7228.18, MAPE: 46.21%\n"
     ]
    },
    {
     "name": "stderr",
     "output_type": "stream",
     "text": [
      "12:48:21 - cmdstanpy - INFO - Chain [1] done processing\n",
      "12:48:21 - cmdstanpy - INFO - Chain [1] start processing\n",
      "12:48:21 - cmdstanpy - INFO - Chain [1] done processing\n"
     ]
    },
    {
     "name": "stdout",
     "output_type": "stream",
     "text": [
      "Params: (0.01, 0.01, 'additive', 30, 0.85, 12) | MAE: 7017.68, MAPE: 44.84%\n"
     ]
    },
    {
     "name": "stderr",
     "output_type": "stream",
     "text": [
      "12:48:21 - cmdstanpy - INFO - Chain [1] start processing\n"
     ]
    },
    {
     "name": "stdout",
     "output_type": "stream",
     "text": [
      "Params: (0.01, 0.01, 'additive', 30, 0.9, 8) | MAE: 7143.93, MAPE: 45.65%\n"
     ]
    },
    {
     "name": "stderr",
     "output_type": "stream",
     "text": [
      "12:48:21 - cmdstanpy - INFO - Chain [1] done processing\n",
      "12:48:21 - cmdstanpy - INFO - Chain [1] start processing\n",
      "12:48:22 - cmdstanpy - INFO - Chain [1] done processing\n"
     ]
    },
    {
     "name": "stdout",
     "output_type": "stream",
     "text": [
      "Params: (0.01, 0.01, 'additive', 30, 0.9, 12) | MAE: 6867.24, MAPE: 43.85%\n"
     ]
    },
    {
     "name": "stderr",
     "output_type": "stream",
     "text": [
      "12:48:22 - cmdstanpy - INFO - Chain [1] start processing\n"
     ]
    },
    {
     "name": "stdout",
     "output_type": "stream",
     "text": [
      "Params: (0.01, 0.01, 'additive', 35, 0.85, 8) | MAE: 7260.35, MAPE: 46.44%\n"
     ]
    },
    {
     "name": "stderr",
     "output_type": "stream",
     "text": [
      "12:48:22 - cmdstanpy - INFO - Chain [1] done processing\n",
      "12:48:22 - cmdstanpy - INFO - Chain [1] start processing\n",
      "12:48:22 - cmdstanpy - INFO - Chain [1] done processing\n"
     ]
    },
    {
     "name": "stdout",
     "output_type": "stream",
     "text": [
      "Params: (0.01, 0.01, 'additive', 35, 0.85, 12) | MAE: 7140.63, MAPE: 45.65%\n"
     ]
    },
    {
     "name": "stderr",
     "output_type": "stream",
     "text": [
      "12:48:22 - cmdstanpy - INFO - Chain [1] start processing\n"
     ]
    },
    {
     "name": "stdout",
     "output_type": "stream",
     "text": [
      "Params: (0.01, 0.01, 'additive', 35, 0.9, 8) | MAE: 6983.52, MAPE: 44.61%\n"
     ]
    },
    {
     "name": "stderr",
     "output_type": "stream",
     "text": [
      "12:48:23 - cmdstanpy - INFO - Chain [1] done processing\n",
      "12:48:23 - cmdstanpy - INFO - Chain [1] start processing\n",
      "12:48:23 - cmdstanpy - INFO - Chain [1] done processing\n"
     ]
    },
    {
     "name": "stdout",
     "output_type": "stream",
     "text": [
      "Params: (0.01, 0.01, 'additive', 35, 0.9, 12) | MAE: 6834.80, MAPE: 43.64%\n"
     ]
    },
    {
     "name": "stderr",
     "output_type": "stream",
     "text": [
      "12:48:23 - cmdstanpy - INFO - Chain [1] start processing\n"
     ]
    },
    {
     "name": "stdout",
     "output_type": "stream",
     "text": [
      "Params: (0.01, 0.01, 'multiplicative', 25, 0.85, 8) | MAE: 6365.44, MAPE: 40.84%\n"
     ]
    },
    {
     "name": "stderr",
     "output_type": "stream",
     "text": [
      "12:48:23 - cmdstanpy - INFO - Chain [1] done processing\n",
      "12:48:23 - cmdstanpy - INFO - Chain [1] start processing\n",
      "12:48:23 - cmdstanpy - INFO - Chain [1] done processing\n"
     ]
    },
    {
     "name": "stdout",
     "output_type": "stream",
     "text": [
      "Params: (0.01, 0.01, 'multiplicative', 25, 0.85, 12) | MAE: 6029.04, MAPE: 38.66%\n"
     ]
    },
    {
     "name": "stderr",
     "output_type": "stream",
     "text": [
      "12:48:24 - cmdstanpy - INFO - Chain [1] start processing\n",
      "12:48:24 - cmdstanpy - INFO - Chain [1] done processing\n"
     ]
    },
    {
     "name": "stdout",
     "output_type": "stream",
     "text": [
      "Params: (0.01, 0.01, 'multiplicative', 25, 0.9, 8) | MAE: 6067.46, MAPE: 38.89%\n"
     ]
    },
    {
     "name": "stderr",
     "output_type": "stream",
     "text": [
      "12:48:24 - cmdstanpy - INFO - Chain [1] start processing\n"
     ]
    },
    {
     "name": "stdout",
     "output_type": "stream",
     "text": [
      "Params: (0.01, 0.01, 'multiplicative', 25, 0.9, 12) | MAE: 6246.29, MAPE: 40.04%\n"
     ]
    },
    {
     "name": "stderr",
     "output_type": "stream",
     "text": [
      "12:48:24 - cmdstanpy - INFO - Chain [1] done processing\n",
      "12:48:24 - cmdstanpy - INFO - Chain [1] start processing\n"
     ]
    },
    {
     "name": "stdout",
     "output_type": "stream",
     "text": [
      "Params: (0.01, 0.01, 'multiplicative', 30, 0.85, 8) | MAE: 5649.07, MAPE: 36.20%\n"
     ]
    },
    {
     "name": "stderr",
     "output_type": "stream",
     "text": [
      "12:48:24 - cmdstanpy - INFO - Chain [1] done processing\n",
      "12:48:25 - cmdstanpy - INFO - Chain [1] start processing\n",
      "12:48:25 - cmdstanpy - INFO - Chain [1] done processing\n"
     ]
    },
    {
     "name": "stdout",
     "output_type": "stream",
     "text": [
      "Params: (0.01, 0.01, 'multiplicative', 30, 0.85, 12) | MAE: 5567.85, MAPE: 35.68%\n"
     ]
    },
    {
     "name": "stderr",
     "output_type": "stream",
     "text": [
      "12:48:25 - cmdstanpy - INFO - Chain [1] start processing\n",
      "12:48:25 - cmdstanpy - INFO - Chain [1] done processing\n"
     ]
    },
    {
     "name": "stdout",
     "output_type": "stream",
     "text": [
      "Params: (0.01, 0.01, 'multiplicative', 30, 0.9, 8) | MAE: 5714.03, MAPE: 36.61%\n"
     ]
    },
    {
     "name": "stderr",
     "output_type": "stream",
     "text": [
      "12:48:25 - cmdstanpy - INFO - Chain [1] start processing\n",
      "12:48:25 - cmdstanpy - INFO - Chain [1] done processing\n"
     ]
    },
    {
     "name": "stdout",
     "output_type": "stream",
     "text": [
      "Params: (0.01, 0.01, 'multiplicative', 30, 0.9, 12) | MAE: 5871.79, MAPE: 37.62%\n"
     ]
    },
    {
     "name": "stderr",
     "output_type": "stream",
     "text": [
      "12:48:25 - cmdstanpy - INFO - Chain [1] start processing\n",
      "12:48:26 - cmdstanpy - INFO - Chain [1] done processing\n"
     ]
    },
    {
     "name": "stdout",
     "output_type": "stream",
     "text": [
      "Params: (0.01, 0.01, 'multiplicative', 35, 0.85, 8) | MAE: 6052.72, MAPE: 38.82%\n"
     ]
    },
    {
     "name": "stderr",
     "output_type": "stream",
     "text": [
      "12:48:26 - cmdstanpy - INFO - Chain [1] start processing\n",
      "12:48:26 - cmdstanpy - INFO - Chain [1] done processing\n"
     ]
    },
    {
     "name": "stdout",
     "output_type": "stream",
     "text": [
      "Params: (0.01, 0.01, 'multiplicative', 35, 0.85, 12) | MAE: 5910.38, MAPE: 37.88%\n"
     ]
    },
    {
     "name": "stderr",
     "output_type": "stream",
     "text": [
      "12:48:26 - cmdstanpy - INFO - Chain [1] start processing\n"
     ]
    },
    {
     "name": "stdout",
     "output_type": "stream",
     "text": [
      "Params: (0.01, 0.01, 'multiplicative', 35, 0.9, 8) | MAE: 6090.67, MAPE: 39.04%\n"
     ]
    },
    {
     "name": "stderr",
     "output_type": "stream",
     "text": [
      "12:48:26 - cmdstanpy - INFO - Chain [1] done processing\n",
      "12:48:26 - cmdstanpy - INFO - Chain [1] start processing\n"
     ]
    },
    {
     "name": "stdout",
     "output_type": "stream",
     "text": [
      "Params: (0.01, 0.01, 'multiplicative', 35, 0.9, 12) | MAE: 5818.22, MAPE: 37.28%\n"
     ]
    },
    {
     "name": "stderr",
     "output_type": "stream",
     "text": [
      "12:48:26 - cmdstanpy - INFO - Chain [1] done processing\n",
      "12:48:27 - cmdstanpy - INFO - Chain [1] start processing\n",
      "12:48:27 - cmdstanpy - INFO - Chain [1] done processing\n"
     ]
    },
    {
     "name": "stdout",
     "output_type": "stream",
     "text": [
      "Params: (0.01, 0.1, 'additive', 25, 0.85, 8) | MAE: 7613.11, MAPE: 48.68%\n"
     ]
    },
    {
     "name": "stderr",
     "output_type": "stream",
     "text": [
      "12:48:27 - cmdstanpy - INFO - Chain [1] start processing\n",
      "12:48:27 - cmdstanpy - INFO - Chain [1] done processing\n"
     ]
    },
    {
     "name": "stdout",
     "output_type": "stream",
     "text": [
      "Params: (0.01, 0.1, 'additive', 25, 0.85, 12) | MAE: 7441.09, MAPE: 47.56%\n"
     ]
    },
    {
     "name": "stderr",
     "output_type": "stream",
     "text": [
      "12:48:27 - cmdstanpy - INFO - Chain [1] start processing\n"
     ]
    },
    {
     "name": "stdout",
     "output_type": "stream",
     "text": [
      "Params: (0.01, 0.1, 'additive', 25, 0.9, 8) | MAE: 7759.32, MAPE: 49.62%\n"
     ]
    },
    {
     "name": "stderr",
     "output_type": "stream",
     "text": [
      "12:48:27 - cmdstanpy - INFO - Chain [1] done processing\n",
      "12:48:28 - cmdstanpy - INFO - Chain [1] start processing\n"
     ]
    },
    {
     "name": "stdout",
     "output_type": "stream",
     "text": [
      "Params: (0.01, 0.1, 'additive', 25, 0.9, 12) | MAE: 7334.13, MAPE: 46.85%\n"
     ]
    },
    {
     "name": "stderr",
     "output_type": "stream",
     "text": [
      "12:48:28 - cmdstanpy - INFO - Chain [1] done processing\n",
      "12:48:28 - cmdstanpy - INFO - Chain [1] start processing\n"
     ]
    },
    {
     "name": "stdout",
     "output_type": "stream",
     "text": [
      "Params: (0.01, 0.1, 'additive', 30, 0.85, 8) | MAE: 7629.52, MAPE: 48.78%\n"
     ]
    },
    {
     "name": "stderr",
     "output_type": "stream",
     "text": [
      "12:48:28 - cmdstanpy - INFO - Chain [1] done processing\n",
      "12:48:28 - cmdstanpy - INFO - Chain [1] start processing\n",
      "12:48:28 - cmdstanpy - INFO - Chain [1] done processing\n"
     ]
    },
    {
     "name": "stdout",
     "output_type": "stream",
     "text": [
      "Params: (0.01, 0.1, 'additive', 30, 0.85, 12) | MAE: 7430.03, MAPE: 47.48%\n"
     ]
    },
    {
     "name": "stderr",
     "output_type": "stream",
     "text": [
      "12:48:29 - cmdstanpy - INFO - Chain [1] start processing\n"
     ]
    },
    {
     "name": "stdout",
     "output_type": "stream",
     "text": [
      "Params: (0.01, 0.1, 'additive', 30, 0.9, 8) | MAE: 7532.97, MAPE: 48.16%\n"
     ]
    },
    {
     "name": "stderr",
     "output_type": "stream",
     "text": [
      "12:48:29 - cmdstanpy - INFO - Chain [1] done processing\n",
      "12:48:29 - cmdstanpy - INFO - Chain [1] start processing\n"
     ]
    },
    {
     "name": "stdout",
     "output_type": "stream",
     "text": [
      "Params: (0.01, 0.1, 'additive', 30, 0.9, 12) | MAE: 7452.38, MAPE: 47.63%\n"
     ]
    },
    {
     "name": "stderr",
     "output_type": "stream",
     "text": [
      "12:48:29 - cmdstanpy - INFO - Chain [1] done processing\n",
      "12:48:29 - cmdstanpy - INFO - Chain [1] start processing\n"
     ]
    },
    {
     "name": "stdout",
     "output_type": "stream",
     "text": [
      "Params: (0.01, 0.1, 'additive', 35, 0.85, 8) | MAE: 7550.06, MAPE: 48.27%\n"
     ]
    },
    {
     "name": "stderr",
     "output_type": "stream",
     "text": [
      "12:48:29 - cmdstanpy - INFO - Chain [1] done processing\n",
      "12:48:30 - cmdstanpy - INFO - Chain [1] start processing\n",
      "12:48:30 - cmdstanpy - INFO - Chain [1] done processing\n"
     ]
    },
    {
     "name": "stdout",
     "output_type": "stream",
     "text": [
      "Params: (0.01, 0.1, 'additive', 35, 0.85, 12) | MAE: 7506.55, MAPE: 48.00%\n"
     ]
    },
    {
     "name": "stderr",
     "output_type": "stream",
     "text": [
      "12:48:30 - cmdstanpy - INFO - Chain [1] start processing\n"
     ]
    },
    {
     "name": "stdout",
     "output_type": "stream",
     "text": [
      "Params: (0.01, 0.1, 'additive', 35, 0.9, 8) | MAE: 7810.63, MAPE: 49.97%\n"
     ]
    },
    {
     "name": "stderr",
     "output_type": "stream",
     "text": [
      "12:48:30 - cmdstanpy - INFO - Chain [1] done processing\n",
      "12:48:30 - cmdstanpy - INFO - Chain [1] start processing\n"
     ]
    },
    {
     "name": "stdout",
     "output_type": "stream",
     "text": [
      "Params: (0.01, 0.1, 'additive', 35, 0.9, 12) | MAE: 7084.35, MAPE: 45.23%\n"
     ]
    },
    {
     "name": "stderr",
     "output_type": "stream",
     "text": [
      "12:48:31 - cmdstanpy - INFO - Chain [1] done processing\n",
      "12:48:31 - cmdstanpy - INFO - Chain [1] start processing\n",
      "12:48:31 - cmdstanpy - INFO - Chain [1] done processing\n"
     ]
    },
    {
     "name": "stdout",
     "output_type": "stream",
     "text": [
      "Params: (0.01, 0.1, 'multiplicative', 25, 0.85, 8) | MAE: 6781.49, MAPE: 43.45%\n"
     ]
    },
    {
     "name": "stderr",
     "output_type": "stream",
     "text": [
      "12:48:31 - cmdstanpy - INFO - Chain [1] start processing\n"
     ]
    },
    {
     "name": "stdout",
     "output_type": "stream",
     "text": [
      "Params: (0.01, 0.1, 'multiplicative', 25, 0.85, 12) | MAE: 6772.56, MAPE: 43.38%\n"
     ]
    },
    {
     "name": "stderr",
     "output_type": "stream",
     "text": [
      "12:48:31 - cmdstanpy - INFO - Chain [1] done processing\n",
      "12:48:31 - cmdstanpy - INFO - Chain [1] start processing\n"
     ]
    },
    {
     "name": "stdout",
     "output_type": "stream",
     "text": [
      "Params: (0.01, 0.1, 'multiplicative', 25, 0.9, 8) | MAE: 7063.87, MAPE: 45.27%\n"
     ]
    },
    {
     "name": "stderr",
     "output_type": "stream",
     "text": [
      "12:48:32 - cmdstanpy - INFO - Chain [1] done processing\n",
      "12:48:32 - cmdstanpy - INFO - Chain [1] start processing\n"
     ]
    },
    {
     "name": "stdout",
     "output_type": "stream",
     "text": [
      "Params: (0.01, 0.1, 'multiplicative', 25, 0.9, 12) | MAE: 6581.82, MAPE: 42.14%\n"
     ]
    },
    {
     "name": "stderr",
     "output_type": "stream",
     "text": [
      "12:48:32 - cmdstanpy - INFO - Chain [1] done processing\n",
      "12:48:32 - cmdstanpy - INFO - Chain [1] start processing\n"
     ]
    },
    {
     "name": "stdout",
     "output_type": "stream",
     "text": [
      "Params: (0.01, 0.1, 'multiplicative', 30, 0.85, 8) | MAE: 6958.04, MAPE: 44.60%\n"
     ]
    },
    {
     "name": "stderr",
     "output_type": "stream",
     "text": [
      "12:48:32 - cmdstanpy - INFO - Chain [1] done processing\n",
      "12:48:33 - cmdstanpy - INFO - Chain [1] start processing\n"
     ]
    },
    {
     "name": "stdout",
     "output_type": "stream",
     "text": [
      "Params: (0.01, 0.1, 'multiplicative', 30, 0.85, 12) | MAE: 6466.04, MAPE: 41.41%\n"
     ]
    },
    {
     "name": "stderr",
     "output_type": "stream",
     "text": [
      "12:48:33 - cmdstanpy - INFO - Chain [1] done processing\n",
      "12:48:33 - cmdstanpy - INFO - Chain [1] start processing\n"
     ]
    },
    {
     "name": "stdout",
     "output_type": "stream",
     "text": [
      "Params: (0.01, 0.1, 'multiplicative', 30, 0.9, 8) | MAE: 6839.21, MAPE: 43.82%\n"
     ]
    },
    {
     "name": "stderr",
     "output_type": "stream",
     "text": [
      "12:48:33 - cmdstanpy - INFO - Chain [1] done processing\n",
      "12:48:33 - cmdstanpy - INFO - Chain [1] start processing\n",
      "12:48:33 - cmdstanpy - INFO - Chain [1] done processing\n"
     ]
    },
    {
     "name": "stdout",
     "output_type": "stream",
     "text": [
      "Params: (0.01, 0.1, 'multiplicative', 30, 0.9, 12) | MAE: 6616.31, MAPE: 42.39%\n"
     ]
    },
    {
     "name": "stderr",
     "output_type": "stream",
     "text": [
      "12:48:34 - cmdstanpy - INFO - Chain [1] start processing\n"
     ]
    },
    {
     "name": "stdout",
     "output_type": "stream",
     "text": [
      "Params: (0.01, 0.1, 'multiplicative', 35, 0.85, 8) | MAE: 6832.91, MAPE: 43.79%\n"
     ]
    },
    {
     "name": "stderr",
     "output_type": "stream",
     "text": [
      "12:48:34 - cmdstanpy - INFO - Chain [1] done processing\n",
      "12:48:34 - cmdstanpy - INFO - Chain [1] start processing\n"
     ]
    },
    {
     "name": "stdout",
     "output_type": "stream",
     "text": [
      "Params: (0.01, 0.1, 'multiplicative', 35, 0.85, 12) | MAE: 6595.60, MAPE: 42.24%\n"
     ]
    },
    {
     "name": "stderr",
     "output_type": "stream",
     "text": [
      "12:48:34 - cmdstanpy - INFO - Chain [1] done processing\n",
      "12:48:34 - cmdstanpy - INFO - Chain [1] start processing\n"
     ]
    },
    {
     "name": "stdout",
     "output_type": "stream",
     "text": [
      "Params: (0.01, 0.1, 'multiplicative', 35, 0.9, 8) | MAE: 6830.49, MAPE: 43.77%\n"
     ]
    },
    {
     "name": "stderr",
     "output_type": "stream",
     "text": [
      "12:48:34 - cmdstanpy - INFO - Chain [1] done processing\n",
      "12:48:35 - cmdstanpy - INFO - Chain [1] start processing\n",
      "12:48:35 - cmdstanpy - INFO - Chain [1] done processing\n"
     ]
    },
    {
     "name": "stdout",
     "output_type": "stream",
     "text": [
      "Params: (0.01, 0.1, 'multiplicative', 35, 0.9, 12) | MAE: 6417.88, MAPE: 41.10%\n"
     ]
    },
    {
     "name": "stderr",
     "output_type": "stream",
     "text": [
      "12:48:35 - cmdstanpy - INFO - Chain [1] start processing\n",
      "12:48:35 - cmdstanpy - INFO - Chain [1] done processing\n"
     ]
    },
    {
     "name": "stdout",
     "output_type": "stream",
     "text": [
      "Params: (0.01, 1.0, 'additive', 25, 0.85, 8) | MAE: 7839.68, MAPE: 50.16%\n"
     ]
    },
    {
     "name": "stderr",
     "output_type": "stream",
     "text": [
      "12:48:35 - cmdstanpy - INFO - Chain [1] start processing\n",
      "12:48:35 - cmdstanpy - INFO - Chain [1] done processing\n"
     ]
    },
    {
     "name": "stdout",
     "output_type": "stream",
     "text": [
      "Params: (0.01, 1.0, 'additive', 25, 0.85, 12) | MAE: 7549.45, MAPE: 48.28%\n"
     ]
    },
    {
     "name": "stderr",
     "output_type": "stream",
     "text": [
      "12:48:36 - cmdstanpy - INFO - Chain [1] start processing\n"
     ]
    },
    {
     "name": "stdout",
     "output_type": "stream",
     "text": [
      "Params: (0.01, 1.0, 'additive', 25, 0.9, 8) | MAE: 7854.31, MAPE: 50.23%\n"
     ]
    },
    {
     "name": "stderr",
     "output_type": "stream",
     "text": [
      "12:48:36 - cmdstanpy - INFO - Chain [1] done processing\n",
      "12:48:36 - cmdstanpy - INFO - Chain [1] start processing\n",
      "12:48:36 - cmdstanpy - INFO - Chain [1] done processing\n"
     ]
    },
    {
     "name": "stdout",
     "output_type": "stream",
     "text": [
      "Params: (0.01, 1.0, 'additive', 25, 0.9, 12) | MAE: 7508.66, MAPE: 48.00%\n"
     ]
    },
    {
     "name": "stderr",
     "output_type": "stream",
     "text": [
      "12:48:36 - cmdstanpy - INFO - Chain [1] start processing\n"
     ]
    },
    {
     "name": "stdout",
     "output_type": "stream",
     "text": [
      "Params: (0.01, 1.0, 'additive', 30, 0.85, 8) | MAE: 7599.60, MAPE: 48.58%\n"
     ]
    },
    {
     "name": "stderr",
     "output_type": "stream",
     "text": [
      "12:48:36 - cmdstanpy - INFO - Chain [1] done processing\n",
      "12:48:37 - cmdstanpy - INFO - Chain [1] start processing\n",
      "12:48:37 - cmdstanpy - INFO - Chain [1] done processing\n"
     ]
    },
    {
     "name": "stdout",
     "output_type": "stream",
     "text": [
      "Params: (0.01, 1.0, 'additive', 30, 0.85, 12) | MAE: 7370.09, MAPE: 47.10%\n"
     ]
    },
    {
     "name": "stderr",
     "output_type": "stream",
     "text": [
      "12:48:37 - cmdstanpy - INFO - Chain [1] start processing\n",
      "12:48:37 - cmdstanpy - INFO - Chain [1] done processing\n"
     ]
    },
    {
     "name": "stdout",
     "output_type": "stream",
     "text": [
      "Params: (0.01, 1.0, 'additive', 30, 0.9, 8) | MAE: 7555.78, MAPE: 48.30%\n"
     ]
    },
    {
     "name": "stderr",
     "output_type": "stream",
     "text": [
      "12:48:37 - cmdstanpy - INFO - Chain [1] start processing\n"
     ]
    },
    {
     "name": "stdout",
     "output_type": "stream",
     "text": [
      "Params: (0.01, 1.0, 'additive', 30, 0.9, 12) | MAE: 7450.17, MAPE: 47.62%\n"
     ]
    },
    {
     "name": "stderr",
     "output_type": "stream",
     "text": [
      "12:48:37 - cmdstanpy - INFO - Chain [1] done processing\n",
      "12:48:38 - cmdstanpy - INFO - Chain [1] start processing\n"
     ]
    },
    {
     "name": "stdout",
     "output_type": "stream",
     "text": [
      "Params: (0.01, 1.0, 'additive', 35, 0.85, 8) | MAE: 7557.70, MAPE: 48.33%\n"
     ]
    },
    {
     "name": "stderr",
     "output_type": "stream",
     "text": [
      "12:48:38 - cmdstanpy - INFO - Chain [1] done processing\n",
      "12:48:38 - cmdstanpy - INFO - Chain [1] start processing\n"
     ]
    },
    {
     "name": "stdout",
     "output_type": "stream",
     "text": [
      "Params: (0.01, 1.0, 'additive', 35, 0.85, 12) | MAE: 7473.11, MAPE: 47.78%\n"
     ]
    },
    {
     "name": "stderr",
     "output_type": "stream",
     "text": [
      "12:48:38 - cmdstanpy - INFO - Chain [1] done processing\n",
      "12:48:38 - cmdstanpy - INFO - Chain [1] start processing\n"
     ]
    },
    {
     "name": "stdout",
     "output_type": "stream",
     "text": [
      "Params: (0.01, 1.0, 'additive', 35, 0.9, 8) | MAE: 7256.68, MAPE: 46.36%\n"
     ]
    },
    {
     "name": "stderr",
     "output_type": "stream",
     "text": [
      "12:48:39 - cmdstanpy - INFO - Chain [1] done processing\n",
      "12:48:39 - cmdstanpy - INFO - Chain [1] start processing\n",
      "12:48:39 - cmdstanpy - INFO - Chain [1] done processing\n"
     ]
    },
    {
     "name": "stdout",
     "output_type": "stream",
     "text": [
      "Params: (0.01, 1.0, 'additive', 35, 0.9, 12) | MAE: 7097.29, MAPE: 45.31%\n"
     ]
    },
    {
     "name": "stderr",
     "output_type": "stream",
     "text": [
      "12:48:39 - cmdstanpy - INFO - Chain [1] start processing\n"
     ]
    },
    {
     "name": "stdout",
     "output_type": "stream",
     "text": [
      "Params: (0.01, 1.0, 'multiplicative', 25, 0.85, 8) | MAE: 6776.91, MAPE: 43.42%\n"
     ]
    },
    {
     "name": "stderr",
     "output_type": "stream",
     "text": [
      "12:48:39 - cmdstanpy - INFO - Chain [1] done processing\n",
      "12:48:40 - cmdstanpy - INFO - Chain [1] start processing\n"
     ]
    },
    {
     "name": "stdout",
     "output_type": "stream",
     "text": [
      "Params: (0.01, 1.0, 'multiplicative', 25, 0.85, 12) | MAE: 6506.28, MAPE: 41.67%\n"
     ]
    },
    {
     "name": "stderr",
     "output_type": "stream",
     "text": [
      "12:48:40 - cmdstanpy - INFO - Chain [1] done processing\n",
      "12:48:40 - cmdstanpy - INFO - Chain [1] start processing\n"
     ]
    },
    {
     "name": "stdout",
     "output_type": "stream",
     "text": [
      "Params: (0.01, 1.0, 'multiplicative', 25, 0.9, 8) | MAE: 6687.97, MAPE: 42.85%\n"
     ]
    },
    {
     "name": "stderr",
     "output_type": "stream",
     "text": [
      "12:48:40 - cmdstanpy - INFO - Chain [1] done processing\n",
      "12:48:40 - cmdstanpy - INFO - Chain [1] start processing\n",
      "12:48:40 - cmdstanpy - INFO - Chain [1] done processing\n"
     ]
    },
    {
     "name": "stdout",
     "output_type": "stream",
     "text": [
      "Params: (0.01, 1.0, 'multiplicative', 25, 0.9, 12) | MAE: 6543.99, MAPE: 41.90%\n"
     ]
    },
    {
     "name": "stderr",
     "output_type": "stream",
     "text": [
      "12:48:41 - cmdstanpy - INFO - Chain [1] start processing\n",
      "12:48:41 - cmdstanpy - INFO - Chain [1] done processing\n"
     ]
    },
    {
     "name": "stdout",
     "output_type": "stream",
     "text": [
      "Params: (0.01, 1.0, 'multiplicative', 30, 0.85, 8) | MAE: 6937.92, MAPE: 44.45%\n"
     ]
    },
    {
     "name": "stderr",
     "output_type": "stream",
     "text": [
      "12:48:41 - cmdstanpy - INFO - Chain [1] start processing\n",
      "12:48:41 - cmdstanpy - INFO - Chain [1] done processing\n"
     ]
    },
    {
     "name": "stdout",
     "output_type": "stream",
     "text": [
      "Params: (0.01, 1.0, 'multiplicative', 30, 0.85, 12) | MAE: 6720.99, MAPE: 43.06%\n"
     ]
    },
    {
     "name": "stderr",
     "output_type": "stream",
     "text": [
      "12:48:41 - cmdstanpy - INFO - Chain [1] start processing\n",
      "12:48:41 - cmdstanpy - INFO - Chain [1] done processing\n"
     ]
    },
    {
     "name": "stdout",
     "output_type": "stream",
     "text": [
      "Params: (0.01, 1.0, 'multiplicative', 30, 0.9, 8) | MAE: 6747.76, MAPE: 43.23%\n"
     ]
    },
    {
     "name": "stderr",
     "output_type": "stream",
     "text": [
      "12:48:41 - cmdstanpy - INFO - Chain [1] start processing\n"
     ]
    },
    {
     "name": "stdout",
     "output_type": "stream",
     "text": [
      "Params: (0.01, 1.0, 'multiplicative', 30, 0.9, 12) | MAE: 6694.44, MAPE: 42.88%\n"
     ]
    },
    {
     "name": "stderr",
     "output_type": "stream",
     "text": [
      "12:48:42 - cmdstanpy - INFO - Chain [1] done processing\n",
      "12:48:42 - cmdstanpy - INFO - Chain [1] start processing\n"
     ]
    },
    {
     "name": "stdout",
     "output_type": "stream",
     "text": [
      "Params: (0.01, 1.0, 'multiplicative', 35, 0.85, 8) | MAE: 6778.57, MAPE: 43.43%\n"
     ]
    },
    {
     "name": "stderr",
     "output_type": "stream",
     "text": [
      "12:48:42 - cmdstanpy - INFO - Chain [1] done processing\n",
      "12:48:42 - cmdstanpy - INFO - Chain [1] start processing\n",
      "12:48:42 - cmdstanpy - INFO - Chain [1] done processing\n"
     ]
    },
    {
     "name": "stdout",
     "output_type": "stream",
     "text": [
      "Params: (0.01, 1.0, 'multiplicative', 35, 0.85, 12) | MAE: 6790.82, MAPE: 43.50%\n"
     ]
    },
    {
     "name": "stderr",
     "output_type": "stream",
     "text": [
      "12:48:42 - cmdstanpy - INFO - Chain [1] start processing\n"
     ]
    },
    {
     "name": "stdout",
     "output_type": "stream",
     "text": [
      "Params: (0.01, 1.0, 'multiplicative', 35, 0.9, 8) | MAE: 6693.86, MAPE: 42.88%\n"
     ]
    },
    {
     "name": "stderr",
     "output_type": "stream",
     "text": [
      "12:48:42 - cmdstanpy - INFO - Chain [1] done processing\n",
      "12:48:43 - cmdstanpy - INFO - Chain [1] start processing\n"
     ]
    },
    {
     "name": "stdout",
     "output_type": "stream",
     "text": [
      "Params: (0.01, 1.0, 'multiplicative', 35, 0.9, 12) | MAE: 6626.45, MAPE: 42.44%\n"
     ]
    },
    {
     "name": "stderr",
     "output_type": "stream",
     "text": [
      "12:48:43 - cmdstanpy - INFO - Chain [1] done processing\n",
      "12:48:43 - cmdstanpy - INFO - Chain [1] start processing\n"
     ]
    },
    {
     "name": "stdout",
     "output_type": "stream",
     "text": [
      "Params: (0.01, 10.0, 'additive', 25, 0.85, 8) | MAE: 7572.44, MAPE: 48.41%\n"
     ]
    },
    {
     "name": "stderr",
     "output_type": "stream",
     "text": [
      "12:48:43 - cmdstanpy - INFO - Chain [1] done processing\n",
      "12:48:43 - cmdstanpy - INFO - Chain [1] start processing\n"
     ]
    },
    {
     "name": "stdout",
     "output_type": "stream",
     "text": [
      "Params: (0.01, 10.0, 'additive', 25, 0.85, 12) | MAE: 7512.15, MAPE: 48.01%\n"
     ]
    },
    {
     "name": "stderr",
     "output_type": "stream",
     "text": [
      "12:48:44 - cmdstanpy - INFO - Chain [1] done processing\n",
      "12:48:44 - cmdstanpy - INFO - Chain [1] start processing\n"
     ]
    },
    {
     "name": "stdout",
     "output_type": "stream",
     "text": [
      "Params: (0.01, 10.0, 'additive', 25, 0.9, 8) | MAE: 7563.36, MAPE: 48.35%\n"
     ]
    },
    {
     "name": "stderr",
     "output_type": "stream",
     "text": [
      "12:48:44 - cmdstanpy - INFO - Chain [1] done processing\n",
      "12:48:44 - cmdstanpy - INFO - Chain [1] start processing\n"
     ]
    },
    {
     "name": "stdout",
     "output_type": "stream",
     "text": [
      "Params: (0.01, 10.0, 'additive', 25, 0.9, 12) | MAE: 6976.87, MAPE: 44.55%\n"
     ]
    },
    {
     "name": "stderr",
     "output_type": "stream",
     "text": [
      "12:48:44 - cmdstanpy - INFO - Chain [1] done processing\n",
      "12:48:45 - cmdstanpy - INFO - Chain [1] start processing\n"
     ]
    },
    {
     "name": "stdout",
     "output_type": "stream",
     "text": [
      "Params: (0.01, 10.0, 'additive', 30, 0.85, 8) | MAE: 7577.98, MAPE: 48.45%\n"
     ]
    },
    {
     "name": "stderr",
     "output_type": "stream",
     "text": [
      "12:48:45 - cmdstanpy - INFO - Chain [1] done processing\n",
      "12:48:45 - cmdstanpy - INFO - Chain [1] start processing\n"
     ]
    },
    {
     "name": "stdout",
     "output_type": "stream",
     "text": [
      "Params: (0.01, 10.0, 'additive', 30, 0.85, 12) | MAE: 7408.41, MAPE: 47.35%\n"
     ]
    },
    {
     "name": "stderr",
     "output_type": "stream",
     "text": [
      "12:48:45 - cmdstanpy - INFO - Chain [1] done processing\n",
      "12:48:46 - cmdstanpy - INFO - Chain [1] start processing\n",
      "12:48:46 - cmdstanpy - INFO - Chain [1] done processing\n"
     ]
    },
    {
     "name": "stdout",
     "output_type": "stream",
     "text": [
      "Params: (0.01, 10.0, 'additive', 30, 0.9, 8) | MAE: 7666.57, MAPE: 49.03%\n"
     ]
    },
    {
     "name": "stderr",
     "output_type": "stream",
     "text": [
      "12:48:46 - cmdstanpy - INFO - Chain [1] start processing\n",
      "12:48:46 - cmdstanpy - INFO - Chain [1] done processing\n"
     ]
    },
    {
     "name": "stdout",
     "output_type": "stream",
     "text": [
      "Params: (0.01, 10.0, 'additive', 30, 0.9, 12) | MAE: 7314.25, MAPE: 46.74%\n"
     ]
    },
    {
     "name": "stderr",
     "output_type": "stream",
     "text": [
      "12:48:46 - cmdstanpy - INFO - Chain [1] start processing\n"
     ]
    },
    {
     "name": "stdout",
     "output_type": "stream",
     "text": [
      "Params: (0.01, 10.0, 'additive', 35, 0.85, 8) | MAE: 7584.53, MAPE: 48.50%\n"
     ]
    },
    {
     "name": "stderr",
     "output_type": "stream",
     "text": [
      "12:48:46 - cmdstanpy - INFO - Chain [1] done processing\n",
      "12:48:47 - cmdstanpy - INFO - Chain [1] start processing\n",
      "12:48:47 - cmdstanpy - INFO - Chain [1] done processing\n"
     ]
    },
    {
     "name": "stdout",
     "output_type": "stream",
     "text": [
      "Params: (0.01, 10.0, 'additive', 35, 0.85, 12) | MAE: 7533.59, MAPE: 48.17%\n"
     ]
    },
    {
     "name": "stderr",
     "output_type": "stream",
     "text": [
      "12:48:47 - cmdstanpy - INFO - Chain [1] start processing\n"
     ]
    },
    {
     "name": "stdout",
     "output_type": "stream",
     "text": [
      "Params: (0.01, 10.0, 'additive', 35, 0.9, 8) | MAE: 7613.20, MAPE: 48.68%\n"
     ]
    },
    {
     "name": "stderr",
     "output_type": "stream",
     "text": [
      "12:48:47 - cmdstanpy - INFO - Chain [1] done processing\n",
      "12:48:47 - cmdstanpy - INFO - Chain [1] start processing\n"
     ]
    },
    {
     "name": "stdout",
     "output_type": "stream",
     "text": [
      "Params: (0.01, 10.0, 'additive', 35, 0.9, 12) | MAE: 7044.19, MAPE: 44.97%\n"
     ]
    },
    {
     "name": "stderr",
     "output_type": "stream",
     "text": [
      "12:48:47 - cmdstanpy - INFO - Chain [1] done processing\n",
      "12:48:48 - cmdstanpy - INFO - Chain [1] start processing\n"
     ]
    },
    {
     "name": "stdout",
     "output_type": "stream",
     "text": [
      "Params: (0.01, 10.0, 'multiplicative', 25, 0.85, 8) | MAE: 6681.00, MAPE: 42.80%\n"
     ]
    },
    {
     "name": "stderr",
     "output_type": "stream",
     "text": [
      "12:48:48 - cmdstanpy - INFO - Chain [1] done processing\n",
      "12:48:48 - cmdstanpy - INFO - Chain [1] start processing\n"
     ]
    },
    {
     "name": "stdout",
     "output_type": "stream",
     "text": [
      "Params: (0.01, 10.0, 'multiplicative', 25, 0.85, 12) | MAE: 6773.82, MAPE: 43.39%\n"
     ]
    },
    {
     "name": "stderr",
     "output_type": "stream",
     "text": [
      "12:48:48 - cmdstanpy - INFO - Chain [1] done processing\n",
      "12:48:48 - cmdstanpy - INFO - Chain [1] start processing\n"
     ]
    },
    {
     "name": "stdout",
     "output_type": "stream",
     "text": [
      "Params: (0.01, 10.0, 'multiplicative', 25, 0.9, 8) | MAE: 6895.28, MAPE: 44.18%\n"
     ]
    },
    {
     "name": "stderr",
     "output_type": "stream",
     "text": [
      "12:48:49 - cmdstanpy - INFO - Chain [1] done processing\n",
      "12:48:49 - cmdstanpy - INFO - Chain [1] start processing\n"
     ]
    },
    {
     "name": "stdout",
     "output_type": "stream",
     "text": [
      "Params: (0.01, 10.0, 'multiplicative', 25, 0.9, 12) | MAE: 6824.06, MAPE: 43.70%\n"
     ]
    },
    {
     "name": "stderr",
     "output_type": "stream",
     "text": [
      "12:48:49 - cmdstanpy - INFO - Chain [1] done processing\n",
      "12:48:49 - cmdstanpy - INFO - Chain [1] start processing\n"
     ]
    },
    {
     "name": "stdout",
     "output_type": "stream",
     "text": [
      "Params: (0.01, 10.0, 'multiplicative', 30, 0.85, 8) | MAE: 7003.69, MAPE: 44.88%\n"
     ]
    },
    {
     "name": "stderr",
     "output_type": "stream",
     "text": [
      "12:48:49 - cmdstanpy - INFO - Chain [1] done processing\n",
      "12:48:49 - cmdstanpy - INFO - Chain [1] start processing\n",
      "12:48:50 - cmdstanpy - INFO - Chain [1] done processing\n"
     ]
    },
    {
     "name": "stdout",
     "output_type": "stream",
     "text": [
      "Params: (0.01, 10.0, 'multiplicative', 30, 0.85, 12) | MAE: 6720.46, MAPE: 43.06%\n"
     ]
    },
    {
     "name": "stderr",
     "output_type": "stream",
     "text": [
      "12:48:50 - cmdstanpy - INFO - Chain [1] start processing\n"
     ]
    },
    {
     "name": "stdout",
     "output_type": "stream",
     "text": [
      "Params: (0.01, 10.0, 'multiplicative', 30, 0.9, 8) | MAE: 6785.24, MAPE: 43.47%\n"
     ]
    },
    {
     "name": "stderr",
     "output_type": "stream",
     "text": [
      "12:48:50 - cmdstanpy - INFO - Chain [1] done processing\n",
      "12:48:50 - cmdstanpy - INFO - Chain [1] start processing\n"
     ]
    },
    {
     "name": "stdout",
     "output_type": "stream",
     "text": [
      "Params: (0.01, 10.0, 'multiplicative', 30, 0.9, 12) | MAE: 6799.46, MAPE: 43.56%\n"
     ]
    },
    {
     "name": "stderr",
     "output_type": "stream",
     "text": [
      "12:48:50 - cmdstanpy - INFO - Chain [1] done processing\n",
      "12:48:50 - cmdstanpy - INFO - Chain [1] start processing\n",
      "12:48:51 - cmdstanpy - INFO - Chain [1] done processing\n"
     ]
    },
    {
     "name": "stdout",
     "output_type": "stream",
     "text": [
      "Params: (0.01, 10.0, 'multiplicative', 35, 0.85, 8) | MAE: 6763.23, MAPE: 43.34%\n"
     ]
    },
    {
     "name": "stderr",
     "output_type": "stream",
     "text": [
      "12:48:51 - cmdstanpy - INFO - Chain [1] start processing\n",
      "12:48:51 - cmdstanpy - INFO - Chain [1] done processing\n"
     ]
    },
    {
     "name": "stdout",
     "output_type": "stream",
     "text": [
      "Params: (0.01, 10.0, 'multiplicative', 35, 0.85, 12) | MAE: 6697.39, MAPE: 42.91%\n"
     ]
    },
    {
     "name": "stderr",
     "output_type": "stream",
     "text": [
      "12:48:51 - cmdstanpy - INFO - Chain [1] start processing\n"
     ]
    },
    {
     "name": "stdout",
     "output_type": "stream",
     "text": [
      "Params: (0.01, 10.0, 'multiplicative', 35, 0.9, 8) | MAE: 6687.91, MAPE: 42.84%\n"
     ]
    },
    {
     "name": "stderr",
     "output_type": "stream",
     "text": [
      "12:48:51 - cmdstanpy - INFO - Chain [1] done processing\n",
      "12:48:51 - cmdstanpy - INFO - Chain [1] start processing\n"
     ]
    },
    {
     "name": "stdout",
     "output_type": "stream",
     "text": [
      "Params: (0.01, 10.0, 'multiplicative', 35, 0.9, 12) | MAE: 6335.09, MAPE: 40.56%\n"
     ]
    },
    {
     "name": "stderr",
     "output_type": "stream",
     "text": [
      "12:48:52 - cmdstanpy - INFO - Chain [1] done processing\n",
      "12:48:52 - cmdstanpy - INFO - Chain [1] start processing\n"
     ]
    },
    {
     "name": "stdout",
     "output_type": "stream",
     "text": [
      "Params: (0.1, 0.01, 'additive', 25, 0.85, 8) | MAE: 2843.76, MAPE: 18.02%\n"
     ]
    },
    {
     "name": "stderr",
     "output_type": "stream",
     "text": [
      "12:48:52 - cmdstanpy - INFO - Chain [1] done processing\n",
      "12:48:53 - cmdstanpy - INFO - Chain [1] start processing\n"
     ]
    },
    {
     "name": "stdout",
     "output_type": "stream",
     "text": [
      "Params: (0.1, 0.01, 'additive', 25, 0.85, 12) | MAE: 2620.67, MAPE: 16.56%\n"
     ]
    },
    {
     "name": "stderr",
     "output_type": "stream",
     "text": [
      "12:48:53 - cmdstanpy - INFO - Chain [1] done processing\n",
      "12:48:53 - cmdstanpy - INFO - Chain [1] start processing\n"
     ]
    },
    {
     "name": "stdout",
     "output_type": "stream",
     "text": [
      "Params: (0.1, 0.01, 'additive', 25, 0.9, 8) | MAE: 2054.23, MAPE: 13.80%\n"
     ]
    },
    {
     "name": "stderr",
     "output_type": "stream",
     "text": [
      "12:48:54 - cmdstanpy - INFO - Chain [1] done processing\n",
      "12:48:54 - cmdstanpy - INFO - Chain [1] start processing\n"
     ]
    },
    {
     "name": "stdout",
     "output_type": "stream",
     "text": [
      "Params: (0.1, 0.01, 'additive', 25, 0.9, 12) | MAE: 2072.89, MAPE: 13.94%\n"
     ]
    },
    {
     "name": "stderr",
     "output_type": "stream",
     "text": [
      "12:48:54 - cmdstanpy - INFO - Chain [1] done processing\n",
      "12:48:55 - cmdstanpy - INFO - Chain [1] start processing\n"
     ]
    },
    {
     "name": "stdout",
     "output_type": "stream",
     "text": [
      "Params: (0.1, 0.01, 'additive', 30, 0.85, 8) | MAE: 1198.35, MAPE: 7.51%\n"
     ]
    },
    {
     "name": "stderr",
     "output_type": "stream",
     "text": [
      "12:48:55 - cmdstanpy - INFO - Chain [1] done processing\n",
      "12:48:55 - cmdstanpy - INFO - Chain [1] start processing\n"
     ]
    },
    {
     "name": "stdout",
     "output_type": "stream",
     "text": [
      "Params: (0.1, 0.01, 'additive', 30, 0.85, 12) | MAE: 1131.30, MAPE: 7.05%\n"
     ]
    },
    {
     "name": "stderr",
     "output_type": "stream",
     "text": [
      "12:48:56 - cmdstanpy - INFO - Chain [1] done processing\n",
      "12:48:56 - cmdstanpy - INFO - Chain [1] start processing\n"
     ]
    },
    {
     "name": "stdout",
     "output_type": "stream",
     "text": [
      "Params: (0.1, 0.01, 'additive', 30, 0.9, 8) | MAE: 1690.61, MAPE: 11.16%\n"
     ]
    },
    {
     "name": "stderr",
     "output_type": "stream",
     "text": [
      "12:48:56 - cmdstanpy - INFO - Chain [1] done processing\n",
      "12:48:56 - cmdstanpy - INFO - Chain [1] start processing\n"
     ]
    },
    {
     "name": "stdout",
     "output_type": "stream",
     "text": [
      "Params: (0.1, 0.01, 'additive', 30, 0.9, 12) | MAE: 1855.25, MAPE: 12.28%\n"
     ]
    },
    {
     "name": "stderr",
     "output_type": "stream",
     "text": [
      "12:48:57 - cmdstanpy - INFO - Chain [1] done processing\n",
      "12:48:57 - cmdstanpy - INFO - Chain [1] start processing\n"
     ]
    },
    {
     "name": "stdout",
     "output_type": "stream",
     "text": [
      "Params: (0.1, 0.01, 'additive', 35, 0.85, 8) | MAE: 1679.25, MAPE: 10.48%\n"
     ]
    },
    {
     "name": "stderr",
     "output_type": "stream",
     "text": [
      "12:48:57 - cmdstanpy - INFO - Chain [1] done processing\n",
      "12:48:57 - cmdstanpy - INFO - Chain [1] start processing\n"
     ]
    },
    {
     "name": "stdout",
     "output_type": "stream",
     "text": [
      "Params: (0.1, 0.01, 'additive', 35, 0.85, 12) | MAE: 2000.27, MAPE: 12.46%\n"
     ]
    },
    {
     "name": "stderr",
     "output_type": "stream",
     "text": [
      "12:48:58 - cmdstanpy - INFO - Chain [1] done processing\n",
      "12:48:58 - cmdstanpy - INFO - Chain [1] start processing\n"
     ]
    },
    {
     "name": "stdout",
     "output_type": "stream",
     "text": [
      "Params: (0.1, 0.01, 'additive', 35, 0.9, 8) | MAE: 1521.40, MAPE: 10.01%\n"
     ]
    },
    {
     "name": "stderr",
     "output_type": "stream",
     "text": [
      "12:48:58 - cmdstanpy - INFO - Chain [1] done processing\n",
      "12:48:58 - cmdstanpy - INFO - Chain [1] start processing\n"
     ]
    },
    {
     "name": "stdout",
     "output_type": "stream",
     "text": [
      "Params: (0.1, 0.01, 'additive', 35, 0.9, 12) | MAE: 1464.93, MAPE: 9.49%\n"
     ]
    },
    {
     "name": "stderr",
     "output_type": "stream",
     "text": [
      "12:48:59 - cmdstanpy - INFO - Chain [1] done processing\n",
      "12:48:59 - cmdstanpy - INFO - Chain [1] start processing\n"
     ]
    },
    {
     "name": "stdout",
     "output_type": "stream",
     "text": [
      "Params: (0.1, 0.01, 'multiplicative', 25, 0.85, 8) | MAE: 1767.33, MAPE: 11.23%\n"
     ]
    },
    {
     "name": "stderr",
     "output_type": "stream",
     "text": [
      "12:48:59 - cmdstanpy - INFO - Chain [1] done processing\n",
      "12:48:59 - cmdstanpy - INFO - Chain [1] start processing\n"
     ]
    },
    {
     "name": "stdout",
     "output_type": "stream",
     "text": [
      "Params: (0.1, 0.01, 'multiplicative', 25, 0.85, 12) | MAE: 1694.31, MAPE: 10.74%\n"
     ]
    },
    {
     "name": "stderr",
     "output_type": "stream",
     "text": [
      "12:49:00 - cmdstanpy - INFO - Chain [1] done processing\n",
      "12:49:00 - cmdstanpy - INFO - Chain [1] start processing\n"
     ]
    },
    {
     "name": "stdout",
     "output_type": "stream",
     "text": [
      "Params: (0.1, 0.01, 'multiplicative', 25, 0.9, 8) | MAE: 6312.74, MAPE: 41.38%\n"
     ]
    },
    {
     "name": "stderr",
     "output_type": "stream",
     "text": [
      "12:49:00 - cmdstanpy - INFO - Chain [1] done processing\n",
      "12:49:00 - cmdstanpy - INFO - Chain [1] start processing\n"
     ]
    },
    {
     "name": "stdout",
     "output_type": "stream",
     "text": [
      "Params: (0.1, 0.01, 'multiplicative', 25, 0.9, 12) | MAE: 6299.21, MAPE: 41.30%\n"
     ]
    },
    {
     "name": "stderr",
     "output_type": "stream",
     "text": [
      "12:49:01 - cmdstanpy - INFO - Chain [1] done processing\n",
      "12:49:01 - cmdstanpy - INFO - Chain [1] start processing\n"
     ]
    },
    {
     "name": "stdout",
     "output_type": "stream",
     "text": [
      "Params: (0.1, 0.01, 'multiplicative', 30, 0.85, 8) | MAE: 3099.90, MAPE: 19.89%\n"
     ]
    },
    {
     "name": "stderr",
     "output_type": "stream",
     "text": [
      "12:49:01 - cmdstanpy - INFO - Chain [1] done processing\n",
      "12:49:01 - cmdstanpy - INFO - Chain [1] start processing\n"
     ]
    },
    {
     "name": "stdout",
     "output_type": "stream",
     "text": [
      "Params: (0.1, 0.01, 'multiplicative', 30, 0.85, 12) | MAE: 3112.87, MAPE: 19.98%\n"
     ]
    },
    {
     "name": "stderr",
     "output_type": "stream",
     "text": [
      "12:49:02 - cmdstanpy - INFO - Chain [1] done processing\n",
      "12:49:02 - cmdstanpy - INFO - Chain [1] start processing\n"
     ]
    },
    {
     "name": "stdout",
     "output_type": "stream",
     "text": [
      "Params: (0.1, 0.01, 'multiplicative', 30, 0.9, 8) | MAE: 5698.33, MAPE: 37.29%\n"
     ]
    },
    {
     "name": "stderr",
     "output_type": "stream",
     "text": [
      "12:49:02 - cmdstanpy - INFO - Chain [1] done processing\n",
      "12:49:03 - cmdstanpy - INFO - Chain [1] start processing\n"
     ]
    },
    {
     "name": "stdout",
     "output_type": "stream",
     "text": [
      "Params: (0.1, 0.01, 'multiplicative', 30, 0.9, 12) | MAE: 5779.55, MAPE: 37.81%\n"
     ]
    },
    {
     "name": "stderr",
     "output_type": "stream",
     "text": [
      "12:49:03 - cmdstanpy - INFO - Chain [1] done processing\n",
      "12:49:03 - cmdstanpy - INFO - Chain [1] start processing\n"
     ]
    },
    {
     "name": "stdout",
     "output_type": "stream",
     "text": [
      "Params: (0.1, 0.01, 'multiplicative', 35, 0.85, 8) | MAE: 3591.35, MAPE: 23.16%\n"
     ]
    },
    {
     "name": "stderr",
     "output_type": "stream",
     "text": [
      "12:49:04 - cmdstanpy - INFO - Chain [1] done processing\n",
      "12:49:04 - cmdstanpy - INFO - Chain [1] start processing\n"
     ]
    },
    {
     "name": "stdout",
     "output_type": "stream",
     "text": [
      "Params: (0.1, 0.01, 'multiplicative', 35, 0.85, 12) | MAE: 3159.54, MAPE: 20.35%\n"
     ]
    },
    {
     "name": "stderr",
     "output_type": "stream",
     "text": [
      "12:49:04 - cmdstanpy - INFO - Chain [1] done processing\n",
      "12:49:04 - cmdstanpy - INFO - Chain [1] start processing\n"
     ]
    },
    {
     "name": "stdout",
     "output_type": "stream",
     "text": [
      "Params: (0.1, 0.01, 'multiplicative', 35, 0.9, 8) | MAE: 5487.65, MAPE: 35.95%\n"
     ]
    },
    {
     "name": "stderr",
     "output_type": "stream",
     "text": [
      "12:49:05 - cmdstanpy - INFO - Chain [1] done processing\n",
      "12:49:05 - cmdstanpy - INFO - Chain [1] start processing\n"
     ]
    },
    {
     "name": "stdout",
     "output_type": "stream",
     "text": [
      "Params: (0.1, 0.01, 'multiplicative', 35, 0.9, 12) | MAE: 6169.55, MAPE: 40.43%\n"
     ]
    },
    {
     "name": "stderr",
     "output_type": "stream",
     "text": [
      "12:49:05 - cmdstanpy - INFO - Chain [1] done processing\n",
      "12:49:06 - cmdstanpy - INFO - Chain [1] start processing\n"
     ]
    },
    {
     "name": "stdout",
     "output_type": "stream",
     "text": [
      "Params: (0.1, 0.1, 'additive', 25, 0.85, 8) | MAE: 5119.86, MAPE: 32.58%\n"
     ]
    },
    {
     "name": "stderr",
     "output_type": "stream",
     "text": [
      "12:49:06 - cmdstanpy - INFO - Chain [1] done processing\n",
      "12:49:06 - cmdstanpy - INFO - Chain [1] start processing\n"
     ]
    },
    {
     "name": "stdout",
     "output_type": "stream",
     "text": [
      "Params: (0.1, 0.1, 'additive', 25, 0.85, 12) | MAE: 5097.11, MAPE: 32.42%\n"
     ]
    },
    {
     "name": "stderr",
     "output_type": "stream",
     "text": [
      "12:49:07 - cmdstanpy - INFO - Chain [1] done processing\n",
      "12:49:07 - cmdstanpy - INFO - Chain [1] start processing\n"
     ]
    },
    {
     "name": "stdout",
     "output_type": "stream",
     "text": [
      "Params: (0.1, 0.1, 'additive', 25, 0.9, 8) | MAE: 2997.29, MAPE: 18.05%\n"
     ]
    },
    {
     "name": "stderr",
     "output_type": "stream",
     "text": [
      "12:49:07 - cmdstanpy - INFO - Chain [1] done processing\n",
      "12:49:07 - cmdstanpy - INFO - Chain [1] start processing\n"
     ]
    },
    {
     "name": "stdout",
     "output_type": "stream",
     "text": [
      "Params: (0.1, 0.1, 'additive', 25, 0.9, 12) | MAE: 2576.86, MAPE: 15.45%\n"
     ]
    },
    {
     "name": "stderr",
     "output_type": "stream",
     "text": [
      "12:49:08 - cmdstanpy - INFO - Chain [1] done processing\n",
      "12:49:08 - cmdstanpy - INFO - Chain [1] start processing\n"
     ]
    },
    {
     "name": "stdout",
     "output_type": "stream",
     "text": [
      "Params: (0.1, 0.1, 'additive', 30, 0.85, 8) | MAE: 5661.83, MAPE: 36.01%\n"
     ]
    },
    {
     "name": "stderr",
     "output_type": "stream",
     "text": [
      "12:49:08 - cmdstanpy - INFO - Chain [1] done processing\n",
      "12:49:08 - cmdstanpy - INFO - Chain [1] start processing\n"
     ]
    },
    {
     "name": "stdout",
     "output_type": "stream",
     "text": [
      "Params: (0.1, 0.1, 'additive', 30, 0.85, 12) | MAE: 5165.78, MAPE: 32.82%\n"
     ]
    },
    {
     "name": "stderr",
     "output_type": "stream",
     "text": [
      "12:49:09 - cmdstanpy - INFO - Chain [1] done processing\n",
      "12:49:09 - cmdstanpy - INFO - Chain [1] start processing\n"
     ]
    },
    {
     "name": "stdout",
     "output_type": "stream",
     "text": [
      "Params: (0.1, 0.1, 'additive', 30, 0.9, 8) | MAE: 2038.74, MAPE: 12.22%\n"
     ]
    },
    {
     "name": "stderr",
     "output_type": "stream",
     "text": [
      "12:49:09 - cmdstanpy - INFO - Chain [1] done processing\n",
      "12:49:09 - cmdstanpy - INFO - Chain [1] start processing\n"
     ]
    },
    {
     "name": "stdout",
     "output_type": "stream",
     "text": [
      "Params: (0.1, 0.1, 'additive', 30, 0.9, 12) | MAE: 2049.21, MAPE: 12.19%\n"
     ]
    },
    {
     "name": "stderr",
     "output_type": "stream",
     "text": [
      "12:49:10 - cmdstanpy - INFO - Chain [1] done processing\n",
      "12:49:10 - cmdstanpy - INFO - Chain [1] start processing\n"
     ]
    },
    {
     "name": "stdout",
     "output_type": "stream",
     "text": [
      "Params: (0.1, 0.1, 'additive', 35, 0.85, 8) | MAE: 6130.01, MAPE: 39.06%\n"
     ]
    },
    {
     "name": "stderr",
     "output_type": "stream",
     "text": [
      "12:49:11 - cmdstanpy - INFO - Chain [1] done processing\n",
      "12:49:11 - cmdstanpy - INFO - Chain [1] start processing\n"
     ]
    },
    {
     "name": "stdout",
     "output_type": "stream",
     "text": [
      "Params: (0.1, 0.1, 'additive', 35, 0.85, 12) | MAE: 5676.36, MAPE: 36.13%\n"
     ]
    },
    {
     "name": "stderr",
     "output_type": "stream",
     "text": [
      "12:49:11 - cmdstanpy - INFO - Chain [1] done processing\n",
      "12:49:11 - cmdstanpy - INFO - Chain [1] start processing\n"
     ]
    },
    {
     "name": "stdout",
     "output_type": "stream",
     "text": [
      "Params: (0.1, 0.1, 'additive', 35, 0.9, 8) | MAE: 2692.28, MAPE: 16.21%\n"
     ]
    },
    {
     "name": "stderr",
     "output_type": "stream",
     "text": [
      "12:49:12 - cmdstanpy - INFO - Chain [1] done processing\n",
      "12:49:12 - cmdstanpy - INFO - Chain [1] start processing\n"
     ]
    },
    {
     "name": "stdout",
     "output_type": "stream",
     "text": [
      "Params: (0.1, 0.1, 'additive', 35, 0.9, 12) | MAE: 2601.71, MAPE: 15.58%\n"
     ]
    },
    {
     "name": "stderr",
     "output_type": "stream",
     "text": [
      "12:49:12 - cmdstanpy - INFO - Chain [1] done processing\n",
      "12:49:12 - cmdstanpy - INFO - Chain [1] start processing\n"
     ]
    },
    {
     "name": "stdout",
     "output_type": "stream",
     "text": [
      "Params: (0.1, 0.1, 'multiplicative', 25, 0.85, 8) | MAE: 3152.42, MAPE: 20.35%\n"
     ]
    },
    {
     "name": "stderr",
     "output_type": "stream",
     "text": [
      "12:49:13 - cmdstanpy - INFO - Chain [1] done processing\n",
      "12:49:13 - cmdstanpy - INFO - Chain [1] start processing\n"
     ]
    },
    {
     "name": "stdout",
     "output_type": "stream",
     "text": [
      "Params: (0.1, 0.1, 'multiplicative', 25, 0.85, 12) | MAE: 2663.04, MAPE: 17.21%\n"
     ]
    },
    {
     "name": "stderr",
     "output_type": "stream",
     "text": [
      "12:49:13 - cmdstanpy - INFO - Chain [1] done processing\n",
      "12:49:13 - cmdstanpy - INFO - Chain [1] start processing\n"
     ]
    },
    {
     "name": "stdout",
     "output_type": "stream",
     "text": [
      "Params: (0.1, 0.1, 'multiplicative', 25, 0.9, 8) | MAE: 1383.02, MAPE: 9.11%\n"
     ]
    },
    {
     "name": "stderr",
     "output_type": "stream",
     "text": [
      "12:49:14 - cmdstanpy - INFO - Chain [1] done processing\n",
      "12:49:14 - cmdstanpy - INFO - Chain [1] start processing\n"
     ]
    },
    {
     "name": "stdout",
     "output_type": "stream",
     "text": [
      "Params: (0.1, 0.1, 'multiplicative', 25, 0.9, 12) | MAE: 1621.99, MAPE: 10.77%\n"
     ]
    },
    {
     "name": "stderr",
     "output_type": "stream",
     "text": [
      "12:49:15 - cmdstanpy - INFO - Chain [1] done processing\n",
      "12:49:15 - cmdstanpy - INFO - Chain [1] start processing\n"
     ]
    },
    {
     "name": "stdout",
     "output_type": "stream",
     "text": [
      "Params: (0.1, 0.1, 'multiplicative', 30, 0.85, 8) | MAE: 1016.13, MAPE: 6.36%\n"
     ]
    },
    {
     "name": "stderr",
     "output_type": "stream",
     "text": [
      "12:49:15 - cmdstanpy - INFO - Chain [1] done processing\n",
      "12:49:16 - cmdstanpy - INFO - Chain [1] start processing\n"
     ]
    },
    {
     "name": "stdout",
     "output_type": "stream",
     "text": [
      "Params: (0.1, 0.1, 'multiplicative', 30, 0.85, 12) | MAE: 905.89, MAPE: 5.55%\n"
     ]
    },
    {
     "name": "stderr",
     "output_type": "stream",
     "text": [
      "12:49:16 - cmdstanpy - INFO - Chain [1] done processing\n",
      "12:49:16 - cmdstanpy - INFO - Chain [1] start processing\n"
     ]
    },
    {
     "name": "stdout",
     "output_type": "stream",
     "text": [
      "Params: (0.1, 0.1, 'multiplicative', 30, 0.9, 8) | MAE: 2588.40, MAPE: 17.04%\n"
     ]
    },
    {
     "name": "stderr",
     "output_type": "stream",
     "text": [
      "12:49:17 - cmdstanpy - INFO - Chain [1] done processing\n",
      "12:49:17 - cmdstanpy - INFO - Chain [1] start processing\n"
     ]
    },
    {
     "name": "stdout",
     "output_type": "stream",
     "text": [
      "Params: (0.1, 0.1, 'multiplicative', 30, 0.9, 12) | MAE: 2497.56, MAPE: 16.47%\n"
     ]
    },
    {
     "name": "stderr",
     "output_type": "stream",
     "text": [
      "12:49:17 - cmdstanpy - INFO - Chain [1] done processing\n",
      "12:49:18 - cmdstanpy - INFO - Chain [1] start processing\n"
     ]
    },
    {
     "name": "stdout",
     "output_type": "stream",
     "text": [
      "Params: (0.1, 0.1, 'multiplicative', 35, 0.85, 8) | MAE: 2807.57, MAPE: 18.21%\n"
     ]
    },
    {
     "name": "stderr",
     "output_type": "stream",
     "text": [
      "12:49:18 - cmdstanpy - INFO - Chain [1] done processing\n",
      "12:49:18 - cmdstanpy - INFO - Chain [1] start processing\n"
     ]
    },
    {
     "name": "stdout",
     "output_type": "stream",
     "text": [
      "Params: (0.1, 0.1, 'multiplicative', 35, 0.85, 12) | MAE: 2493.54, MAPE: 16.16%\n"
     ]
    },
    {
     "name": "stderr",
     "output_type": "stream",
     "text": [
      "12:49:19 - cmdstanpy - INFO - Chain [1] done processing\n",
      "12:49:19 - cmdstanpy - INFO - Chain [1] start processing\n"
     ]
    },
    {
     "name": "stdout",
     "output_type": "stream",
     "text": [
      "Params: (0.1, 0.1, 'multiplicative', 35, 0.9, 8) | MAE: 1665.83, MAPE: 11.01%\n"
     ]
    },
    {
     "name": "stderr",
     "output_type": "stream",
     "text": [
      "12:49:20 - cmdstanpy - INFO - Chain [1] done processing\n",
      "12:49:20 - cmdstanpy - INFO - Chain [1] start processing\n"
     ]
    },
    {
     "name": "stdout",
     "output_type": "stream",
     "text": [
      "Params: (0.1, 0.1, 'multiplicative', 35, 0.9, 12) | MAE: 2063.57, MAPE: 13.70%\n"
     ]
    },
    {
     "name": "stderr",
     "output_type": "stream",
     "text": [
      "12:49:20 - cmdstanpy - INFO - Chain [1] done processing\n",
      "12:49:20 - cmdstanpy - INFO - Chain [1] start processing\n"
     ]
    },
    {
     "name": "stdout",
     "output_type": "stream",
     "text": [
      "Params: (0.1, 1.0, 'additive', 25, 0.85, 8) | MAE: 5187.47, MAPE: 32.99%\n"
     ]
    },
    {
     "name": "stderr",
     "output_type": "stream",
     "text": [
      "12:49:21 - cmdstanpy - INFO - Chain [1] done processing\n",
      "12:49:21 - cmdstanpy - INFO - Chain [1] start processing\n"
     ]
    },
    {
     "name": "stdout",
     "output_type": "stream",
     "text": [
      "Params: (0.1, 1.0, 'additive', 25, 0.85, 12) | MAE: 5163.23, MAPE: 32.85%\n"
     ]
    },
    {
     "name": "stderr",
     "output_type": "stream",
     "text": [
      "12:49:21 - cmdstanpy - INFO - Chain [1] done processing\n",
      "12:49:21 - cmdstanpy - INFO - Chain [1] start processing\n"
     ]
    },
    {
     "name": "stdout",
     "output_type": "stream",
     "text": [
      "Params: (0.1, 1.0, 'additive', 25, 0.9, 8) | MAE: 2081.87, MAPE: 12.35%\n"
     ]
    },
    {
     "name": "stderr",
     "output_type": "stream",
     "text": [
      "12:49:22 - cmdstanpy - INFO - Chain [1] done processing\n",
      "12:49:22 - cmdstanpy - INFO - Chain [1] start processing\n"
     ]
    },
    {
     "name": "stdout",
     "output_type": "stream",
     "text": [
      "Params: (0.1, 1.0, 'additive', 25, 0.9, 12) | MAE: 2396.70, MAPE: 14.20%\n"
     ]
    },
    {
     "name": "stderr",
     "output_type": "stream",
     "text": [
      "12:49:23 - cmdstanpy - INFO - Chain [1] done processing\n",
      "12:49:23 - cmdstanpy - INFO - Chain [1] start processing\n"
     ]
    },
    {
     "name": "stdout",
     "output_type": "stream",
     "text": [
      "Params: (0.1, 1.0, 'additive', 30, 0.85, 8) | MAE: 5634.79, MAPE: 35.90%\n"
     ]
    },
    {
     "name": "stderr",
     "output_type": "stream",
     "text": [
      "12:49:23 - cmdstanpy - INFO - Chain [1] done processing\n",
      "12:49:23 - cmdstanpy - INFO - Chain [1] start processing\n"
     ]
    },
    {
     "name": "stdout",
     "output_type": "stream",
     "text": [
      "Params: (0.1, 1.0, 'additive', 30, 0.85, 12) | MAE: 5276.18, MAPE: 33.57%\n"
     ]
    },
    {
     "name": "stderr",
     "output_type": "stream",
     "text": [
      "12:49:24 - cmdstanpy - INFO - Chain [1] done processing\n",
      "12:49:24 - cmdstanpy - INFO - Chain [1] start processing\n"
     ]
    },
    {
     "name": "stdout",
     "output_type": "stream",
     "text": [
      "Params: (0.1, 1.0, 'additive', 30, 0.9, 8) | MAE: 2191.79, MAPE: 13.09%\n"
     ]
    },
    {
     "name": "stderr",
     "output_type": "stream",
     "text": [
      "12:49:24 - cmdstanpy - INFO - Chain [1] done processing\n",
      "12:49:25 - cmdstanpy - INFO - Chain [1] start processing\n"
     ]
    },
    {
     "name": "stdout",
     "output_type": "stream",
     "text": [
      "Params: (0.1, 1.0, 'additive', 30, 0.9, 12) | MAE: 1873.14, MAPE: 11.17%\n"
     ]
    },
    {
     "name": "stderr",
     "output_type": "stream",
     "text": [
      "12:49:25 - cmdstanpy - INFO - Chain [1] done processing\n",
      "12:49:26 - cmdstanpy - INFO - Chain [1] start processing\n"
     ]
    },
    {
     "name": "stdout",
     "output_type": "stream",
     "text": [
      "Params: (0.1, 1.0, 'additive', 35, 0.85, 8) | MAE: 5666.35, MAPE: 36.08%\n"
     ]
    },
    {
     "name": "stderr",
     "output_type": "stream",
     "text": [
      "12:49:26 - cmdstanpy - INFO - Chain [1] done processing\n",
      "12:49:26 - cmdstanpy - INFO - Chain [1] start processing\n"
     ]
    },
    {
     "name": "stdout",
     "output_type": "stream",
     "text": [
      "Params: (0.1, 1.0, 'additive', 35, 0.85, 12) | MAE: 5435.09, MAPE: 34.57%\n"
     ]
    },
    {
     "name": "stderr",
     "output_type": "stream",
     "text": [
      "12:49:26 - cmdstanpy - INFO - Chain [1] done processing\n",
      "12:49:27 - cmdstanpy - INFO - Chain [1] start processing\n"
     ]
    },
    {
     "name": "stdout",
     "output_type": "stream",
     "text": [
      "Params: (0.1, 1.0, 'additive', 35, 0.9, 8) | MAE: 2688.37, MAPE: 16.18%\n"
     ]
    },
    {
     "name": "stderr",
     "output_type": "stream",
     "text": [
      "12:49:27 - cmdstanpy - INFO - Chain [1] done processing\n",
      "12:49:27 - cmdstanpy - INFO - Chain [1] start processing\n"
     ]
    },
    {
     "name": "stdout",
     "output_type": "stream",
     "text": [
      "Params: (0.1, 1.0, 'additive', 35, 0.9, 12) | MAE: 2656.88, MAPE: 15.99%\n"
     ]
    },
    {
     "name": "stderr",
     "output_type": "stream",
     "text": [
      "12:49:27 - cmdstanpy - INFO - Chain [1] done processing\n",
      "12:49:28 - cmdstanpy - INFO - Chain [1] start processing\n"
     ]
    },
    {
     "name": "stdout",
     "output_type": "stream",
     "text": [
      "Params: (0.1, 1.0, 'multiplicative', 25, 0.85, 8) | MAE: 3095.52, MAPE: 19.99%\n"
     ]
    },
    {
     "name": "stderr",
     "output_type": "stream",
     "text": [
      "12:49:28 - cmdstanpy - INFO - Chain [1] done processing\n",
      "12:49:28 - cmdstanpy - INFO - Chain [1] start processing\n"
     ]
    },
    {
     "name": "stdout",
     "output_type": "stream",
     "text": [
      "Params: (0.1, 1.0, 'multiplicative', 25, 0.85, 12) | MAE: 2587.35, MAPE: 16.72%\n"
     ]
    },
    {
     "name": "stderr",
     "output_type": "stream",
     "text": [
      "12:49:29 - cmdstanpy - INFO - Chain [1] done processing\n",
      "12:49:29 - cmdstanpy - INFO - Chain [1] start processing\n"
     ]
    },
    {
     "name": "stdout",
     "output_type": "stream",
     "text": [
      "Params: (0.1, 1.0, 'multiplicative', 25, 0.9, 8) | MAE: 1335.84, MAPE: 8.80%\n"
     ]
    },
    {
     "name": "stderr",
     "output_type": "stream",
     "text": [
      "12:49:29 - cmdstanpy - INFO - Chain [1] done processing\n",
      "12:49:30 - cmdstanpy - INFO - Chain [1] start processing\n"
     ]
    },
    {
     "name": "stdout",
     "output_type": "stream",
     "text": [
      "Params: (0.1, 1.0, 'multiplicative', 25, 0.9, 12) | MAE: 1246.82, MAPE: 8.15%\n"
     ]
    },
    {
     "name": "stderr",
     "output_type": "stream",
     "text": [
      "12:49:30 - cmdstanpy - INFO - Chain [1] done processing\n",
      "12:49:30 - cmdstanpy - INFO - Chain [1] start processing\n"
     ]
    },
    {
     "name": "stdout",
     "output_type": "stream",
     "text": [
      "Params: (0.1, 1.0, 'multiplicative', 30, 0.85, 8) | MAE: 1114.89, MAPE: 7.07%\n"
     ]
    },
    {
     "name": "stderr",
     "output_type": "stream",
     "text": [
      "12:49:31 - cmdstanpy - INFO - Chain [1] done processing\n",
      "12:49:31 - cmdstanpy - INFO - Chain [1] start processing\n"
     ]
    },
    {
     "name": "stdout",
     "output_type": "stream",
     "text": [
      "Params: (0.1, 1.0, 'multiplicative', 30, 0.85, 12) | MAE: 927.88, MAPE: 5.70%\n"
     ]
    },
    {
     "name": "stderr",
     "output_type": "stream",
     "text": [
      "12:49:32 - cmdstanpy - INFO - Chain [1] done processing\n",
      "12:49:32 - cmdstanpy - INFO - Chain [1] start processing\n"
     ]
    },
    {
     "name": "stdout",
     "output_type": "stream",
     "text": [
      "Params: (0.1, 1.0, 'multiplicative', 30, 0.9, 8) | MAE: 2804.90, MAPE: 18.49%\n"
     ]
    },
    {
     "name": "stderr",
     "output_type": "stream",
     "text": [
      "12:49:32 - cmdstanpy - INFO - Chain [1] done processing\n",
      "12:49:32 - cmdstanpy - INFO - Chain [1] start processing\n"
     ]
    },
    {
     "name": "stdout",
     "output_type": "stream",
     "text": [
      "Params: (0.1, 1.0, 'multiplicative', 30, 0.9, 12) | MAE: 2844.66, MAPE: 18.78%\n"
     ]
    },
    {
     "name": "stderr",
     "output_type": "stream",
     "text": [
      "12:49:33 - cmdstanpy - INFO - Chain [1] done processing\n",
      "12:49:33 - cmdstanpy - INFO - Chain [1] start processing\n"
     ]
    },
    {
     "name": "stdout",
     "output_type": "stream",
     "text": [
      "Params: (0.1, 1.0, 'multiplicative', 35, 0.85, 8) | MAE: 2354.11, MAPE: 15.27%\n"
     ]
    },
    {
     "name": "stderr",
     "output_type": "stream",
     "text": [
      "12:49:34 - cmdstanpy - INFO - Chain [1] done processing\n",
      "12:49:34 - cmdstanpy - INFO - Chain [1] start processing\n"
     ]
    },
    {
     "name": "stdout",
     "output_type": "stream",
     "text": [
      "Params: (0.1, 1.0, 'multiplicative', 35, 0.85, 12) | MAE: 2745.57, MAPE: 17.79%\n"
     ]
    },
    {
     "name": "stderr",
     "output_type": "stream",
     "text": [
      "12:49:35 - cmdstanpy - INFO - Chain [1] done processing\n",
      "12:49:35 - cmdstanpy - INFO - Chain [1] start processing\n"
     ]
    },
    {
     "name": "stdout",
     "output_type": "stream",
     "text": [
      "Params: (0.1, 1.0, 'multiplicative', 35, 0.9, 8) | MAE: 1524.45, MAPE: 10.06%\n"
     ]
    },
    {
     "name": "stderr",
     "output_type": "stream",
     "text": [
      "12:49:35 - cmdstanpy - INFO - Chain [1] done processing\n",
      "12:49:36 - cmdstanpy - INFO - Chain [1] start processing\n"
     ]
    },
    {
     "name": "stdout",
     "output_type": "stream",
     "text": [
      "Params: (0.1, 1.0, 'multiplicative', 35, 0.9, 12) | MAE: 1749.03, MAPE: 11.59%\n"
     ]
    },
    {
     "name": "stderr",
     "output_type": "stream",
     "text": [
      "12:49:36 - cmdstanpy - INFO - Chain [1] done processing\n",
      "12:49:36 - cmdstanpy - INFO - Chain [1] start processing\n"
     ]
    },
    {
     "name": "stdout",
     "output_type": "stream",
     "text": [
      "Params: (0.1, 10.0, 'additive', 25, 0.85, 8) | MAE: 5288.31, MAPE: 33.69%\n"
     ]
    },
    {
     "name": "stderr",
     "output_type": "stream",
     "text": [
      "12:49:37 - cmdstanpy - INFO - Chain [1] done processing\n",
      "12:49:37 - cmdstanpy - INFO - Chain [1] start processing\n"
     ]
    },
    {
     "name": "stdout",
     "output_type": "stream",
     "text": [
      "Params: (0.1, 10.0, 'additive', 25, 0.85, 12) | MAE: 5000.51, MAPE: 31.83%\n"
     ]
    },
    {
     "name": "stderr",
     "output_type": "stream",
     "text": [
      "12:49:37 - cmdstanpy - INFO - Chain [1] done processing\n",
      "12:49:38 - cmdstanpy - INFO - Chain [1] start processing\n"
     ]
    },
    {
     "name": "stdout",
     "output_type": "stream",
     "text": [
      "Params: (0.1, 10.0, 'additive', 25, 0.9, 8) | MAE: 2398.61, MAPE: 14.28%\n"
     ]
    },
    {
     "name": "stderr",
     "output_type": "stream",
     "text": [
      "12:49:38 - cmdstanpy - INFO - Chain [1] done processing\n",
      "12:49:38 - cmdstanpy - INFO - Chain [1] start processing\n"
     ]
    },
    {
     "name": "stdout",
     "output_type": "stream",
     "text": [
      "Params: (0.1, 10.0, 'additive', 25, 0.9, 12) | MAE: 2644.65, MAPE: 15.74%\n"
     ]
    },
    {
     "name": "stderr",
     "output_type": "stream",
     "text": [
      "12:49:39 - cmdstanpy - INFO - Chain [1] done processing\n",
      "12:49:39 - cmdstanpy - INFO - Chain [1] start processing\n"
     ]
    },
    {
     "name": "stdout",
     "output_type": "stream",
     "text": [
      "Params: (0.1, 10.0, 'additive', 30, 0.85, 8) | MAE: 5742.24, MAPE: 36.53%\n"
     ]
    },
    {
     "name": "stderr",
     "output_type": "stream",
     "text": [
      "12:49:39 - cmdstanpy - INFO - Chain [1] done processing\n",
      "12:49:40 - cmdstanpy - INFO - Chain [1] start processing\n"
     ]
    },
    {
     "name": "stdout",
     "output_type": "stream",
     "text": [
      "Params: (0.1, 10.0, 'additive', 30, 0.85, 12) | MAE: 5245.14, MAPE: 33.37%\n"
     ]
    },
    {
     "name": "stderr",
     "output_type": "stream",
     "text": [
      "12:49:40 - cmdstanpy - INFO - Chain [1] done processing\n",
      "12:49:40 - cmdstanpy - INFO - Chain [1] start processing\n"
     ]
    },
    {
     "name": "stdout",
     "output_type": "stream",
     "text": [
      "Params: (0.1, 10.0, 'additive', 30, 0.9, 8) | MAE: 1853.11, MAPE: 11.08%\n"
     ]
    },
    {
     "name": "stderr",
     "output_type": "stream",
     "text": [
      "12:49:41 - cmdstanpy - INFO - Chain [1] done processing\n",
      "12:49:41 - cmdstanpy - INFO - Chain [1] start processing\n"
     ]
    },
    {
     "name": "stdout",
     "output_type": "stream",
     "text": [
      "Params: (0.1, 10.0, 'additive', 30, 0.9, 12) | MAE: 2008.88, MAPE: 11.91%\n"
     ]
    },
    {
     "name": "stderr",
     "output_type": "stream",
     "text": [
      "12:49:41 - cmdstanpy - INFO - Chain [1] done processing\n",
      "12:49:42 - cmdstanpy - INFO - Chain [1] start processing\n"
     ]
    },
    {
     "name": "stdout",
     "output_type": "stream",
     "text": [
      "Params: (0.1, 10.0, 'additive', 35, 0.85, 8) | MAE: 5541.27, MAPE: 35.28%\n"
     ]
    },
    {
     "name": "stderr",
     "output_type": "stream",
     "text": [
      "12:49:42 - cmdstanpy - INFO - Chain [1] done processing\n",
      "12:49:43 - cmdstanpy - INFO - Chain [1] start processing\n"
     ]
    },
    {
     "name": "stdout",
     "output_type": "stream",
     "text": [
      "Params: (0.1, 10.0, 'additive', 35, 0.85, 12) | MAE: 5696.62, MAPE: 36.28%\n"
     ]
    },
    {
     "name": "stderr",
     "output_type": "stream",
     "text": [
      "12:49:43 - cmdstanpy - INFO - Chain [1] done processing\n",
      "12:49:43 - cmdstanpy - INFO - Chain [1] start processing\n"
     ]
    },
    {
     "name": "stdout",
     "output_type": "stream",
     "text": [
      "Params: (0.1, 10.0, 'additive', 35, 0.9, 8) | MAE: 2717.63, MAPE: 16.40%\n"
     ]
    },
    {
     "name": "stderr",
     "output_type": "stream",
     "text": [
      "12:49:44 - cmdstanpy - INFO - Chain [1] done processing\n",
      "12:49:44 - cmdstanpy - INFO - Chain [1] start processing\n"
     ]
    },
    {
     "name": "stdout",
     "output_type": "stream",
     "text": [
      "Params: (0.1, 10.0, 'additive', 35, 0.9, 12) | MAE: 2661.78, MAPE: 16.00%\n"
     ]
    },
    {
     "name": "stderr",
     "output_type": "stream",
     "text": [
      "12:49:44 - cmdstanpy - INFO - Chain [1] done processing\n",
      "12:49:44 - cmdstanpy - INFO - Chain [1] start processing\n"
     ]
    },
    {
     "name": "stdout",
     "output_type": "stream",
     "text": [
      "Params: (0.1, 10.0, 'multiplicative', 25, 0.85, 8) | MAE: 3003.34, MAPE: 19.41%\n"
     ]
    },
    {
     "name": "stderr",
     "output_type": "stream",
     "text": [
      "12:49:45 - cmdstanpy - INFO - Chain [1] done processing\n",
      "12:49:45 - cmdstanpy - INFO - Chain [1] start processing\n"
     ]
    },
    {
     "name": "stdout",
     "output_type": "stream",
     "text": [
      "Params: (0.1, 10.0, 'multiplicative', 25, 0.85, 12) | MAE: 2909.48, MAPE: 18.78%\n"
     ]
    },
    {
     "name": "stderr",
     "output_type": "stream",
     "text": [
      "12:49:45 - cmdstanpy - INFO - Chain [1] done processing\n",
      "12:49:46 - cmdstanpy - INFO - Chain [1] start processing\n"
     ]
    },
    {
     "name": "stdout",
     "output_type": "stream",
     "text": [
      "Params: (0.1, 10.0, 'multiplicative', 25, 0.9, 8) | MAE: 1483.95, MAPE: 9.83%\n"
     ]
    },
    {
     "name": "stderr",
     "output_type": "stream",
     "text": [
      "12:49:46 - cmdstanpy - INFO - Chain [1] done processing\n",
      "12:49:46 - cmdstanpy - INFO - Chain [1] start processing\n"
     ]
    },
    {
     "name": "stdout",
     "output_type": "stream",
     "text": [
      "Params: (0.1, 10.0, 'multiplicative', 25, 0.9, 12) | MAE: 1293.22, MAPE: 8.49%\n"
     ]
    },
    {
     "name": "stderr",
     "output_type": "stream",
     "text": [
      "12:49:46 - cmdstanpy - INFO - Chain [1] done processing\n",
      "12:49:47 - cmdstanpy - INFO - Chain [1] start processing\n"
     ]
    },
    {
     "name": "stdout",
     "output_type": "stream",
     "text": [
      "Params: (0.1, 10.0, 'multiplicative', 30, 0.85, 8) | MAE: 1171.00, MAPE: 7.47%\n"
     ]
    },
    {
     "name": "stderr",
     "output_type": "stream",
     "text": [
      "12:49:47 - cmdstanpy - INFO - Chain [1] done processing\n",
      "12:49:47 - cmdstanpy - INFO - Chain [1] start processing\n"
     ]
    },
    {
     "name": "stdout",
     "output_type": "stream",
     "text": [
      "Params: (0.1, 10.0, 'multiplicative', 30, 0.85, 12) | MAE: 912.75, MAPE: 5.60%\n"
     ]
    },
    {
     "name": "stderr",
     "output_type": "stream",
     "text": [
      "12:49:48 - cmdstanpy - INFO - Chain [1] done processing\n",
      "12:49:48 - cmdstanpy - INFO - Chain [1] start processing\n"
     ]
    },
    {
     "name": "stdout",
     "output_type": "stream",
     "text": [
      "Params: (0.1, 10.0, 'multiplicative', 30, 0.9, 8) | MAE: 2259.40, MAPE: 14.87%\n"
     ]
    },
    {
     "name": "stderr",
     "output_type": "stream",
     "text": [
      "12:49:49 - cmdstanpy - INFO - Chain [1] done processing\n",
      "12:49:49 - cmdstanpy - INFO - Chain [1] start processing\n"
     ]
    },
    {
     "name": "stdout",
     "output_type": "stream",
     "text": [
      "Params: (0.1, 10.0, 'multiplicative', 30, 0.9, 12) | MAE: 2318.65, MAPE: 15.30%\n"
     ]
    },
    {
     "name": "stderr",
     "output_type": "stream",
     "text": [
      "12:49:49 - cmdstanpy - INFO - Chain [1] done processing\n",
      "12:49:50 - cmdstanpy - INFO - Chain [1] start processing\n"
     ]
    },
    {
     "name": "stdout",
     "output_type": "stream",
     "text": [
      "Params: (0.1, 10.0, 'multiplicative', 35, 0.85, 8) | MAE: 2374.35, MAPE: 15.39%\n"
     ]
    },
    {
     "name": "stderr",
     "output_type": "stream",
     "text": [
      "12:49:50 - cmdstanpy - INFO - Chain [1] done processing\n",
      "12:49:50 - cmdstanpy - INFO - Chain [1] start processing\n"
     ]
    },
    {
     "name": "stdout",
     "output_type": "stream",
     "text": [
      "Params: (0.1, 10.0, 'multiplicative', 35, 0.85, 12) | MAE: 2419.12, MAPE: 15.68%\n"
     ]
    },
    {
     "name": "stderr",
     "output_type": "stream",
     "text": [
      "12:49:51 - cmdstanpy - INFO - Chain [1] done processing\n",
      "12:49:51 - cmdstanpy - INFO - Chain [1] start processing\n"
     ]
    },
    {
     "name": "stdout",
     "output_type": "stream",
     "text": [
      "Params: (0.1, 10.0, 'multiplicative', 35, 0.9, 8) | MAE: 1471.69, MAPE: 9.71%\n"
     ]
    },
    {
     "name": "stderr",
     "output_type": "stream",
     "text": [
      "12:49:51 - cmdstanpy - INFO - Chain [1] done processing\n",
      "12:49:52 - cmdstanpy - INFO - Chain [1] start processing\n"
     ]
    },
    {
     "name": "stdout",
     "output_type": "stream",
     "text": [
      "Params: (0.1, 10.0, 'multiplicative', 35, 0.9, 12) | MAE: 1664.87, MAPE: 11.03%\n"
     ]
    },
    {
     "name": "stderr",
     "output_type": "stream",
     "text": [
      "12:49:53 - cmdstanpy - INFO - Chain [1] done processing\n",
      "12:49:53 - cmdstanpy - INFO - Chain [1] start processing\n"
     ]
    },
    {
     "name": "stdout",
     "output_type": "stream",
     "text": [
      "Params: (0.5, 0.01, 'additive', 25, 0.85, 8) | MAE: 2161.02, MAPE: 14.05%\n"
     ]
    },
    {
     "name": "stderr",
     "output_type": "stream",
     "text": [
      "12:49:54 - cmdstanpy - INFO - Chain [1] done processing\n",
      "12:49:54 - cmdstanpy - INFO - Chain [1] start processing\n"
     ]
    },
    {
     "name": "stdout",
     "output_type": "stream",
     "text": [
      "Params: (0.5, 0.01, 'additive', 25, 0.85, 12) | MAE: 2758.53, MAPE: 17.92%\n"
     ]
    },
    {
     "name": "stderr",
     "output_type": "stream",
     "text": [
      "12:49:54 - cmdstanpy - INFO - Chain [1] done processing\n",
      "12:49:55 - cmdstanpy - INFO - Chain [1] start processing\n"
     ]
    },
    {
     "name": "stdout",
     "output_type": "stream",
     "text": [
      "Params: (0.5, 0.01, 'additive', 25, 0.9, 8) | MAE: 1972.91, MAPE: 13.09%\n"
     ]
    },
    {
     "name": "stderr",
     "output_type": "stream",
     "text": [
      "12:49:55 - cmdstanpy - INFO - Chain [1] done processing\n",
      "12:49:55 - cmdstanpy - INFO - Chain [1] start processing\n"
     ]
    },
    {
     "name": "stdout",
     "output_type": "stream",
     "text": [
      "Params: (0.5, 0.01, 'additive', 25, 0.9, 12) | MAE: 1840.86, MAPE: 12.11%\n"
     ]
    },
    {
     "name": "stderr",
     "output_type": "stream",
     "text": [
      "12:49:57 - cmdstanpy - INFO - Chain [1] done processing\n",
      "12:49:57 - cmdstanpy - INFO - Chain [1] start processing\n"
     ]
    },
    {
     "name": "stdout",
     "output_type": "stream",
     "text": [
      "Params: (0.5, 0.01, 'additive', 30, 0.85, 8) | MAE: 1613.28, MAPE: 10.38%\n"
     ]
    },
    {
     "name": "stderr",
     "output_type": "stream",
     "text": [
      "12:49:58 - cmdstanpy - INFO - Chain [1] done processing\n",
      "12:49:58 - cmdstanpy - INFO - Chain [1] start processing\n"
     ]
    },
    {
     "name": "stdout",
     "output_type": "stream",
     "text": [
      "Params: (0.5, 0.01, 'additive', 30, 0.85, 12) | MAE: 3159.38, MAPE: 20.67%\n"
     ]
    },
    {
     "name": "stderr",
     "output_type": "stream",
     "text": [
      "12:49:59 - cmdstanpy - INFO - Chain [1] done processing\n"
     ]
    },
    {
     "name": "stdout",
     "output_type": "stream",
     "text": [
      "Params: (0.5, 0.01, 'additive', 30, 0.9, 8) | MAE: 3309.45, MAPE: 21.72%\n"
     ]
    },
    {
     "name": "stderr",
     "output_type": "stream",
     "text": [
      "12:50:00 - cmdstanpy - INFO - Chain [1] start processing\n",
      "12:50:01 - cmdstanpy - INFO - Chain [1] done processing\n",
      "12:50:01 - cmdstanpy - INFO - Chain [1] start processing\n"
     ]
    },
    {
     "name": "stdout",
     "output_type": "stream",
     "text": [
      "Params: (0.5, 0.01, 'additive', 30, 0.9, 12) | MAE: 3550.28, MAPE: 23.29%\n"
     ]
    },
    {
     "name": "stderr",
     "output_type": "stream",
     "text": [
      "12:50:02 - cmdstanpy - INFO - Chain [1] done processing\n",
      "12:50:02 - cmdstanpy - INFO - Chain [1] start processing\n"
     ]
    },
    {
     "name": "stdout",
     "output_type": "stream",
     "text": [
      "Params: (0.5, 0.01, 'additive', 35, 0.85, 8) | MAE: 2193.30, MAPE: 14.39%\n"
     ]
    },
    {
     "name": "stderr",
     "output_type": "stream",
     "text": [
      "12:50:03 - cmdstanpy - INFO - Chain [1] done processing\n",
      "12:50:04 - cmdstanpy - INFO - Chain [1] start processing\n"
     ]
    },
    {
     "name": "stdout",
     "output_type": "stream",
     "text": [
      "Params: (0.5, 0.01, 'additive', 35, 0.85, 12) | MAE: 3054.80, MAPE: 20.01%\n"
     ]
    },
    {
     "name": "stderr",
     "output_type": "stream",
     "text": [
      "12:50:05 - cmdstanpy - INFO - Chain [1] done processing\n",
      "12:50:05 - cmdstanpy - INFO - Chain [1] start processing\n"
     ]
    },
    {
     "name": "stdout",
     "output_type": "stream",
     "text": [
      "Params: (0.5, 0.01, 'additive', 35, 0.9, 8) | MAE: 4536.64, MAPE: 29.85%\n"
     ]
    },
    {
     "name": "stderr",
     "output_type": "stream",
     "text": [
      "12:50:07 - cmdstanpy - INFO - Chain [1] done processing\n",
      "12:50:07 - cmdstanpy - INFO - Chain [1] start processing\n"
     ]
    },
    {
     "name": "stdout",
     "output_type": "stream",
     "text": [
      "Params: (0.5, 0.01, 'additive', 35, 0.9, 12) | MAE: 4610.43, MAPE: 30.32%\n"
     ]
    },
    {
     "name": "stderr",
     "output_type": "stream",
     "text": [
      "12:50:08 - cmdstanpy - INFO - Chain [1] done processing\n",
      "12:50:08 - cmdstanpy - INFO - Chain [1] start processing\n"
     ]
    },
    {
     "name": "stdout",
     "output_type": "stream",
     "text": [
      "Params: (0.5, 0.01, 'multiplicative', 25, 0.85, 8) | MAE: 3186.36, MAPE: 20.70%\n"
     ]
    },
    {
     "name": "stderr",
     "output_type": "stream",
     "text": [
      "12:50:09 - cmdstanpy - INFO - Chain [1] done processing\n",
      "12:50:09 - cmdstanpy - INFO - Chain [1] start processing\n"
     ]
    },
    {
     "name": "stdout",
     "output_type": "stream",
     "text": [
      "Params: (0.5, 0.01, 'multiplicative', 25, 0.85, 12) | MAE: 3454.80, MAPE: 22.45%\n"
     ]
    },
    {
     "name": "stderr",
     "output_type": "stream",
     "text": [
      "12:50:10 - cmdstanpy - INFO - Chain [1] done processing\n",
      "12:50:10 - cmdstanpy - INFO - Chain [1] start processing\n"
     ]
    },
    {
     "name": "stdout",
     "output_type": "stream",
     "text": [
      "Params: (0.5, 0.01, 'multiplicative', 25, 0.9, 8) | MAE: 4744.81, MAPE: 31.18%\n"
     ]
    },
    {
     "name": "stderr",
     "output_type": "stream",
     "text": [
      "12:50:11 - cmdstanpy - INFO - Chain [1] done processing\n",
      "12:50:11 - cmdstanpy - INFO - Chain [1] start processing\n"
     ]
    },
    {
     "name": "stdout",
     "output_type": "stream",
     "text": [
      "Params: (0.5, 0.01, 'multiplicative', 25, 0.9, 12) | MAE: 4534.38, MAPE: 29.82%\n"
     ]
    },
    {
     "name": "stderr",
     "output_type": "stream",
     "text": [
      "12:50:12 - cmdstanpy - INFO - Chain [1] done processing\n",
      "12:50:12 - cmdstanpy - INFO - Chain [1] start processing\n"
     ]
    },
    {
     "name": "stdout",
     "output_type": "stream",
     "text": [
      "Params: (0.5, 0.01, 'multiplicative', 30, 0.85, 8) | MAE: 3854.48, MAPE: 25.18%\n"
     ]
    },
    {
     "name": "stderr",
     "output_type": "stream",
     "text": [
      "12:50:13 - cmdstanpy - INFO - Chain [1] done processing\n",
      "12:50:13 - cmdstanpy - INFO - Chain [1] start processing\n"
     ]
    },
    {
     "name": "stdout",
     "output_type": "stream",
     "text": [
      "Params: (0.5, 0.01, 'multiplicative', 30, 0.85, 12) | MAE: 4366.88, MAPE: 28.58%\n"
     ]
    },
    {
     "name": "stderr",
     "output_type": "stream",
     "text": [
      "12:50:14 - cmdstanpy - INFO - Chain [1] done processing\n",
      "12:50:15 - cmdstanpy - INFO - Chain [1] start processing\n"
     ]
    },
    {
     "name": "stdout",
     "output_type": "stream",
     "text": [
      "Params: (0.5, 0.01, 'multiplicative', 30, 0.9, 8) | MAE: 6319.30, MAPE: 41.44%\n"
     ]
    },
    {
     "name": "stderr",
     "output_type": "stream",
     "text": [
      "12:50:15 - cmdstanpy - INFO - Chain [1] done processing\n",
      "12:50:16 - cmdstanpy - INFO - Chain [1] start processing\n"
     ]
    },
    {
     "name": "stdout",
     "output_type": "stream",
     "text": [
      "Params: (0.5, 0.01, 'multiplicative', 30, 0.9, 12) | MAE: 5841.22, MAPE: 38.26%\n"
     ]
    },
    {
     "name": "stderr",
     "output_type": "stream",
     "text": [
      "12:50:17 - cmdstanpy - INFO - Chain [1] done processing\n",
      "12:50:17 - cmdstanpy - INFO - Chain [1] start processing\n"
     ]
    },
    {
     "name": "stdout",
     "output_type": "stream",
     "text": [
      "Params: (0.5, 0.01, 'multiplicative', 35, 0.85, 8) | MAE: 4325.95, MAPE: 28.39%\n"
     ]
    },
    {
     "name": "stderr",
     "output_type": "stream",
     "text": [
      "12:50:18 - cmdstanpy - INFO - Chain [1] done processing\n",
      "12:50:18 - cmdstanpy - INFO - Chain [1] start processing\n"
     ]
    },
    {
     "name": "stdout",
     "output_type": "stream",
     "text": [
      "Params: (0.5, 0.01, 'multiplicative', 35, 0.85, 12) | MAE: 4595.84, MAPE: 30.14%\n"
     ]
    },
    {
     "name": "stderr",
     "output_type": "stream",
     "text": [
      "12:50:19 - cmdstanpy - INFO - Chain [1] done processing\n",
      "12:50:20 - cmdstanpy - INFO - Chain [1] start processing\n"
     ]
    },
    {
     "name": "stdout",
     "output_type": "stream",
     "text": [
      "Params: (0.5, 0.01, 'multiplicative', 35, 0.9, 8) | MAE: 6325.00, MAPE: 41.52%\n"
     ]
    },
    {
     "name": "stderr",
     "output_type": "stream",
     "text": [
      "12:50:21 - cmdstanpy - INFO - Chain [1] done processing\n",
      "12:50:21 - cmdstanpy - INFO - Chain [1] start processing\n"
     ]
    },
    {
     "name": "stdout",
     "output_type": "stream",
     "text": [
      "Params: (0.5, 0.01, 'multiplicative', 35, 0.9, 12) | MAE: 6763.74, MAPE: 44.40%\n"
     ]
    },
    {
     "name": "stderr",
     "output_type": "stream",
     "text": [
      "12:50:22 - cmdstanpy - INFO - Chain [1] done processing\n",
      "12:50:22 - cmdstanpy - INFO - Chain [1] start processing\n"
     ]
    },
    {
     "name": "stdout",
     "output_type": "stream",
     "text": [
      "Params: (0.5, 0.1, 'additive', 25, 0.85, 8) | MAE: 5041.64, MAPE: 31.45%\n"
     ]
    },
    {
     "name": "stderr",
     "output_type": "stream",
     "text": [
      "12:50:23 - cmdstanpy - INFO - Chain [1] done processing\n",
      "12:50:23 - cmdstanpy - INFO - Chain [1] start processing\n"
     ]
    },
    {
     "name": "stdout",
     "output_type": "stream",
     "text": [
      "Params: (0.5, 0.1, 'additive', 25, 0.85, 12) | MAE: 3716.81, MAPE: 23.22%\n"
     ]
    },
    {
     "name": "stderr",
     "output_type": "stream",
     "text": [
      "12:50:24 - cmdstanpy - INFO - Chain [1] done processing\n",
      "12:50:25 - cmdstanpy - INFO - Chain [1] start processing\n"
     ]
    },
    {
     "name": "stdout",
     "output_type": "stream",
     "text": [
      "Params: (0.5, 0.1, 'additive', 25, 0.9, 8) | MAE: 19718.53, MAPE: 125.42%\n"
     ]
    },
    {
     "name": "stderr",
     "output_type": "stream",
     "text": [
      "12:50:26 - cmdstanpy - INFO - Chain [1] done processing\n",
      "12:50:26 - cmdstanpy - INFO - Chain [1] start processing\n"
     ]
    },
    {
     "name": "stdout",
     "output_type": "stream",
     "text": [
      "Params: (0.5, 0.1, 'additive', 25, 0.9, 12) | MAE: 21721.42, MAPE: 137.98%\n"
     ]
    },
    {
     "name": "stderr",
     "output_type": "stream",
     "text": [
      "12:50:27 - cmdstanpy - INFO - Chain [1] done processing\n"
     ]
    },
    {
     "name": "stdout",
     "output_type": "stream",
     "text": [
      "Params: (0.5, 0.1, 'additive', 30, 0.85, 8) | MAE: 10222.06, MAPE: 65.14%\n"
     ]
    },
    {
     "name": "stderr",
     "output_type": "stream",
     "text": [
      "12:50:28 - cmdstanpy - INFO - Chain [1] start processing\n",
      "12:50:29 - cmdstanpy - INFO - Chain [1] done processing\n",
      "12:50:29 - cmdstanpy - INFO - Chain [1] start processing\n"
     ]
    },
    {
     "name": "stdout",
     "output_type": "stream",
     "text": [
      "Params: (0.5, 0.1, 'additive', 30, 0.85, 12) | MAE: 6419.72, MAPE: 40.63%\n"
     ]
    },
    {
     "name": "stderr",
     "output_type": "stream",
     "text": [
      "12:50:30 - cmdstanpy - INFO - Chain [1] done processing\n",
      "12:50:30 - cmdstanpy - INFO - Chain [1] start processing\n"
     ]
    },
    {
     "name": "stdout",
     "output_type": "stream",
     "text": [
      "Params: (0.5, 0.1, 'additive', 30, 0.9, 8) | MAE: 6980.94, MAPE: 44.94%\n"
     ]
    },
    {
     "name": "stderr",
     "output_type": "stream",
     "text": [
      "12:50:31 - cmdstanpy - INFO - Chain [1] done processing\n",
      "12:50:32 - cmdstanpy - INFO - Chain [1] start processing\n"
     ]
    },
    {
     "name": "stdout",
     "output_type": "stream",
     "text": [
      "Params: (0.5, 0.1, 'additive', 30, 0.9, 12) | MAE: 9028.43, MAPE: 58.33%\n"
     ]
    },
    {
     "name": "stderr",
     "output_type": "stream",
     "text": [
      "12:50:33 - cmdstanpy - INFO - Chain [1] done processing\n",
      "12:50:33 - cmdstanpy - INFO - Chain [1] start processing\n"
     ]
    },
    {
     "name": "stdout",
     "output_type": "stream",
     "text": [
      "Params: (0.5, 0.1, 'additive', 35, 0.85, 8) | MAE: 16674.95, MAPE: 107.35%\n"
     ]
    },
    {
     "name": "stderr",
     "output_type": "stream",
     "text": [
      "12:50:34 - cmdstanpy - INFO - Chain [1] done processing\n",
      "12:50:34 - cmdstanpy - INFO - Chain [1] start processing\n"
     ]
    },
    {
     "name": "stdout",
     "output_type": "stream",
     "text": [
      "Params: (0.5, 0.1, 'additive', 35, 0.85, 12) | MAE: 12860.56, MAPE: 82.91%\n"
     ]
    },
    {
     "name": "stderr",
     "output_type": "stream",
     "text": [
      "12:50:35 - cmdstanpy - INFO - Chain [1] done processing\n",
      "12:50:36 - cmdstanpy - INFO - Chain [1] start processing\n"
     ]
    },
    {
     "name": "stdout",
     "output_type": "stream",
     "text": [
      "Params: (0.5, 0.1, 'additive', 35, 0.9, 8) | MAE: 6633.60, MAPE: 42.85%\n"
     ]
    },
    {
     "name": "stderr",
     "output_type": "stream",
     "text": [
      "12:50:37 - cmdstanpy - INFO - Chain [1] done processing\n",
      "12:50:37 - cmdstanpy - INFO - Chain [1] start processing\n"
     ]
    },
    {
     "name": "stdout",
     "output_type": "stream",
     "text": [
      "Params: (0.5, 0.1, 'additive', 35, 0.9, 12) | MAE: 7485.55, MAPE: 48.44%\n"
     ]
    },
    {
     "name": "stderr",
     "output_type": "stream",
     "text": [
      "12:50:38 - cmdstanpy - INFO - Chain [1] done processing\n",
      "12:50:39 - cmdstanpy - INFO - Chain [1] start processing\n"
     ]
    },
    {
     "name": "stdout",
     "output_type": "stream",
     "text": [
      "Params: (0.5, 0.1, 'multiplicative', 25, 0.85, 8) | MAE: 5430.10, MAPE: 35.19%\n"
     ]
    },
    {
     "name": "stderr",
     "output_type": "stream",
     "text": [
      "12:50:40 - cmdstanpy - INFO - Chain [1] done processing\n",
      "12:50:40 - cmdstanpy - INFO - Chain [1] start processing\n"
     ]
    },
    {
     "name": "stdout",
     "output_type": "stream",
     "text": [
      "Params: (0.5, 0.1, 'multiplicative', 25, 0.85, 12) | MAE: 8495.56, MAPE: 55.82%\n"
     ]
    },
    {
     "name": "stderr",
     "output_type": "stream",
     "text": [
      "12:50:41 - cmdstanpy - INFO - Chain [1] done processing\n",
      "12:50:41 - cmdstanpy - INFO - Chain [1] start processing\n"
     ]
    },
    {
     "name": "stdout",
     "output_type": "stream",
     "text": [
      "Params: (0.5, 0.1, 'multiplicative', 25, 0.9, 8) | MAE: 8057.47, MAPE: 49.93%\n"
     ]
    },
    {
     "name": "stderr",
     "output_type": "stream",
     "text": [
      "12:50:42 - cmdstanpy - INFO - Chain [1] done processing\n",
      "12:50:42 - cmdstanpy - INFO - Chain [1] start processing\n"
     ]
    },
    {
     "name": "stdout",
     "output_type": "stream",
     "text": [
      "Params: (0.5, 0.1, 'multiplicative', 25, 0.9, 12) | MAE: 7633.70, MAPE: 46.81%\n"
     ]
    },
    {
     "name": "stderr",
     "output_type": "stream",
     "text": [
      "12:50:44 - cmdstanpy - INFO - Chain [1] done processing\n",
      "12:50:44 - cmdstanpy - INFO - Chain [1] start processing\n"
     ]
    },
    {
     "name": "stdout",
     "output_type": "stream",
     "text": [
      "Params: (0.5, 0.1, 'multiplicative', 30, 0.85, 8) | MAE: 1633.80, MAPE: 9.86%\n"
     ]
    },
    {
     "name": "stderr",
     "output_type": "stream",
     "text": [
      "12:50:45 - cmdstanpy - INFO - Chain [1] done processing\n",
      "12:50:45 - cmdstanpy - INFO - Chain [1] start processing\n"
     ]
    },
    {
     "name": "stdout",
     "output_type": "stream",
     "text": [
      "Params: (0.5, 0.1, 'multiplicative', 30, 0.85, 12) | MAE: 1978.15, MAPE: 12.82%\n"
     ]
    },
    {
     "name": "stderr",
     "output_type": "stream",
     "text": [
      "12:50:46 - cmdstanpy - INFO - Chain [1] done processing\n",
      "12:50:47 - cmdstanpy - INFO - Chain [1] start processing\n"
     ]
    },
    {
     "name": "stdout",
     "output_type": "stream",
     "text": [
      "Params: (0.5, 0.1, 'multiplicative', 30, 0.9, 8) | MAE: 1003.06, MAPE: 6.10%\n"
     ]
    },
    {
     "name": "stderr",
     "output_type": "stream",
     "text": [
      "12:50:48 - cmdstanpy - INFO - Chain [1] done processing\n",
      "12:50:48 - cmdstanpy - INFO - Chain [1] start processing\n"
     ]
    },
    {
     "name": "stdout",
     "output_type": "stream",
     "text": [
      "Params: (0.5, 0.1, 'multiplicative', 30, 0.9, 12) | MAE: 1680.33, MAPE: 10.44%\n"
     ]
    },
    {
     "name": "stderr",
     "output_type": "stream",
     "text": [
      "12:50:49 - cmdstanpy - INFO - Chain [1] done processing\n",
      "12:50:49 - cmdstanpy - INFO - Chain [1] start processing\n"
     ]
    },
    {
     "name": "stdout",
     "output_type": "stream",
     "text": [
      "Params: (0.5, 0.1, 'multiplicative', 35, 0.85, 8) | MAE: 8479.04, MAPE: 54.00%\n"
     ]
    },
    {
     "name": "stderr",
     "output_type": "stream",
     "text": [
      "12:50:51 - cmdstanpy - INFO - Chain [1] done processing\n",
      "12:50:51 - cmdstanpy - INFO - Chain [1] start processing\n"
     ]
    },
    {
     "name": "stdout",
     "output_type": "stream",
     "text": [
      "Params: (0.5, 0.1, 'multiplicative', 35, 0.85, 12) | MAE: 5151.57, MAPE: 32.78%\n"
     ]
    },
    {
     "name": "stderr",
     "output_type": "stream",
     "text": [
      "12:50:52 - cmdstanpy - INFO - Chain [1] done processing\n",
      "12:50:52 - cmdstanpy - INFO - Chain [1] start processing\n"
     ]
    },
    {
     "name": "stdout",
     "output_type": "stream",
     "text": [
      "Params: (0.5, 0.1, 'multiplicative', 35, 0.9, 8) | MAE: 1417.07, MAPE: 8.51%\n"
     ]
    },
    {
     "name": "stderr",
     "output_type": "stream",
     "text": [
      "12:50:53 - cmdstanpy - INFO - Chain [1] done processing\n",
      "12:50:54 - cmdstanpy - INFO - Chain [1] start processing\n"
     ]
    },
    {
     "name": "stdout",
     "output_type": "stream",
     "text": [
      "Params: (0.5, 0.1, 'multiplicative', 35, 0.9, 12) | MAE: 1109.02, MAPE: 6.90%\n"
     ]
    },
    {
     "name": "stderr",
     "output_type": "stream",
     "text": [
      "12:50:55 - cmdstanpy - INFO - Chain [1] done processing\n",
      "12:50:55 - cmdstanpy - INFO - Chain [1] start processing\n"
     ]
    },
    {
     "name": "stdout",
     "output_type": "stream",
     "text": [
      "Params: (0.5, 1.0, 'additive', 25, 0.85, 8) | MAE: 5951.99, MAPE: 37.21%\n"
     ]
    },
    {
     "name": "stderr",
     "output_type": "stream",
     "text": [
      "12:50:56 - cmdstanpy - INFO - Chain [1] done processing\n",
      "12:50:56 - cmdstanpy - INFO - Chain [1] start processing\n"
     ]
    },
    {
     "name": "stdout",
     "output_type": "stream",
     "text": [
      "Params: (0.5, 1.0, 'additive', 25, 0.85, 12) | MAE: 3145.34, MAPE: 19.45%\n"
     ]
    },
    {
     "name": "stderr",
     "output_type": "stream",
     "text": [
      "12:50:58 - cmdstanpy - INFO - Chain [1] done processing\n",
      "12:50:58 - cmdstanpy - INFO - Chain [1] start processing\n"
     ]
    },
    {
     "name": "stdout",
     "output_type": "stream",
     "text": [
      "Params: (0.5, 1.0, 'additive', 25, 0.9, 8) | MAE: 22346.59, MAPE: 142.09%\n"
     ]
    },
    {
     "name": "stderr",
     "output_type": "stream",
     "text": [
      "12:50:59 - cmdstanpy - INFO - Chain [1] done processing\n",
      "12:50:59 - cmdstanpy - INFO - Chain [1] start processing\n"
     ]
    },
    {
     "name": "stdout",
     "output_type": "stream",
     "text": [
      "Params: (0.5, 1.0, 'additive', 25, 0.9, 12) | MAE: 20661.90, MAPE: 131.43%\n"
     ]
    },
    {
     "name": "stderr",
     "output_type": "stream",
     "text": [
      "12:51:00 - cmdstanpy - INFO - Chain [1] done processing\n",
      "12:51:00 - cmdstanpy - INFO - Chain [1] start processing\n"
     ]
    },
    {
     "name": "stdout",
     "output_type": "stream",
     "text": [
      "Params: (0.5, 1.0, 'additive', 30, 0.85, 8) | MAE: 10933.48, MAPE: 69.65%\n"
     ]
    },
    {
     "name": "stderr",
     "output_type": "stream",
     "text": [
      "12:51:01 - cmdstanpy - INFO - Chain [1] done processing\n",
      "12:51:01 - cmdstanpy - INFO - Chain [1] start processing\n"
     ]
    },
    {
     "name": "stdout",
     "output_type": "stream",
     "text": [
      "Params: (0.5, 1.0, 'additive', 30, 0.85, 12) | MAE: 8180.19, MAPE: 52.07%\n"
     ]
    },
    {
     "name": "stderr",
     "output_type": "stream",
     "text": [
      "12:51:02 - cmdstanpy - INFO - Chain [1] done processing\n",
      "12:51:02 - cmdstanpy - INFO - Chain [1] start processing\n"
     ]
    },
    {
     "name": "stdout",
     "output_type": "stream",
     "text": [
      "Params: (0.5, 1.0, 'additive', 30, 0.9, 8) | MAE: 7460.00, MAPE: 48.04%\n"
     ]
    },
    {
     "name": "stderr",
     "output_type": "stream",
     "text": [
      "12:51:03 - cmdstanpy - INFO - Chain [1] done processing\n",
      "12:51:04 - cmdstanpy - INFO - Chain [1] start processing\n"
     ]
    },
    {
     "name": "stdout",
     "output_type": "stream",
     "text": [
      "Params: (0.5, 1.0, 'additive', 30, 0.9, 12) | MAE: 10584.48, MAPE: 68.53%\n"
     ]
    },
    {
     "name": "stderr",
     "output_type": "stream",
     "text": [
      "12:51:05 - cmdstanpy - INFO - Chain [1] done processing\n",
      "12:51:05 - cmdstanpy - INFO - Chain [1] start processing\n"
     ]
    },
    {
     "name": "stdout",
     "output_type": "stream",
     "text": [
      "Params: (0.5, 1.0, 'additive', 35, 0.85, 8) | MAE: 18510.67, MAPE: 119.35%\n"
     ]
    },
    {
     "name": "stderr",
     "output_type": "stream",
     "text": [
      "12:51:06 - cmdstanpy - INFO - Chain [1] done processing\n",
      "12:51:06 - cmdstanpy - INFO - Chain [1] start processing\n"
     ]
    },
    {
     "name": "stdout",
     "output_type": "stream",
     "text": [
      "Params: (0.5, 1.0, 'additive', 35, 0.85, 12) | MAE: 15317.83, MAPE: 98.91%\n"
     ]
    },
    {
     "name": "stderr",
     "output_type": "stream",
     "text": [
      "12:51:07 - cmdstanpy - INFO - Chain [1] done processing\n",
      "12:51:08 - cmdstanpy - INFO - Chain [1] start processing\n"
     ]
    },
    {
     "name": "stdout",
     "output_type": "stream",
     "text": [
      "Params: (0.5, 1.0, 'additive', 35, 0.9, 8) | MAE: 7763.81, MAPE: 50.26%\n"
     ]
    },
    {
     "name": "stderr",
     "output_type": "stream",
     "text": [
      "12:51:09 - cmdstanpy - INFO - Chain [1] done processing\n",
      "12:51:09 - cmdstanpy - INFO - Chain [1] start processing\n"
     ]
    },
    {
     "name": "stdout",
     "output_type": "stream",
     "text": [
      "Params: (0.5, 1.0, 'additive', 35, 0.9, 12) | MAE: 9020.40, MAPE: 58.57%\n"
     ]
    },
    {
     "name": "stderr",
     "output_type": "stream",
     "text": [
      "12:51:10 - cmdstanpy - INFO - Chain [1] done processing\n",
      "12:51:11 - cmdstanpy - INFO - Chain [1] start processing\n"
     ]
    },
    {
     "name": "stdout",
     "output_type": "stream",
     "text": [
      "Params: (0.5, 1.0, 'multiplicative', 25, 0.85, 8) | MAE: 5225.40, MAPE: 33.82%\n"
     ]
    },
    {
     "name": "stderr",
     "output_type": "stream",
     "text": [
      "12:51:12 - cmdstanpy - INFO - Chain [1] done processing\n",
      "12:51:13 - cmdstanpy - INFO - Chain [1] start processing\n"
     ]
    },
    {
     "name": "stdout",
     "output_type": "stream",
     "text": [
      "Params: (0.5, 1.0, 'multiplicative', 25, 0.85, 12) | MAE: 11733.20, MAPE: 77.65%\n"
     ]
    },
    {
     "name": "stderr",
     "output_type": "stream",
     "text": [
      "12:51:14 - cmdstanpy - INFO - Chain [1] done processing\n",
      "12:51:14 - cmdstanpy - INFO - Chain [1] start processing\n"
     ]
    },
    {
     "name": "stdout",
     "output_type": "stream",
     "text": [
      "Params: (0.5, 1.0, 'multiplicative', 25, 0.9, 8) | MAE: 9106.07, MAPE: 56.66%\n"
     ]
    },
    {
     "name": "stderr",
     "output_type": "stream",
     "text": [
      "12:51:15 - cmdstanpy - INFO - Chain [1] done processing\n",
      "12:51:15 - cmdstanpy - INFO - Chain [1] start processing\n"
     ]
    },
    {
     "name": "stdout",
     "output_type": "stream",
     "text": [
      "Params: (0.5, 1.0, 'multiplicative', 25, 0.9, 12) | MAE: 8414.70, MAPE: 51.86%\n"
     ]
    },
    {
     "name": "stderr",
     "output_type": "stream",
     "text": [
      "12:51:16 - cmdstanpy - INFO - Chain [1] done processing\n",
      "12:51:16 - cmdstanpy - INFO - Chain [1] start processing\n"
     ]
    },
    {
     "name": "stdout",
     "output_type": "stream",
     "text": [
      "Params: (0.5, 1.0, 'multiplicative', 30, 0.85, 8) | MAE: 1538.08, MAPE: 9.08%\n"
     ]
    },
    {
     "name": "stderr",
     "output_type": "stream",
     "text": [
      "12:51:17 - cmdstanpy - INFO - Chain [1] done processing\n",
      "12:51:17 - cmdstanpy - INFO - Chain [1] start processing\n"
     ]
    },
    {
     "name": "stdout",
     "output_type": "stream",
     "text": [
      "Params: (0.5, 1.0, 'multiplicative', 30, 0.85, 12) | MAE: 1683.12, MAPE: 10.38%\n"
     ]
    },
    {
     "name": "stderr",
     "output_type": "stream",
     "text": [
      "12:51:18 - cmdstanpy - INFO - Chain [1] done processing\n",
      "12:51:18 - cmdstanpy - INFO - Chain [1] start processing\n"
     ]
    },
    {
     "name": "stdout",
     "output_type": "stream",
     "text": [
      "Params: (0.5, 1.0, 'multiplicative', 30, 0.9, 8) | MAE: 1030.68, MAPE: 6.29%\n"
     ]
    },
    {
     "name": "stderr",
     "output_type": "stream",
     "text": [
      "12:51:19 - cmdstanpy - INFO - Chain [1] done processing\n",
      "12:51:20 - cmdstanpy - INFO - Chain [1] start processing\n"
     ]
    },
    {
     "name": "stdout",
     "output_type": "stream",
     "text": [
      "Params: (0.5, 1.0, 'multiplicative', 30, 0.9, 12) | MAE: 2654.90, MAPE: 16.77%\n"
     ]
    },
    {
     "name": "stderr",
     "output_type": "stream",
     "text": [
      "12:51:21 - cmdstanpy - INFO - Chain [1] done processing\n",
      "12:51:21 - cmdstanpy - INFO - Chain [1] start processing\n"
     ]
    },
    {
     "name": "stdout",
     "output_type": "stream",
     "text": [
      "Params: (0.5, 1.0, 'multiplicative', 35, 0.85, 8) | MAE: 11661.67, MAPE: 74.34%\n"
     ]
    },
    {
     "name": "stderr",
     "output_type": "stream",
     "text": [
      "12:51:22 - cmdstanpy - INFO - Chain [1] done processing\n",
      "12:51:23 - cmdstanpy - INFO - Chain [1] start processing\n"
     ]
    },
    {
     "name": "stdout",
     "output_type": "stream",
     "text": [
      "Params: (0.5, 1.0, 'multiplicative', 35, 0.85, 12) | MAE: 6977.52, MAPE: 44.73%\n"
     ]
    },
    {
     "name": "stderr",
     "output_type": "stream",
     "text": [
      "12:51:23 - cmdstanpy - INFO - Chain [1] done processing\n",
      "12:51:24 - cmdstanpy - INFO - Chain [1] start processing\n"
     ]
    },
    {
     "name": "stdout",
     "output_type": "stream",
     "text": [
      "Params: (0.5, 1.0, 'multiplicative', 35, 0.9, 8) | MAE: 1427.53, MAPE: 8.50%\n"
     ]
    },
    {
     "name": "stderr",
     "output_type": "stream",
     "text": [
      "12:51:25 - cmdstanpy - INFO - Chain [1] done processing\n",
      "12:51:25 - cmdstanpy - INFO - Chain [1] start processing\n"
     ]
    },
    {
     "name": "stdout",
     "output_type": "stream",
     "text": [
      "Params: (0.5, 1.0, 'multiplicative', 35, 0.9, 12) | MAE: 1137.01, MAPE: 7.06%\n"
     ]
    },
    {
     "name": "stderr",
     "output_type": "stream",
     "text": [
      "12:51:26 - cmdstanpy - INFO - Chain [1] done processing\n",
      "12:51:26 - cmdstanpy - INFO - Chain [1] start processing\n"
     ]
    },
    {
     "name": "stdout",
     "output_type": "stream",
     "text": [
      "Params: (0.5, 10.0, 'additive', 25, 0.85, 8) | MAE: 5805.62, MAPE: 36.24%\n"
     ]
    },
    {
     "name": "stderr",
     "output_type": "stream",
     "text": [
      "12:51:27 - cmdstanpy - INFO - Chain [1] done processing\n",
      "12:51:27 - cmdstanpy - INFO - Chain [1] start processing\n"
     ]
    },
    {
     "name": "stdout",
     "output_type": "stream",
     "text": [
      "Params: (0.5, 10.0, 'additive', 25, 0.85, 12) | MAE: 4258.89, MAPE: 26.82%\n"
     ]
    },
    {
     "name": "stderr",
     "output_type": "stream",
     "text": [
      "12:51:28 - cmdstanpy - INFO - Chain [1] done processing\n",
      "12:51:29 - cmdstanpy - INFO - Chain [1] start processing\n"
     ]
    },
    {
     "name": "stdout",
     "output_type": "stream",
     "text": [
      "Params: (0.5, 10.0, 'additive', 25, 0.9, 8) | MAE: 22965.68, MAPE: 146.13%\n"
     ]
    },
    {
     "name": "stderr",
     "output_type": "stream",
     "text": [
      "12:51:30 - cmdstanpy - INFO - Chain [1] done processing\n",
      "12:51:30 - cmdstanpy - INFO - Chain [1] start processing\n"
     ]
    },
    {
     "name": "stdout",
     "output_type": "stream",
     "text": [
      "Params: (0.5, 10.0, 'additive', 25, 0.9, 12) | MAE: 22627.37, MAPE: 143.85%\n"
     ]
    },
    {
     "name": "stderr",
     "output_type": "stream",
     "text": [
      "12:51:31 - cmdstanpy - INFO - Chain [1] done processing\n"
     ]
    },
    {
     "name": "stdout",
     "output_type": "stream",
     "text": [
      "Params: (0.5, 10.0, 'additive', 30, 0.85, 8) | MAE: 10506.57, MAPE: 66.97%\n"
     ]
    },
    {
     "name": "stderr",
     "output_type": "stream",
     "text": [
      "12:51:32 - cmdstanpy - INFO - Chain [1] start processing\n",
      "12:51:33 - cmdstanpy - INFO - Chain [1] done processing\n",
      "12:51:33 - cmdstanpy - INFO - Chain [1] start processing\n"
     ]
    },
    {
     "name": "stdout",
     "output_type": "stream",
     "text": [
      "Params: (0.5, 10.0, 'additive', 30, 0.85, 12) | MAE: 8305.55, MAPE: 52.79%\n"
     ]
    },
    {
     "name": "stderr",
     "output_type": "stream",
     "text": [
      "12:51:34 - cmdstanpy - INFO - Chain [1] done processing\n",
      "12:51:34 - cmdstanpy - INFO - Chain [1] start processing\n"
     ]
    },
    {
     "name": "stdout",
     "output_type": "stream",
     "text": [
      "Params: (0.5, 10.0, 'additive', 30, 0.9, 8) | MAE: 9412.41, MAPE: 60.82%\n"
     ]
    },
    {
     "name": "stderr",
     "output_type": "stream",
     "text": [
      "12:51:36 - cmdstanpy - INFO - Chain [1] done processing\n",
      "12:51:36 - cmdstanpy - INFO - Chain [1] start processing\n"
     ]
    },
    {
     "name": "stdout",
     "output_type": "stream",
     "text": [
      "Params: (0.5, 10.0, 'additive', 30, 0.9, 12) | MAE: 10274.94, MAPE: 66.46%\n"
     ]
    },
    {
     "name": "stderr",
     "output_type": "stream",
     "text": [
      "12:51:37 - cmdstanpy - INFO - Chain [1] done processing\n",
      "12:51:37 - cmdstanpy - INFO - Chain [1] start processing\n"
     ]
    },
    {
     "name": "stdout",
     "output_type": "stream",
     "text": [
      "Params: (0.5, 10.0, 'additive', 35, 0.85, 8) | MAE: 18890.77, MAPE: 121.80%\n"
     ]
    },
    {
     "name": "stderr",
     "output_type": "stream",
     "text": [
      "12:51:38 - cmdstanpy - INFO - Chain [1] done processing\n",
      "12:51:38 - cmdstanpy - INFO - Chain [1] start processing\n"
     ]
    },
    {
     "name": "stdout",
     "output_type": "stream",
     "text": [
      "Params: (0.5, 10.0, 'additive', 35, 0.85, 12) | MAE: 14021.09, MAPE: 90.47%\n"
     ]
    },
    {
     "name": "stderr",
     "output_type": "stream",
     "text": [
      "12:51:39 - cmdstanpy - INFO - Chain [1] done processing\n",
      "12:51:40 - cmdstanpy - INFO - Chain [1] start processing\n"
     ]
    },
    {
     "name": "stdout",
     "output_type": "stream",
     "text": [
      "Params: (0.5, 10.0, 'additive', 35, 0.9, 8) | MAE: 7677.00, MAPE: 49.69%\n"
     ]
    },
    {
     "name": "stderr",
     "output_type": "stream",
     "text": [
      "12:51:41 - cmdstanpy - INFO - Chain [1] done processing\n",
      "12:51:41 - cmdstanpy - INFO - Chain [1] start processing\n"
     ]
    },
    {
     "name": "stdout",
     "output_type": "stream",
     "text": [
      "Params: (0.5, 10.0, 'additive', 35, 0.9, 12) | MAE: 8976.49, MAPE: 58.25%\n"
     ]
    },
    {
     "name": "stderr",
     "output_type": "stream",
     "text": [
      "12:51:42 - cmdstanpy - INFO - Chain [1] done processing\n",
      "12:51:42 - cmdstanpy - INFO - Chain [1] start processing\n"
     ]
    },
    {
     "name": "stdout",
     "output_type": "stream",
     "text": [
      "Params: (0.5, 10.0, 'multiplicative', 25, 0.85, 8) | MAE: 3220.16, MAPE: 20.47%\n"
     ]
    },
    {
     "name": "stderr",
     "output_type": "stream",
     "text": [
      "12:51:44 - cmdstanpy - INFO - Chain [1] done processing\n",
      "12:51:44 - cmdstanpy - INFO - Chain [1] start processing\n"
     ]
    },
    {
     "name": "stdout",
     "output_type": "stream",
     "text": [
      "Params: (0.5, 10.0, 'multiplicative', 25, 0.85, 12) | MAE: 10459.74, MAPE: 69.16%\n"
     ]
    },
    {
     "name": "stderr",
     "output_type": "stream",
     "text": [
      "12:51:45 - cmdstanpy - INFO - Chain [1] done processing\n",
      "12:51:45 - cmdstanpy - INFO - Chain [1] start processing\n"
     ]
    },
    {
     "name": "stdout",
     "output_type": "stream",
     "text": [
      "Params: (0.5, 10.0, 'multiplicative', 25, 0.9, 8) | MAE: 9095.36, MAPE: 56.55%\n"
     ]
    },
    {
     "name": "stderr",
     "output_type": "stream",
     "text": [
      "12:51:45 - cmdstanpy - INFO - Chain [1] done processing\n",
      "12:51:45 - cmdstanpy - INFO - Chain [1] start processing\n"
     ]
    },
    {
     "name": "stdout",
     "output_type": "stream",
     "text": [
      "Params: (0.5, 10.0, 'multiplicative', 25, 0.9, 12) | MAE: 2944.97, MAPE: 17.74%\n"
     ]
    },
    {
     "name": "stderr",
     "output_type": "stream",
     "text": [
      "12:51:47 - cmdstanpy - INFO - Chain [1] done processing\n",
      "12:51:47 - cmdstanpy - INFO - Chain [1] start processing\n"
     ]
    },
    {
     "name": "stdout",
     "output_type": "stream",
     "text": [
      "Params: (0.5, 10.0, 'multiplicative', 30, 0.85, 8) | MAE: 1922.17, MAPE: 11.78%\n"
     ]
    },
    {
     "name": "stderr",
     "output_type": "stream",
     "text": [
      "12:51:48 - cmdstanpy - INFO - Chain [1] done processing\n",
      "12:51:49 - cmdstanpy - INFO - Chain [1] start processing\n"
     ]
    },
    {
     "name": "stdout",
     "output_type": "stream",
     "text": [
      "Params: (0.5, 10.0, 'multiplicative', 30, 0.85, 12) | MAE: 2255.62, MAPE: 14.60%\n"
     ]
    },
    {
     "name": "stderr",
     "output_type": "stream",
     "text": [
      "12:51:50 - cmdstanpy - INFO - Chain [1] done processing\n",
      "12:51:50 - cmdstanpy - INFO - Chain [1] start processing\n"
     ]
    },
    {
     "name": "stdout",
     "output_type": "stream",
     "text": [
      "Params: (0.5, 10.0, 'multiplicative', 30, 0.9, 8) | MAE: 1844.45, MAPE: 11.45%\n"
     ]
    },
    {
     "name": "stderr",
     "output_type": "stream",
     "text": [
      "12:51:51 - cmdstanpy - INFO - Chain [1] done processing\n",
      "12:51:51 - cmdstanpy - INFO - Chain [1] start processing\n"
     ]
    },
    {
     "name": "stdout",
     "output_type": "stream",
     "text": [
      "Params: (0.5, 10.0, 'multiplicative', 30, 0.9, 12) | MAE: 3030.26, MAPE: 19.32%\n"
     ]
    },
    {
     "name": "stderr",
     "output_type": "stream",
     "text": [
      "12:51:52 - cmdstanpy - INFO - Chain [1] done processing\n",
      "12:51:52 - cmdstanpy - INFO - Chain [1] start processing\n"
     ]
    },
    {
     "name": "stdout",
     "output_type": "stream",
     "text": [
      "Params: (0.5, 10.0, 'multiplicative', 35, 0.85, 8) | MAE: 7507.71, MAPE: 48.26%\n"
     ]
    },
    {
     "name": "stderr",
     "output_type": "stream",
     "text": [
      "12:51:53 - cmdstanpy - INFO - Chain [1] done processing\n",
      "12:51:54 - cmdstanpy - INFO - Chain [1] start processing\n"
     ]
    },
    {
     "name": "stdout",
     "output_type": "stream",
     "text": [
      "Params: (0.5, 10.0, 'multiplicative', 35, 0.85, 12) | MAE: 8084.36, MAPE: 51.44%\n"
     ]
    },
    {
     "name": "stderr",
     "output_type": "stream",
     "text": [
      "12:51:55 - cmdstanpy - INFO - Chain [1] done processing\n",
      "12:51:55 - cmdstanpy - INFO - Chain [1] start processing\n"
     ]
    },
    {
     "name": "stdout",
     "output_type": "stream",
     "text": [
      "Params: (0.5, 10.0, 'multiplicative', 35, 0.9, 8) | MAE: 1562.24, MAPE: 9.24%\n"
     ]
    },
    {
     "name": "stderr",
     "output_type": "stream",
     "text": [
      "12:51:56 - cmdstanpy - INFO - Chain [1] done processing\n",
      "12:51:56 - cmdstanpy - INFO - Chain [1] start processing\n"
     ]
    },
    {
     "name": "stdout",
     "output_type": "stream",
     "text": [
      "Params: (0.5, 10.0, 'multiplicative', 35, 0.9, 12) | MAE: 1384.49, MAPE: 9.27%\n",
      "\n",
      "Best Params: (0.1, 0.1, 'multiplicative', 30, 0.85, 12)\n",
      "Best MAE: 905.89, MAPE: 5.55%\n"
     ]
    },
    {
     "name": "stderr",
     "output_type": "stream",
     "text": [
      "12:51:57 - cmdstanpy - INFO - Chain [1] done processing\n"
     ]
    }
   ],
   "source": [
    "import pandas as pd\n",
    "import numpy as np\n",
    "from prophet import Prophet\n",
    "from sklearn.metrics import mean_absolute_error\n",
    "from itertools import product\n",
    "import matplotlib.pyplot as plt\n",
    "import warnings\n",
    "warnings.filterwarnings(\"ignore\")\n",
    "\n",
    "# Load data\n",
    "df = pd.read_csv('cast.csv').drop(columns=['Unnamed: 0'])\n",
    "df['ds'] = pd.to_datetime(df['ds'], format='%Y-%m-%d')\n",
    "\n",
    "# Generate synthetic regressors\n",
    "np.random.seed(42)\n",
    "df['holiday_index'] = np.random.uniform(0, 1, len(df))\n",
    "df['macro_factor'] = np.random.uniform(0, 1, len(df))\n",
    "\n",
    "# Train-test split\n",
    "df_train = df[(df['ds'] >= '2021-02-05') & (df['ds'] <= '2023-12-31')]\n",
    "df_test = df[(df['ds'] >= '2024-01-01') & (df['ds'] <= '2025-02-04')]\n",
    "\n",
    "# Enhanced parameter grid\n",
    "param_grid = {\n",
    "    'changepoint_prior_scale': [0.001, 0.01, 0.1, 0.5],\n",
    "    'seasonality_prior_scale': [0.01, 0.1, 1.0, 10.0],\n",
    "    'seasonality_mode': ['additive', 'multiplicative'],\n",
    "    'n_changepoints': [25, 30, 35],\n",
    "    'changepoint_range': [0.85, 0.9],\n",
    "    'yearly_fourier_order': [8, 12]  # New parameter for custom seasonality    \n",
    "}\n",
    "\n",
    "# Performance metric calculation\n",
    "def mean_absolute_percentage_error(y_true, y_pred):\n",
    "    return np.mean(np.abs((y_true - y_pred) / y_true)) * 100\n",
    "\n",
    "best_mae = float(\"inf\")\n",
    "best_params = None\n",
    "best_model = None\n",
    "\n",
    "# Grid search implementation\n",
    "for params in product(*param_grid.values()):\n",
    "    try:\n",
    "        # Unpack parameters\n",
    "        (cps, sps, smode, ncp, crange, yfourier) = params\n",
    "        \n",
    "        # Initialize model with current parameters\n",
    "        model = Prophet(\n",
    "            changepoint_prior_scale=cps,\n",
    "            seasonality_prior_scale=sps,\n",
    "            seasonality_mode=smode,\n",
    "            n_changepoints=ncp,\n",
    "            changepoint_range=crange,\n",
    "            yearly_seasonality=False  # Disable default yearly seasonality\n",
    "        )\n",
    "        \n",
    "        # Add custom seasonality with specified Fourier order\n",
    "        model.add_seasonality(\n",
    "            name='yearly',\n",
    "            period=365.25,\n",
    "            fourier_order=yfourier\n",
    "        )\n",
    "        \n",
    "        # Add regressors\n",
    "        model.add_regressor('holiday_index')\n",
    "        model.add_regressor('macro_factor')\n",
    "        \n",
    "        # Fit model\n",
    "        model.fit(df_train)\n",
    "        \n",
    "        # Create future dataframe\n",
    "        future = model.make_future_dataframe(periods=len(df_test), include_history=False)\n",
    "        future['holiday_index'] = df_test['holiday_index'].values\n",
    "        future['macro_factor'] = df_test['macro_factor'].values\n",
    "        \n",
    "        # Generate predictions\n",
    "        forecast = model.predict(future)\n",
    "        results = pd.merge(df_test, forecast[['ds', 'yhat']], on='ds')\n",
    "        \n",
    "        # Calculate metrics\n",
    "        mae = mean_absolute_error(results['y'], results['yhat'])\n",
    "        mape = mean_absolute_percentage_error(results['y'], results['yhat'])\n",
    "        \n",
    "        print(f\"Params: {params} | MAE: {mae:.2f}, MAPE: {mape:.2f}%\")\n",
    "        \n",
    "        if mae < best_mae:\n",
    "            best_mae = mae\n",
    "            best_mape = mape\n",
    "            best_params = params\n",
    "            best_model = model\n",
    "            \n",
    "    except Exception as e:\n",
    "        print(f\"Error with params {params}: {str(e)}\")\n",
    "        continue\n",
    "\n",
    "print(f\"\\nBest Params: {best_params}\")\n",
    "print(f\"Best MAE: {best_mae:.2f}, MAPE: {best_mape:.2f}%\")\n",
    "\n",
    "# Final model training and forecasting\n",
    "full_model = Prophet(\n",
    "    changepoint_prior_scale=best_params[0],\n",
    "    seasonality_prior_scale=best_params[1],\n",
    "    seasonality_mode=best_params[2],\n",
    "    n_changepoints=best_params[3],\n",
    "    changepoint_range=best_params[4],\n",
    "    yearly_seasonality=False\n",
    ").add_seasonality(\n",
    "    name='yearly',\n",
    "    period=365.25,\n",
    "    fourier_order=best_params[5]\n",
    ").add_regressor('holiday_index').add_regressor('macro_factor')\n",
    "\n",
    "full_model.fit(df)\n",
    "\n",
    "# Create 1-year future dataframe\n",
    "future = full_model.make_future_dataframe(periods=365, freq='D')\n",
    "future['holiday_index'] = np.random.uniform(0, 1, len(future))  # Replace with actual data\n",
    "future['macro_factor'] = np.random.uniform(0, 1, len(future))   # Replace with actual data\n",
    "\n",
    "# Generate forecast\n",
    "forecast = full_model.predict(future)"
   ]
  },
  {
   "cell_type": "code",
   "execution_count": 33,
   "id": "a93053dd-b36f-4d02-8157-5e6b099b6b50",
   "metadata": {},
   "outputs": [
    {
     "data": {
      "image/png": "[encoded data removed]",
      "text/plain": [
       "<Figure size 1400x800 with 1 Axes>"
      ]
     },
     "metadata": {},
     "output_type": "display_data"
    }
   ],
   "source": [
    "import matplotlib.pyplot as plt\n",
    "\n",
    "# Find the last point of historical data\n",
    "last_historical_date = df['ds'].max()\n",
    "last_historical_value = df.loc[df['ds'] == last_historical_date, 'y'].values[0]\n",
    "\n",
    "# Add the last historical point to the forecast for smooth transition\n",
    "one_year_forecast = forecast[forecast['ds'] > last_historical_date]\n",
    "smooth_forecast = pd.concat([\n",
    "    pd.DataFrame({'ds': [last_historical_date], 'yhat': [last_historical_value]}),\n",
    "    one_year_forecast[['ds', 'yhat']]\n",
    "])\n",
    "\n",
    "# Visualization: Historical and Forecasted Data\n",
    "plt.figure(figsize=(14, 8))\n",
    "\n",
    "# Plot historical data\n",
    "plt.plot(df['ds'], df['y'], label='Historical Data', color='blue')\n",
    "\n",
    "# Plot 1-year forecast with a smooth transition\n",
    "plt.plot(smooth_forecast['ds'], smooth_forecast['yhat'], label='1-Year Forecast', color='red')\n",
    "\n",
    "# # Add confidence intervals for the forecast\n",
    "# plt.fill_between(\n",
    "#     one_year_forecast['ds'], \n",
    "#     one_year_forecast['yhat_lower'], \n",
    "#     one_year_forecast['yhat_upper'], \n",
    "#     color='pink', alpha=0.3, label='Uncertainty Interval'\n",
    "# )\n",
    "\n",
    "# Add title, labels, and legend\n",
    "plt.title('1-Year Stock Price Forecast', fontsize=16)\n",
    "plt.xlabel('Date', fontsize=12)\n",
    "plt.ylabel('Stock Price', fontsize=12)\n",
    "plt.legend()\n",
    "plt.grid(True, linestyle='--', alpha=0.6)\n",
    "plt.tight_layout()\n",
    "plt.show()\n"
   ]
  },
  {
   "cell_type": "code",
   "execution_count": 34,
   "id": "f924e539-e9d0-415d-8fdb-108973d7b096",
   "metadata": {},
   "outputs": [
    {
     "data": {
      "image/png": "[encoded data removed]",
      "text/plain": [
       "<Figure size 1400x800 with 1 Axes>"
      ]
     },
     "metadata": {},
     "output_type": "display_data"
    }
   ],
   "source": [
    "import matplotlib.pyplot as plt\n",
    "import matplotlib.dates as mdates\n",
    "\n",
    "# Visualization of 1-Year Ahead Prediction with Monthly X-Ticks\n",
    "plt.figure(figsize=(14, 8))\n",
    "\n",
    "# Plot 1-year forecast\n",
    "plt.plot(one_year_forecast['ds'], one_year_forecast['yhat'], label='1-Year Forecast', color='red')\n",
    "\n",
    "# Add title and labels\n",
    "plt.title('1-Year Stock Price Forecast', fontsize=16)\n",
    "plt.xlabel('Date', fontsize=12)\n",
    "plt.ylabel('Stock Price', fontsize=12)\n",
    "\n",
    "# Add x-ticks for every month\n",
    "plt.gca().xaxis.set_major_locator(mdates.MonthLocator())  # Major ticks: every month\n",
    "plt.gca().xaxis.set_major_formatter(mdates.DateFormatter('%b %Y'))  # Format as \"Month Year\"\n",
    "plt.xticks(rotation=45, fontsize=10)\n",
    "\n",
    "# Add legend and grid\n",
    "plt.legend()\n",
    "plt.grid(True, linestyle='--', alpha=0.6)\n",
    "plt.tight_layout()\n",
    "\n",
    "# Show the plot\n",
    "plt.show()"
   ]
  },
  {
   "cell_type": "code",
   "execution_count": 52,
   "id": "7178c688-e270-4a8e-974a-cfb21bce8f84",
   "metadata": {},
   "outputs": [
    {
     "data": {
      "image/png": "[encoded data removed]",
      "text/plain": [
       "<Figure size 1400x800 with 1 Axes>"
      ]
     },
     "metadata": {},
     "output_type": "display_data"
    }
   ],
   "source": [
    "import matplotlib.pyplot as plt\n",
    "\n",
    "# Visualization: Training Data, Validation Data vs Predicted Data\n",
    "plt.figure(figsize=(14, 8))\n",
    "\n",
    "# Plot training data\n",
    "plt.plot(df_train['ds'], df_train['y'], label='Training Data', color='green', linewidth=2)\n",
    "\n",
    "# Plot validation data (actual values)\n",
    "plt.plot(df_test['ds'], df_test['y'], label='Validation Data (Actual)', color='blue', linewidth=2)\n",
    "\n",
    "# Plot predicted values for the validation period\n",
    "plt.plot(validation_forecast['ds'], validation_forecast['yhat'], label='Predicted Data', color='red', linestyle='--', linewidth=2)\n",
    "\n",
    "# Add title, labels, and legend\n",
    "plt.title('Training Data, Validation Data vs Predicted Data', fontsize=16)\n",
    "plt.xlabel('Date', fontsize=12)\n",
    "plt.ylabel('Stock Price', fontsize=12)\n",
    "plt.legend()\n",
    "plt.grid(True, linestyle='--', alpha=0.7)\n",
    "plt.tight_layout()\n",
    "\n",
    "# Show the plot\n",
    "plt.show()\n"
   ]
  },
  {
   "cell_type": "code",
   "execution_count": null,
   "id": "127fb26b-d0cf-4c61-9f3f-eea2a875a2b6",
   "metadata": {},
   "outputs": [],
   "source": [
    "forecast[['ds', 'yhat']].tail(10)"
   ]
  },
  {
   "cell_type": "markdown",
   "id": "27894540-8192-48f8-a9ef-32a076ed0388",
   "metadata": {},
   "source": [
    "`Insight`"
   ]
  },
  {
   "attachments": {},
   "cell_type": "markdown",
   "id": "6cfd2edb-bd22-4e60-9933-8612f58ec039",
   "metadata": {},
   "source": [
    "Added MAPE calculation for comprehensive error evaluation\n",
    "\n",
    "Enhanced parameter grid with:\n",
    "\n",
    "Changepoint range adjustment\n",
    "\n",
    "Custom yearly seasonality with Fourier order tuning\n",
    "\n",
    "More granular parameter options\n",
    "\n",
    "Implemented proper future forecasting with:\n",
    "\n",
    "Full dataset training for final model\n",
    "\n",
    "365-day forecast period\n",
    "\n",
    "Synthetic regressor generation (replace with real data in practice)"
   ]
  },
  {
   "cell_type": "code",
   "execution_count": 38,
   "id": "52b3dc61-f140-4622-8ea2-07fcb2409c8e",
   "metadata": {},
   "outputs": [
    {
     "data": {
      "image/png": "[encoded data removed]",
      "text/plain": [
       "<Figure size 1400x700 with 1 Axes>"
      ]
     },
     "metadata": {},
     "output_type": "display_data"
    },
    {
     "data": {
      "image/png": "[encoded data removed]",
      "text/plain": [
       "<Figure size 1400x700 with 1 Axes>"
      ]
     },
     "metadata": {},
     "output_type": "display_data"
    }
   ],
   "source": [
    "# # Visualization 1: Validation vs Predicted Trend (Test Period)\n",
    "# plt.figure(figsize=(14, 7))\n",
    "# # Plot training data\n",
    "# plt.plot(df_train['ds'], df_train['y'], label='Training Data', color='blue', alpha=0.6)\n",
    "# # Plot actual test values\n",
    "# plt.plot(df_test['ds'], df_test['y'], label='Actual Values', color='green', alpha=0.6)\n",
    "# # Plot predicted values\n",
    "# plt.plot(results['ds'], results['yhat'], label='Predicted Values', color='red', linestyle='--')\n",
    "# plt.axvline(pd.to_datetime('2024-01-01'), color='gray', linestyle='--', label='Train/Test Split')\n",
    "# plt.title('Validation vs Predicted Trend')\n",
    "# plt.xlabel('Date')\n",
    "# plt.ylabel('Value')\n",
    "# plt.legend()\n",
    "# plt.grid(True)\n",
    "# plt.show()\n",
    "\n",
    "# # Visualization 2: 1-Year Ahead Forecast\n",
    "# plt.figure(figsize=(14, 7))\n",
    "# # Plot historical data\n",
    "# plt.plot(df['ds'], df['y'], label='Historical Data', color='blue')\n",
    "# # Plot forecast\n",
    "# plt.plot(forecast['ds'], forecast['yhat'], label='Forecast', color='orange')\n",
    "# # Plot uncertainty interval\n",
    "# plt.fill_between(forecast['ds'], forecast['yhat_lower'], forecast['yhat_upper'], \n",
    "#                  color='orange', alpha=0.2, label='Uncertainty Interval')\n",
    "# plt.axvline(df['ds'].max(), color='gray', linestyle='--', label='Forecast Start')\n",
    "# plt.title('1-Year Ahead Forecast')\n",
    "# plt.xlabel('Date')\n",
    "# plt.ylabel('Value')\n",
    "# plt.legend()\n",
    "# plt.grid(True)\n",
    "# plt.show()"
   ]
  },
  {
   "cell_type": "code",
   "execution_count": null,
   "id": "2f0b7ac8-9705-45b7-9261-fd63c0aea32d",
   "metadata": {},
   "outputs": [],
   "source": [
    "# df['rolling_mean'] = df['y'].rolling(window=30).mean()  # 30-day moving average\n",
    "# df['rolling_std'] = df['y'].rolling(window=30).std()    # 30-day volatility\n",
    "\n",
    "# plt.figure(figsize=(12,6))\n",
    "# plt.plot(df['ds'], df['y'], label='Stock Price', alpha=0.5)\n",
    "# plt.plot(df['ds'], df['rolling_mean'], label='30-day Moving Average', color='red')\n",
    "# plt.fill_between(df['ds'], df['rolling_mean'] - df['rolling_std'], df['rolling_mean'] + df['rolling_std'], \n",
    "#                  color='gray', alpha=0.3, label='Rolling Volatility')\n",
    "# plt.title('Stock Price with Moving Average & Volatility')\n",
    "# plt.xlabel('Date')\n",
    "# plt.ylabel('Stock Price')\n",
    "# plt.legend()\n",
    "# plt.grid()\n",
    "# plt.show()\n"
   ]
  },
  {
   "cell_type": "code",
   "execution_count": null,
   "id": "bdfda18a-8b49-4bac-9e15-17f58487cefe",
   "metadata": {},
   "outputs": [],
   "source": [
    "# import seaborn as sns\n",
    "\n",
    "# # Extract month from datetime column\n",
    "# df['month'] = df['ds'].dt.month\n",
    "\n",
    "# # Create boxplot for stock price per month\n",
    "# plt.figure(figsize=(12,6))\n",
    "# sns.boxplot(x=df['month'], y=df['y'], palette='coolwarm')\n",
    "# plt.title('Stock Price Distribution by Month')\n",
    "# plt.xlabel('Month')\n",
    "# plt.ylabel('Stock Price')\n",
    "# plt.grid()\n",
    "# plt.show()\n"
   ]
  },
  {
   "cell_type": "code",
   "execution_count": null,
   "id": "11b20db0-4aee-4972-86bc-2905ebff6f92",
   "metadata": {},
   "outputs": [],
   "source": [
    "# from statsmodels.tsa.seasonal import seasonal_decompose\n",
    "\n",
    "# # Decompose the stock price time series\n",
    "# decomposition = seasonal_decompose(df.set_index('ds')['y'], period=365, model='additive')\n",
    "\n",
    "# # Plot trend, seasonality, and residuals\n",
    "# plt.figure(figsize=(10,8))\n",
    "\n",
    "# plt.subplot(3,1,1)\n",
    "# plt.plot(decomposition.trend, label='Trend')\n",
    "# plt.legend()\n",
    "\n",
    "# plt.subplot(3,1,2)\n",
    "# plt.plot(decomposition.seasonal, label='Seasonality', color='green')\n",
    "# plt.legend()\n",
    "\n",
    "# plt.subplot(3,1,3)\n",
    "# plt.plot(decomposition.resid, label='Residuals', color='red')\n",
    "# plt.legend()\n",
    "\n",
    "# plt.suptitle('Time Series Decomposition')\n",
    "# plt.show()"
   ]
  },
  {
   "cell_type": "code",
   "execution_count": null,
   "id": "9ea2447e-29c4-4e02-97f6-2d9bb8e31d51",
   "metadata": {},
   "outputs": [],
   "source": []
  }
 ],
 "metadata": {
  "kernelspec": {
   "display_name": "Python 3 (ipykernel)",
   "language": "python",
   "name": "python3"
  },
  "language_info": {
   "codemirror_mode": {
    "name": "ipython",
    "version": 3
   },
   "file_extension": ".py",
   "mimetype": "text/x-python",
   "name": "python",
   "nbconvert_exporter": "python",
   "pygments_lexer": "ipython3",
   "version": "3.12.3"
  }
 },
 "nbformat": 4,
 "nbformat_minor": 5
}
